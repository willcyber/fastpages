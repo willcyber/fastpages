{
 "cells": [
  {
   "attachments": {},
   "cell_type": "markdown",
   "metadata": {},
   "source": [
    "# DOM\n",
    "- toc: true \n",
    "- badges: true\n",
    "- comments: true\n",
    "- categories: [tri3]\n",
    "- image: images/chart-preview.png"
   ]
  },
  {
   "attachments": {},
   "cell_type": "markdown",
   "metadata": {},
   "source": [
    "## What is it\n",
    "- stands for Document Object Model\n",
    "- gives JS the power for dynamic HTML\n",
    "    - change all the HTML elements\n",
    "    - change all the HTML attributes\n",
    "    - change all the CSS styles\n",
    "    - remove existing HTML elements and attributes\n",
    "    - add new HTML elements and attributes\n",
    "    - react to all existing HTML events in the page (event listeners)\n",
    "    - create new HTML events in the page"
   ]
  }
 ],
 "metadata": {
  "language_info": {
   "name": "python"
  },
  "orig_nbformat": 4
 },
 "nbformat": 4,
 "nbformat_minor": 2
}
