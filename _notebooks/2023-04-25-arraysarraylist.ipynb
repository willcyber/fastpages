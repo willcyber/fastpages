{
 "cells": [
  {
   "attachments": {},
   "cell_type": "markdown",
   "metadata": {},
   "source": [
    "# Arrays and Arraylists\n",
    "- toc: true \n",
    "- badges: true\n",
    "- comments: true\n",
    "- categories: [tri3]\n",
    "- image: images/chart-preview.png"
   ]
  },
  {
   "attachments": {},
   "cell_type": "markdown",
   "metadata": {},
   "source": [
    "## 2018"
   ]
  },
  {
   "attachments": {},
   "cell_type": "markdown",
   "metadata": {},
   "source": [
    "4a"
   ]
  },
  {
   "cell_type": "code",
   "execution_count": null,
   "metadata": {
    "vscode": {
     "languageId": "java"
    }
   },
   "outputs": [],
   "source": [
    "int[] fill = new int[arr2D.length];\n",
    "for (int i=0; i<arr2D.length; i++) {\n",
    "    fill[i] = arr2D[i][c];\n",
    "}\n",
    "return fill;"
   ]
  },
  {
   "attachments": {},
   "cell_type": "markdown",
   "metadata": {},
   "source": [
    "4b\n",
    "first row no dup vales\n",
    "all values in first row apear in each row\n",
    "allvalues in first row appear in each column"
   ]
  },
  {
   "cell_type": "code",
   "execution_count": 6,
   "metadata": {
    "vscode": {
     "languageId": "java"
    }
   },
   "outputs": [
    {
     "ename": "CompilationException",
     "evalue": "",
     "output_type": "error",
     "traceback": [
      "\u001b[1m\u001b[30m|   \u001b[1m\u001b[30m    if (\u001b[0m\u001b[1m\u001b[30m\u001b[41mthis\u001b[0m\u001b[1m\u001b[30m.containsDuplicates(square[0])) {\u001b[0m",
      "\u001b[1m\u001b[31mnon-static variable this cannot be referenced from a static context\u001b[0m",
      "",
      "\u001b[1m\u001b[30m|   \u001b[1m\u001b[30m    if (\u001b[0m\u001b[1m\u001b[30m\u001b[41mthis.containsDuplicates\u001b[0m\u001b[1m\u001b[30m(square[0])) {\u001b[0m",
      "\u001b[1m\u001b[31mcannot find symbol\u001b[0m",
      "\u001b[1m\u001b[31m  symbol: method containsDuplicates(int[])\u001b[0m",
      "",
      "\u001b[1m\u001b[30m|   \u001b[1m\u001b[30mif (!\u001b[0m\u001b[1m\u001b[30m\u001b[41mhasAllValues\u001b[0m\u001b[1m\u001b[30m(square[0], square[r])) {\u001b[0m",
      "\u001b[1m\u001b[31mcannot find symbol\u001b[0m",
      "\u001b[1m\u001b[31m  symbol:   method hasAllValues(int[],int[])\u001b[0m",
      "",
      "\u001b[1m\u001b[30m|   \u001b[1m\u001b[30m   if (!\u001b[0m\u001b[1m\u001b[30m\u001b[41mthis\u001b[0m\u001b[1m\u001b[30m.hasAllValues(square[0], getColumn(square, i))) {\u001b[0m",
      "\u001b[1m\u001b[31mnon-static variable this cannot be referenced from a static context\u001b[0m",
      "",
      "\u001b[1m\u001b[30m|   \u001b[1m\u001b[30m   if (!this.hasAllValues(square[0], \u001b[0m\u001b[1m\u001b[30m\u001b[41mgetColumn\u001b[0m\u001b[1m\u001b[30m(square, i))) {\u001b[0m",
      "\u001b[1m\u001b[31mcannot find symbol\u001b[0m",
      "\u001b[1m\u001b[31m  symbol:   method getColumn(int[][],int)\u001b[0m",
      ""
     ]
    }
   ],
   "source": [
    "\n",
    "if (containsDuplicates(square[0])) {\n",
    "    return false;\n",
    "}\n",
    "\n",
    "for (int r = 1; r < square.length; r++) {\n",
    "if (!hasAllValues(square[0], square[r])) {\n",
    "return false;\n",
    "}\n",
    "}\n",
    " \n",
    "for (int i=0; i<square[0].length; i++) {\n",
    "   if (!hasAllValues(square[0], getColumn(square, i))) {\n",
    "    return false;\n",
    "}\n",
    "}\n",
    "\n",
    "return true;\n"
   ]
  }
 ],
 "metadata": {
  "kernelspec": {
   "display_name": "Java",
   "language": "java",
   "name": "java"
  },
  "language_info": {
   "codemirror_mode": "java",
   "file_extension": ".jshell",
   "mimetype": "text/x-java-source",
   "name": "Java",
   "pygments_lexer": "java",
   "version": "17.0.5+8-Ubuntu-2ubuntu120.04"
  },
  "orig_nbformat": 4
 },
 "nbformat": 4,
 "nbformat_minor": 2
}
