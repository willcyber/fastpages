{
 "cells": [
  {
   "attachments": {},
   "cell_type": "markdown",
   "metadata": {},
   "source": [
    "# Arrays and Arraylists\n",
    "- toc: true \n",
    "- badges: true\n",
    "- comments: true\n",
    "- categories: [tri3]\n",
    "- image: images/chart-preview.png"
   ]
  },
  {
   "attachments": {},
   "cell_type": "markdown",
   "metadata": {},
   "source": [
    "## 2018"
   ]
  },
  {
   "attachments": {},
   "cell_type": "markdown",
   "metadata": {},
   "source": [
    "4a"
   ]
  },
  {
   "cell_type": "code",
   "execution_count": null,
   "metadata": {
    "vscode": {
     "languageId": "java"
    }
   },
   "outputs": [],
   "source": [
    "int[] fill = new int[arr2D.length];\n",
    "for (int i=0; i<arr2D.length; i++) {\n",
    "    fill[i] = arr2D[i][c];\n",
    "}\n",
    "return fill;"
   ]
  },
  {
   "attachments": {},
   "cell_type": "markdown",
   "metadata": {},
   "source": [
    "4b\n",
    "first row no dup vales\n",
    "all values in first row apear in each row\n",
    "allvalues in first row appear in each column"
   ]
  },
  {
   "cell_type": "code",
   "execution_count": null,
   "metadata": {
    "vscode": {
     "languageId": "java"
    }
   },
   "outputs": [],
   "source": [
    "int[] row = new int[array2D[0].length];\n",
    "int[] row2 = new int[array2D[0].length];\n",
    "for (int i=0; i<array2D[0].length; i++) {\n",
    "    row[] = array2D[0][i];\n",
    "}\n",
    "if (!this.containsDuplicates(row[])) {\n",
    "    return false;\n",
    "}\n",
    "\n",
    "for (int i=0; i<arr2D.length; i++) {\n",
    "    for (int j=0; j<array2D[0].length; j++) {\n",
    "        row2[] = array2D[i][j];\n",
    "        if (!this.hasallValues(row[], row2[])) {\n",
    "            return false;\n",
    "        }\n",
    "    }\n",
    "}\n",
    "//add for loop and do the getcolumn thing\n",
    "if (!this.)"
   ]
  }
 ],
 "metadata": {
  "kernelspec": {
   "display_name": "Java",
   "language": "java",
   "name": "java"
  },
  "language_info": {
   "codemirror_mode": "java",
   "file_extension": ".jshell",
   "mimetype": "text/x-java-source",
   "name": "Java",
   "pygments_lexer": "java",
   "version": "17.0.5+8-Ubuntu-2ubuntu120.04"
  },
  "orig_nbformat": 4
 },
 "nbformat": 4,
 "nbformat_minor": 2
}
