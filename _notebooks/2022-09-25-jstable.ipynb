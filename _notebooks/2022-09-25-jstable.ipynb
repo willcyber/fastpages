{
 "cells": [
  {
   "cell_type": "markdown",
   "metadata": {},
   "source": [
    "# Javascript Table\n",
    "- toc: true \n",
    "- badges: true\n",
    "- comments: true\n",
    "- categories: [jupyter]\n",
    "- image: images/chart-preview.png"
   ]
  },
  {
   "cell_type": "code",
   "execution_count": 4,
   "metadata": {},
   "outputs": [
    {
     "data": {
      "text/plain": [
       "'<table><tr><td>Name</td><td>Age</td><td>Role</td></tr><tr><td>Vidhi Kulkarni</td><td>16</td><td>Scrum Master</td></tr><tr><td>Lily Wu</td><td>16</td><td>DevOps</td></tr><tr><td>Riya Patil</td><td>16</td><td>Frontend</td></tr><tr><td>William Wu</td><td>16</td><td>Backend</td></tr></table>'"
      ]
     },
     "execution_count": 4,
     "metadata": {},
     "output_type": "execute_result"
    }
   ],
   "source": [
    "    function TeamMembers(name, age, role) {\n",
    "    this.name = name;\n",
    "    this.age = age;\n",
    "    this.role = role;\n",
    "    }\n",
    "\n",
    "    var team = [\n",
    "        new TeamMembers(\"Vidhi Kulkarni\", 16, \"Scrum Master\"),\n",
    "        new TeamMembers(\"Lily Wu\", 16, \"DevOps\"),\n",
    "        new TeamMembers(\"Riya Patil\", 16, \"Frontend\"),\n",
    "        new TeamMembers(\"William Wu\", 16, \"Backend\")\n",
    "    ];\n",
    "\n",
    "    function Combine(team) {\n",
    "        this.team = team;\n",
    "        this.combine = [];\n",
    "        this.team.forEach(people => {this.combine.push(people);});\n",
    "    }\n",
    "\n",
    "    printTeam = new Combine(team);\n",
    "\n",
    "    var outputHTML = \"\";\n",
    "    outputHTML += \"<table>\";\n",
    "    outputHTML += \"<tr>\";\n",
    "    outputHTML += \"<td>\" + \"Name\" + \"</td>\";\n",
    "    outputHTML += \"<td>\" + \"Age\" + \"</td>\";\n",
    "    outputHTML += \"<td>\" + \"Role\" + \"</td>\";\n",
    "    outputHTML += \"</tr>\";\n",
    "\n",
    "    var week = 0;\n",
    "    for (var row of printTeam.combine) {\n",
    "        outputHTML += \"<tr>\";\n",
    "        outputHTML += \"<td>\" + row.name + \"</td>\";\n",
    "        outputHTML += \"<td>\" + row.age + \"</td>\";\n",
    "        outputHTML += \"<td>\" + row.role + \"</td>\";\n",
    "        outputHTML += \"</tr>\";\n",
    "    }\n",
    "    outputHTML += \"</table>\";\n",
    "\n"
   ]
  }
 ],
 "metadata": {
  "kernelspec": {
   "display_name": "JavaScript (Node.js)",
   "language": "javascript",
   "name": "javascript"
  },
  "language_info": {
   "file_extension": ".js",
   "mimetype": "application/javascript",
   "name": "javascript",
   "version": "6.11.2"
  },
  "orig_nbformat": 4
 },
 "nbformat": 4,
 "nbformat_minor": 2
}
