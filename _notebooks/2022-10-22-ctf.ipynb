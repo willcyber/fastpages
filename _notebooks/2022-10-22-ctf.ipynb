{
 "cells": [
  {
   "cell_type": "code",
   "execution_count": 14,
   "metadata": {},
   "outputs": [
    {
     "name": "stdout",
     "output_type": "stream",
     "text": [
      "picoCTF{r0und_n_r0und_add17ec2}\n"
     ]
    }
   ],
   "source": [
    "message = \"91 322 57 124 40 406 272 147 239 285 353 272 77 110 296 262 299 323 255 337 150 102\"\n",
    "alphabet = string.ascii_lowercase + string.digits + \"_\"\n",
    "FLAG = \"picoCTF{\"\n",
    "for i in message.split():\n",
    "    FLAG += alphabet[int(i) % 37]\n",
    "FLAG += \"}\"\n",
    "print(FLAG)"
   ]
  },
  {
   "cell_type": "code",
   "execution_count": 15,
   "metadata": {},
   "outputs": [
    {
     "name": "stdout",
     "output_type": "stream",
     "text": [
      "Flag: picoCTF{1nv3r53ly_h4rd_8a05d939}\n"
     ]
    }
   ],
   "source": [
    "import string\n",
    "message = \"104 290 356 313 262 337 354 229 146 297 118 373 221 359 338 321 288 79 214 277 131 190 377\"\n",
    "alphabet = string.ascii_lowercase + string.digits + \"_\"\n",
    "FLAG = \"picoCTF{\"\n",
    "for i in message.split():\n",
    "    FLAG += alphabet[pow(int(i), -1, 41) - 1]\n",
    "    #pow(A, power, B)\n",
    "FLAG += \"}\"\n",
    "print(\"Flag:\", FLAG)"
   ]
  },
  {
   "cell_type": "code",
   "execution_count": 12,
   "metadata": {},
   "outputs": [
    {
     "ename": "CompilationException",
     "evalue": "",
     "output_type": "error",
     "traceback": [
      "\u001b[1m\u001b[30m|   \u001b[1m\u001b[30m        boxesOfFood = \u001b[0m\u001b[1m\u001b[30m\u001b[41mupdatedAmountOfFood\u001b[0m\u001b[1m\u001b[30m - eatenBoxes;\u001b[0m",
      "\u001b[1m\u001b[31mcannot find symbol\u001b[0m",
      "\u001b[1m\u001b[31m  symbol:   variable updatedAmountOfFood\u001b[0m",
      "",
      "\u001b[1m\u001b[30m|   \u001b[1m\u001b[30m        boxesOfFood = \u001b[0m\u001b[1m\u001b[30m\u001b[41mupdatedAmountOfFood\u001b[0m\u001b[1m\u001b[30m;\u001b[0m",
      "\u001b[1m\u001b[31mvariable updatedAmountOfFood might not have been initialized\u001b[0m",
      ""
     ]
    }
   ],
   "source": [
    "public class Party\n",
    "{\n",
    "    private int boxesOfFood;\n",
    "    private int numOfPeople;\n",
    "\n",
    "    public Party(int people, int foodBoxes)\n",
    "    {\n",
    "        numOfPeople = people;\n",
    "        boxesOfFood = foodBoxes;\n",
    "    }\n",
    "\n",
    "    public void orderMoreFood( int additionalFoodBoxes)\n",
    "    {\n",
    "        int updatedAmountOfFood;\n",
    "        boxesOfFood = updatedAmountOfFood;\n",
    "}\n",
    "    public void eatFoodBoxes(int eatenBoxes) {\n",
    "        boxesOfFood = updatedAmountOfFood - eatenBoxes;\n",
    "    }\n",
    "}"
   ]
  },
  {
   "cell_type": "code",
   "execution_count": 3,
   "metadata": {},
   "outputs": [
    {
     "ename": "CompilationException",
     "evalue": "",
     "output_type": "error",
     "traceback": [
      "\u001b[1m\u001b[30m|   \u001b[1m\u001b[30m    public static String encrypt(String\u001b[0m\u001b[1m\u001b[30m\u001b[41m\u001b[0m\u001b[1m\u001b[30m \"fergdf\", int 3) {\u001b[0m",
      "\u001b[1m\u001b[31m<identifier> expected\u001b[0m",
      "",
      "\u001b[1m\u001b[30m|   \u001b[1m\u001b[30m    public static String encrypt(String \"fergdf\", int\u001b[0m\u001b[1m\u001b[30m\u001b[41m\u001b[0m\u001b[1m\u001b[30m 3) {\u001b[0m",
      "\u001b[1m\u001b[31m<identifier> expected\u001b[0m",
      ""
     ]
    }
   ],
   "source": []
  }
 ],
 "metadata": {
  "kernelspec": {
   "display_name": "Java",
   "language": "java",
   "name": "java"
  },
  "language_info": {
   "codemirror_mode": "java",
   "file_extension": ".jshell",
   "mimetype": "text/x-java-source",
   "name": "java",
   "pygments_lexer": "java",
   "version": "11.0.16+8-post-Ubuntu-0ubuntu120.04"
  },
  "orig_nbformat": 4
 },
 "nbformat": 4,
 "nbformat_minor": 2
}
