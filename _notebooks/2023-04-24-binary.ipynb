{
 "cells": [
  {
   "attachments": {},
   "cell_type": "markdown",
   "metadata": {},
   "source": [
    "# Binary Sort\n",
    "- toc: true \n",
    "- badges: true\n",
    "- comments: true\n",
    "- categories: [tri3]\n",
    "- image: images/chart-preview.png"
   ]
  },
  {
   "attachments": {},
   "cell_type": "markdown",
   "metadata": {},
   "source": [
    "## Questions\n",
    "- 1. C\n",
    "- 2. C\n",
    "- 3. B\n",
    "- 4. C\n",
    "- 5. D"
   ]
  },
  {
   "attachments": {},
   "cell_type": "markdown",
   "metadata": {},
   "source": [
    "## Hack #1"
   ]
  },
  {
   "cell_type": "code",
   "execution_count": 1,
   "metadata": {
    "vscode": {
     "languageId": "java"
    }
   },
   "outputs": [
    {
     "name": "stdout",
     "output_type": "stream",
     "text": [
      "6\n"
     ]
    }
   ],
   "source": [
    "public class BinarySearch {\n",
    "    private int search(int[] array, int left, int right, int target ) {\n",
    "        // if left index is greater than right or left index is greater than largest index, stop running and return -1\n",
    "        if (left <= right && left < array.length-1) {\n",
    "            // get mid index\n",
    "            int mid = left+(right-1)/2;\n",
    "            if (target == array[mid]) {\n",
    "                // return index if target is found\n",
    "                return mid;\n",
    "            } else if (target < array[mid]) {\n",
    "                // update index to the left and run search again \n",
    "                return search(array, left, mid-1, target);\n",
    "            } else if (target > array[mid]) {\n",
    "                // update index to the right and run search again\n",
    "                return search(array, mid+1, right, target);\n",
    "            }\n",
    "        }\n",
    "        return -1;\n",
    "    }\n",
    "    public int search(int[] array, int target) {\n",
    "        return this.search(array, 0, array.length-1, target);\n",
    "    }\n",
    "    public static void main() {\n",
    "        BinarySearch binary = new BinarySearch();\n",
    "        int[] array = {1, 3, 5, 7, 9, 23, 45, 67};\n",
    "        int index = binary.search(array, 45);\n",
    "        System.out.println(index);\n",
    "    }\n",
    "}\n",
    "BinarySearch.main();"
   ]
  },
  {
   "attachments": {},
   "cell_type": "markdown",
   "metadata": {},
   "source": [
    "## Hack #2"
   ]
  },
  {
   "cell_type": "code",
   "execution_count": 2,
   "metadata": {
    "vscode": {
     "languageId": "java"
    }
   },
   "outputs": [
    {
     "name": "stdout",
     "output_type": "stream",
     "text": [
      "6\n"
     ]
    }
   ],
   "source": [
    "public class UnsortedSearch {\n",
    "    void merge(int arr[], int l, int m, int r) {\n",
    "        int n1 = m - l + 1;\n",
    "        int n2 = r - m;\n",
    "        int[] L = new int[n1];\n",
    "        int[] R = new int[n2];\n",
    "        for (int i = 0; i < n1; ++i)\n",
    "            L[i] = arr[l + i];\n",
    "        for (int j = 0; j < n2; ++j)\n",
    "            R[j] = arr[m + 1 + j];\n",
    "        int i = 0, j = 0;\n",
    "        int k = l;\n",
    "        while (i < n1 && j < n2) {\n",
    "            if (L[i] <= R[j]) {\n",
    "                arr[k] = L[i];\n",
    "                i++;\n",
    "            }\n",
    "            else {\n",
    "                arr[k] = R[j];\n",
    "                j++;\n",
    "            }\n",
    "            k++;\n",
    "        }\n",
    "        while (i < n1) {\n",
    "            arr[k] = L[i];\n",
    "            i++;\n",
    "            k++;\n",
    "        }\n",
    "        while (j < n2) {\n",
    "            arr[k] = R[j];\n",
    "            j++;\n",
    "            k++;\n",
    "        }\n",
    "    }\n",
    "\n",
    "    public void sort(int arr[], int l, int r) {\n",
    "        if (l < r) {\n",
    "            int mid = l + (r - l) / 2;\n",
    "            sort(arr, l, mid);\n",
    "            sort(arr, mid + 1, r);\n",
    "            merge(arr, l, mid, r);\n",
    "        }\n",
    "    }\n",
    "\n",
    "    private int search(int[] array, int target) {\n",
    "        this.sort(array,0,array.length-1);\n",
    "        BinarySearch search = new BinarySearch();\n",
    "        return search.search(array, target);\n",
    "    }\n",
    "    \n",
    "    public static void main() {\n",
    "        UnsortedSearch search = new UnsortedSearch();\n",
    "        int[] array = {5, 6, 3, 1, 8, 9, 4, 7, 2};\n",
    "        int index = search.search(array, 7);\n",
    "        System.out.println(index);\n",
    "    }\n",
    "}\n",
    "UnsortedSearch.main();"
   ]
  }
 ],
 "metadata": {
  "kernelspec": {
   "display_name": "Java",
   "language": "java",
   "name": "java"
  },
  "language_info": {
   "codemirror_mode": "java",
   "file_extension": ".jshell",
   "mimetype": "text/x-java-source",
   "name": "Java",
   "pygments_lexer": "java",
   "version": "17.0.5+8-Ubuntu-2ubuntu120.04"
  },
  "orig_nbformat": 4
 },
 "nbformat": 4,
 "nbformat_minor": 2
}
