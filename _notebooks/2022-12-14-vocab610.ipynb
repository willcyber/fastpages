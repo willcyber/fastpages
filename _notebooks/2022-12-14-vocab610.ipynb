{
 "cells": [
  {
   "attachments": {},
   "cell_type": "markdown",
   "metadata": {},
   "source": [
    "# Unit 6-10 Vocab\n",
    "- toc: true \n",
    "- badges: true\n",
    "- comments: true\n",
    "- categories: [tri2]\n",
    "- image: images/chart-preview.png"
   ]
  },
  {
   "attachments": {},
   "cell_type": "markdown",
   "metadata": {},
   "source": [
    "## Unit 6\n",
    "\n",
    "- Arrays are objects defined by type[] name = new type[size] or initialized with elements using type[] name = new type[]{a,b,c,...}\n",
    "- Loops an enhanced can iterate through arrays\n",
    "- Index goes from 0 to size-1\n",
    "- Algorithms can be used to modify or get info about arrays\n",
    "- By default, each element in the array is value 0"
   ]
  },
  {
   "cell_type": "code",
   "execution_count": 2,
   "metadata": {},
   "outputs": [],
   "source": [
    "int[] arraytest = new int[5];\n",
    "int[] arraytest2 = {10, 9, 5, 2, 4};"
   ]
  },
  {
   "attachments": {},
   "cell_type": "markdown",
   "metadata": {},
   "source": [
    "Bound Errors"
   ]
  },
  {
   "cell_type": "code",
   "execution_count": 6,
   "metadata": {},
   "outputs": [
    {
     "data": {
      "text/plain": [
       "0"
      ]
     },
     "execution_count": 6,
     "metadata": {},
     "output_type": "execute_result"
    }
   ],
   "source": [
    "// good\n",
    "arraytest[3];"
   ]
  },
  {
   "cell_type": "code",
   "execution_count": 5,
   "metadata": {},
   "outputs": [
    {
     "ename": "EvalException",
     "evalue": "Index 5 out of bounds for length 5",
     "output_type": "error",
     "traceback": [
      "\u001b[1m\u001b[31m---------------------------------------------------------------------------\u001b[0m",
      "\u001b[1m\u001b[31mjava.lang.ArrayIndexOutOfBoundsException: Index 5 out of bounds for length 5\u001b[0m",
      "\u001b[1m\u001b[31m\tat .(#17:1)\u001b[0m"
     ]
    }
   ],
   "source": [
    "//bound error\n",
    "arraytest[5];"
   ]
  },
  {
   "attachments": {},
   "cell_type": "markdown",
   "metadata": {},
   "source": [
    "- Uninitialized and Unfilled Arrays - Allocate a single array variable but not the whole array\n",
    "- Traversing an array - incrementing through the array and doing stuff"
   ]
  },
  {
   "cell_type": "code",
   "execution_count": 11,
   "metadata": {},
   "outputs": [
    {
     "name": "stdout",
     "output_type": "stream",
     "text": [
      "10\n",
      "9\n",
      "5\n",
      "2\n",
      "4\n"
     ]
    }
   ],
   "source": [
    "for(int i = 0; i < arraytest2.length; i++){\n",
    "\tSystem.out.println(arraytest2[i]);\n",
    "}"
   ]
  },
  {
   "attachments": {},
   "cell_type": "markdown",
   "metadata": {},
   "source": [
    "## Unit 7\n",
    "- Wrapper class stores prim in objects\n",
    "- make sure to specify the data type\n",
    "- return arraylist using the return command\n",
    "- traverse arraylist through for loops and while loops\n",
    "- get() to get an element\n",
    "- size() to get size\n"
   ]
  },
  {
   "cell_type": "code",
   "execution_count": 12,
   "metadata": {},
   "outputs": [
    {
     "data": {
      "text/plain": [
       "true"
      ]
     },
     "execution_count": 12,
     "metadata": {},
     "output_type": "execute_result"
    }
   ],
   "source": [
    "import java.util.ArrayList;\n",
    "\n",
    "  ArrayList<String> list = new ArrayList<String>();\n",
    "  list.add(\"hi\"); \n",
    "  list.add(\"hey\"); \n",
    "  list.add(\"hello\"); \n",
    "  list.add(\"nice\"); "
   ]
  },
  {
   "cell_type": "code",
   "execution_count": 13,
   "metadata": {},
   "outputs": [
    {
     "name": "stdout",
     "output_type": "stream",
     "text": [
      "[hi, hey, hello, nice]\n"
     ]
    }
   ],
   "source": [
    "System.out.println(list);"
   ]
  },
  {
   "attachments": {},
   "cell_type": "markdown",
   "metadata": {},
   "source": [
    "add(int index, element) "
   ]
  },
  {
   "cell_type": "code",
   "execution_count": 14,
   "metadata": {},
   "outputs": [
    {
     "name": "stdout",
     "output_type": "stream",
     "text": [
      "[hi, test, hey, hello, nice]\n"
     ]
    }
   ],
   "source": [
    "list.add(1, \"test\");\n",
    "System.out.println(list);"
   ]
  },
  {
   "attachments": {},
   "cell_type": "markdown",
   "metadata": {},
   "source": [
    "addAll(int index, Collection collection)"
   ]
  },
  {
   "cell_type": "code",
   "execution_count": 15,
   "metadata": {},
   "outputs": [
    {
     "name": "stdout",
     "output_type": "stream",
     "text": [
      "[apple, orange, grape, pineapple]\n"
     ]
    }
   ],
   "source": [
    "ArrayList<String> list2 = new ArrayList<String>();\n",
    "list2.add(\"apple\"); \n",
    "list2.add(\"orange\"); \n",
    "list2.add(\"grape\"); \n",
    "list2.add(\"pineapple\"); \n",
    "\n",
    "System.out.println(list2);"
   ]
  },
  {
   "cell_type": "code",
   "execution_count": 16,
   "metadata": {},
   "outputs": [
    {
     "name": "stdout",
     "output_type": "stream",
     "text": [
      "[hi, test, hey, apple, orange, grape, pineapple, hello, nice]\n"
     ]
    }
   ],
   "source": [
    "list.addAll(3, list2);\n",
    "System.out.println(list);"
   ]
  },
  {
   "attachments": {},
   "cell_type": "markdown",
   "metadata": {},
   "source": [
    "size()"
   ]
  },
  {
   "cell_type": "code",
   "execution_count": 17,
   "metadata": {},
   "outputs": [
    {
     "data": {
      "text/plain": [
       "9"
      ]
     },
     "execution_count": 17,
     "metadata": {},
     "output_type": "execute_result"
    }
   ],
   "source": [
    "list.size();"
   ]
  },
  {
   "attachments": {},
   "cell_type": "markdown",
   "metadata": {},
   "source": [
    "clear()"
   ]
  },
  {
   "cell_type": "code",
   "execution_count": 18,
   "metadata": {},
   "outputs": [
    {
     "name": "stdout",
     "output_type": "stream",
     "text": [
      "[]\n"
     ]
    }
   ],
   "source": [
    "list2.clear();\n",
    "System.out.println(list2);"
   ]
  },
  {
   "attachments": {},
   "cell_type": "markdown",
   "metadata": {},
   "source": [
    "remove(int index)"
   ]
  },
  {
   "cell_type": "code",
   "execution_count": 19,
   "metadata": {},
   "outputs": [
    {
     "name": "stdout",
     "output_type": "stream",
     "text": [
      "[hi, test, apple, orange, grape, pineapple, hello, nice]\n"
     ]
    }
   ],
   "source": [
    "list.remove(2);\n",
    "System.out.println(list);"
   ]
  },
  {
   "attachments": {},
   "cell_type": "markdown",
   "metadata": {},
   "source": [
    "remove(element)"
   ]
  },
  {
   "cell_type": "code",
   "execution_count": 20,
   "metadata": {},
   "outputs": [
    {
     "name": "stdout",
     "output_type": "stream",
     "text": [
      "[hi, test, apple, orange, grape, pineapple, hello, nice, nice]\n"
     ]
    }
   ],
   "source": [
    "list.add(\"nice\");\n",
    "System.out.println(list);"
   ]
  },
  {
   "attachments": {},
   "cell_type": "markdown",
   "metadata": {},
   "source": [
    "get(int index)"
   ]
  },
  {
   "cell_type": "code",
   "execution_count": 21,
   "metadata": {},
   "outputs": [
    {
     "data": {
      "text/plain": [
       "orange"
      ]
     },
     "execution_count": 21,
     "metadata": {},
     "output_type": "execute_result"
    }
   ],
   "source": [
    "list.get(3);\n",
    "// first element is actually the 0th index"
   ]
  },
  {
   "attachments": {},
   "cell_type": "markdown",
   "metadata": {},
   "source": [
    "set(int index, element)"
   ]
  },
  {
   "cell_type": "code",
   "execution_count": 22,
   "metadata": {},
   "outputs": [
    {
     "name": "stdout",
     "output_type": "stream",
     "text": [
      "[hi, test, apple, orange, grapeskittlessuck?, pineapple, hello, nice, nice]\n"
     ]
    }
   ],
   "source": [
    "list.set(4, new String(\"grapeskittlessuck?\"));\n",
    "System.out.println(list);"
   ]
  },
  {
   "attachments": {},
   "cell_type": "markdown",
   "metadata": {},
   "source": [
    "## Unit 8\n",
    "- Array = a data structure used to implement a collection (list) of primitive or object reference data\n",
    "- Element = a single value in the array\n",
    "- Index = the position of the element in the array (starts from 0)\n",
    "- Array Length = the number of elements in the array\n",
    "- Format: data type[][] name = new data type[num row][num column]"
   ]
  },
  {
   "attachments": {},
   "cell_type": "markdown",
   "metadata": {},
   "source": [
    "Accessing an element"
   ]
  },
  {
   "cell_type": "code",
   "execution_count": 24,
   "metadata": {},
   "outputs": [
    {
     "name": "stdout",
     "output_type": "stream",
     "text": [
      "i\n"
     ]
    }
   ],
   "source": [
    "//Hack 1\n",
    "\n",
    "public class Test {\n",
    "\n",
    "    public static void main(String[] args) {\n",
    " \n",
    "      String[][] arr = {\n",
    "         { \"a\", \"f\", \"g\" },\n",
    "         { \"b\", \"e\", \"h\" },\n",
    "         { \"c\", \"d\", \"i\" }\n",
    "      };\n",
    " \n",
    "      // Print the last element in the array!\n",
    "      System.out.println(arr[2][2]);\n",
    "       \n",
    "    }\n",
    " \n",
    " }\n",
    " Test.main(null);"
   ]
  },
  {
   "attachments": {},
   "cell_type": "markdown",
   "metadata": {},
   "source": [
    "Traverse 2D arrays through Nested Loops"
   ]
  },
  {
   "cell_type": "code",
   "execution_count": 23,
   "metadata": {},
   "outputs": [
    {
     "name": "stdout",
     "output_type": "stream",
     "text": [
      "a f g l  \n",
      "b e h k  \n",
      "c d i j  \n"
     ]
    }
   ],
   "source": [
    "public class Test {\n",
    "\n",
    "    public static void main(String[] args) {\n",
    " \n",
    "      String[][] arr = {\n",
    "         { \"a\", \"f\", \"g\", \"l\" },\n",
    "         { \"b\", \"e\", \"h\", \"k\" },\n",
    "         { \"c\", \"d\", \"i\", \"j\" }\n",
    "      };\n",
    " \n",
    "      for (int row = 0; row < 3; row++) {\n",
    "         for (int col = 0; col < 4; col++) {\n",
    "            System.out.print(arr[row][col] + \" \");\n",
    "         }\n",
    "        System.out.println(\" \");\n",
    "      }\n",
    "       \n",
    "    }\n",
    " \n",
    " }\n",
    " Test.main(null);"
   ]
  },
  {
   "attachments": {},
   "cell_type": "markdown",
   "metadata": {},
   "source": [
    "## Unit 9\n",
    "- Inheritance useful because it is efficeint\n",
    "- don't need to define methods over and over again\n",
    "- extend from base class\n",
    "- base class -> super class\n",
    "- protected is an access modifier so that the attribute isn't affected by outside modifiers\n",
    "- super keyword allows us to use constructors that we define in the superclass\n",
    "- sub and superclass can have some varying attributes\n",
    "- Overriding allows a subclass or child class to provide a specific implementation of a method that has already been provided by a super-classes or parent classes. When a method in a subclass has the same name, same parameters or signature, and same return type (or sub-type) as a method in its super-class, then the method in the subclass will override the method in the super-class"
   ]
  },
  {
   "cell_type": "code",
   "execution_count": 25,
   "metadata": {},
   "outputs": [],
   "source": [
    "public class School {\n",
    "    protected double numberpencil;\n",
    "    protected double numberpapaer;\n",
    "    protected double numberscis;\n",
    "\n",
    "    public School(double numberpencil, double numberpapaer, double numberscis) {\n",
    "        this.numberpencil = numberpencil;\n",
    "        this.numberpapaer = numberpapaer;\n",
    "        this.numberscis = numberscis;\n",
    "    }\n",
    "\n",
    "    public void test() {\n",
    "        System.out.println(\"test\");\n",
    "    }\n",
    "\n",
    "    \n",
    "}"
   ]
  },
  {
   "cell_type": "code",
   "execution_count": 26,
   "metadata": {},
   "outputs": [
    {
     "name": "stdout",
     "output_type": "stream",
     "text": [
      "tets test\n"
     ]
    }
   ],
   "source": [
    "public class Math extends School {\n",
    "    protected double numbercalc;\n",
    "\n",
    "    public Math(double numberpencil, double numberpapaer, double numberscis, double numbercalc) {\n",
    "        // We use the Superclass constructor for the shared attributes through the keyword \"super\"\n",
    "        super(numberpencil, numberpapaer, numberscis);\n",
    "    }\n",
    "        // hornSound is not in the Superclass, so we add it separately in the constructor\n",
    "        \n",
    "        @Override\n",
    "        public void test () {\n",
    "            System.out.println(\"tets test\");\n",
    "        }\n",
    "\n",
    "        public static void main(String[] args) {\n",
    "            // 5 argument constructor\n",
    "            Math william = new Math(2, 3, 1, 5);\n",
    "            william.test();\n",
    "        }\n",
    "\n",
    "    }\n",
    "    Math.main(null);"
   ]
  },
  {
   "attachments": {},
   "cell_type": "markdown",
   "metadata": {},
   "source": [
    "Polymorphism - methods with the same name that take in different parameters"
   ]
  },
  {
   "cell_type": "code",
   "execution_count": null,
   "metadata": {},
   "outputs": [],
   "source": [
    "public void turbo (int a) {\n",
    "    System.out.println(\"Engaging turbo \" + a);\n",
    "}\n",
    "\n",
    "public void turbo (int a, int b) {\n",
    "    System.out.println(\"Engaging turbo \" + a + \" and nitro \" + b);\n",
    "}"
   ]
  },
  {
   "attachments": {},
   "cell_type": "markdown",
   "metadata": {},
   "source": [
    "toString Method - Prints out the attributes of an object. Converts string objects into a string\n",
    "equals Method - Compares two strings"
   ]
  },
  {
   "attachments": {},
   "cell_type": "markdown",
   "metadata": {},
   "source": [
    "## Unit 10\n",
    "- a recursive method is a method that calls itself - a subproblem that calls itself repeatedly\n",
    "- contains a base and recursive call. \n",
    "- the base case is reached where recursion is stopped and a value is returned\n",
    "- base case should be written first to avoid infinite recursion \n",
    "- recursion uses function calls vs. iteration uses for and while loops\n",
    "- binary search - sorted in order to maximize efficiency\n",
    "- Linear recursion - only calls itself once\n",
    "- Selection sort - finds the minimum value\n",
    "- Merge sort - divides the input array into two halves, calls itself for the two halves, and then merges the two sorted halves"
   ]
  },
  {
   "cell_type": "code",
   "execution_count": 30,
   "metadata": {},
   "outputs": [
    {
     "name": "stdout",
     "output_type": "stream",
     "text": [
      "4 factorial = 24\n"
     ]
    }
   ],
   "source": [
    "class Factorial {\n",
    "\n",
    "    static int factorial( int n ) {\n",
    "        if (n != 0)  // termination condition\n",
    "            return n * factorial(n-1); // recursive call\n",
    "        else\n",
    "            return 1;\n",
    "    }\n",
    "\n",
    "    public static void main(String[] args) {\n",
    "        int number = 4, result;\n",
    "        result = factorial(number);\n",
    "        System.out.println(number + \" factorial = \" + result);\n",
    "    }\n",
    "}\n",
    "Factorial.main(null);"
   ]
  }
 ],
 "metadata": {
  "kernelspec": {
   "display_name": "Java",
   "language": "java",
   "name": "java"
  },
  "language_info": {
   "codemirror_mode": "java",
   "file_extension": ".jshell",
   "mimetype": "text/x-java-source",
   "name": "java",
   "pygments_lexer": "java",
   "version": "17.0.5+8-Ubuntu-2ubuntu120.04"
  },
  "orig_nbformat": 4
 },
 "nbformat": 4,
 "nbformat_minor": 2
}
