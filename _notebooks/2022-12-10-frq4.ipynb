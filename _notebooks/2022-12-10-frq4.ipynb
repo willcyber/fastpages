{
 "cells": [
  {
   "attachments": {},
   "cell_type": "markdown",
   "metadata": {},
   "source": [
    "# FRQ4\n",
    "- toc: true \n",
    "- badges: true\n",
    "- comments: true\n",
    "- categories: [tri2]\n",
    "- image: images/chart-preview.png"
   ]
  },
  {
   "cell_type": "code",
   "execution_count": 17,
   "metadata": {},
   "outputs": [],
   "source": [
    "public class LightBoard {\n",
    "    private boolean[] [] lights;\n",
    "\n",
    "    public LightBoard(int numRows, int numCols) {\n",
    "        lights = new boolean[numRows][numCols];\n",
    "        for (int i=0; i<numRows; i++) {\n",
    "            for (int j=0; j<numCols; j++) {\n",
    "                java.util.Random random = new java.util.Random();\n",
    "                double r = random.nextDouble();\n",
    "                if (r < 0.4) {\n",
    "                    lights[i][j] = true;\n",
    "                }\n",
    "                else {\n",
    "                    lights[i][j] = false;\n",
    "                }\n",
    "            }\n",
    "        }\n",
    "    }\n",
    "}"
   ]
  },
  {
   "cell_type": "code",
   "execution_count": null,
   "metadata": {},
   "outputs": [],
   "source": [
    "public boolean evalulateLight(int row, int col) {\n",
    "    \n",
    "}"
   ]
  }
 ],
 "metadata": {
  "kernelspec": {
   "display_name": "Java",
   "language": "java",
   "name": "java"
  },
  "language_info": {
   "codemirror_mode": "java",
   "file_extension": ".jshell",
   "mimetype": "text/x-java-source",
   "name": "java",
   "pygments_lexer": "java",
   "version": "17.0.5+8-Ubuntu-2ubuntu120.04"
  },
  "orig_nbformat": 4
 },
 "nbformat": 4,
 "nbformat_minor": 2
}
