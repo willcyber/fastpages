{
 "cells": [
  {
   "attachments": {},
   "cell_type": "markdown",
   "metadata": {},
   "source": [
    "# CSU notes\n",
    "- toc: true \n",
    "- badges: true\n",
    "- comments: true\n",
    "- categories: [tri3]\n",
    "- image: images/chart-preview.png"
   ]
  },
  {
   "attachments": {},
   "cell_type": "markdown",
   "metadata": {},
   "source": [
    "## Our stories\n",
    "- failed Calc and physics but kept on persuing\n",
    "- got PHD\n",
    "- cal state opened lots of doors\n",
    "- \n",
    "\n",
    "## Fun facts\n",
    "- newer University\n",
    "- new engineer bulding\n",
    "- national leader in social mobility\n",
    "- easy to get internships\n",
    "\n",
    "## Pathways\n",
    "- Chem \n",
    "- biochem\n",
    "- apploed physics\n",
    "- electronics\n",
    "- bio\n",
    "- comp sci\n",
    "- cyber\n",
    "- comp eng\n",
    "\n",
    "## Departments\n",
    "- physics \n",
    "- chem\n",
    "- biotech\n",
    "- math\n",
    "- comp sci\n",
    "\n",
    "## Clubs\n",
    "- cybersecurity club\n",
    "- robotics\n",
    "- 3D printing\n",
    "\n",
    "## Internships\n",
    "- network\n",
    "- join clubs \n",
    "- check emails\n",
    "\n",
    "## Programs\n",
    "- Summer scholars program - do research with a professor\n",
    "- Quantam - $1500 + learn quantaum science\n",
    "\n",
    "## Reflection\n",
    "It was very cool learning each of their journeys and how CSU opened so many doors. Although I don't plan on going to CSU, I learned lots of great advice on loans and scholarships. It was also interesting learning how much their internships paid them. Overall, this was a cool oppurtunity to learn about the college experiece from current college students!"
   ]
  },
  {
   "attachments": {},
   "cell_type": "markdown",
   "metadata": {},
   "source": [
    "\n"
   ]
  }
 ],
 "metadata": {
  "language_info": {
   "name": "python"
  },
  "orig_nbformat": 4
 },
 "nbformat": 4,
 "nbformat_minor": 2
}
