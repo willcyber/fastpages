{
 "cells": [
  {
   "attachments": {},
   "cell_type": "markdown",
   "metadata": {},
   "source": [
    "# CSU notes\n",
    "- toc: true \n",
    "- badges: true\n",
    "- comments: true\n",
    "- categories: [tri3]\n",
    "- image: images/chart-preview.png"
   ]
  },
  {
   "attachments": {},
   "cell_type": "markdown",
   "metadata": {},
   "source": [
    "## Our stories\n",
    "- failed Calc and physics but kept on persuing\n",
    "- got PHD\n",
    "- cal state opened lots of doors\n",
    "- \n",
    "\n",
    "## Fun facts\n",
    "- newer University\n",
    "- new engineer bulding\n",
    "- national leader in social mobility\n",
    "- easy to get internships\n",
    "\n",
    "## Pathways\n",
    "- Chem \n",
    "- biochem\n",
    "- apploed physics\n",
    "- electronics\n",
    "- bio\n",
    "- comp sci\n",
    "- cyber\n",
    "- comp eng\n",
    "\n",
    "## Departments\n",
    "- physics \n",
    "- chem\n",
    "- biotech\n",
    "- math\n",
    "- comp sci\n",
    "\n",
    "## Clubs\n",
    "- cybersecurity club\n",
    "- robotics\n",
    "- 3D printing\n",
    "\n",
    "## Internships\n",
    "- network\n",
    "- join clubs \n",
    "- check emails\n"
   ]
  }
 ],
 "metadata": {
  "language_info": {
   "name": "python"
  },
  "orig_nbformat": 4
 },
 "nbformat": 4,
 "nbformat_minor": 2
}
