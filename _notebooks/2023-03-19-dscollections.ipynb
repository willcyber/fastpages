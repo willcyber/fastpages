{
 "cells": [
  {
   "attachments": {},
   "cell_type": "markdown",
   "metadata": {},
   "source": [
    "# Data Collections Hacks\n",
    "- toc: true \n",
    "- badges: true\n",
    "- comments: true\n",
    "- categories: [tri3]\n",
    "- image: images/chart-preview.png"
   ]
  },
  {
   "attachments": {},
   "cell_type": "markdown",
   "metadata": {},
   "source": [
    "## CB Vid\n",
    "- An access modifier is a keyword that determines the accessibility of a class, method, or variable. In Java, there are four access modifiers: public, protected, private, and default. Public classes, methods, and variables can be accessed from anywhere, while private ones can only be accessed within the same class. Protected ones can be accessed within the same package or through inheritance, and default ones can be accessed within the same package.\n",
    "- A constructor is a special method that is used to initialize objects of a class. It has the same name as the class and doesn't have a return type. Constructors can have parameters or no parameters, and they are called automatically when an object is created using the \"new\" keyword.\n",
    "- Modifiers are methods that are used to modify the values of the variables of a class. They can be public or private, and they are used to encapsulate the class by hiding the internal details. Modifiers can also have validation checks to ensure that the values are within certain limits.\n",
    "- Getters are methods that are used to retrieve the values of the variables of a class. They are used to encapsulate the class by hiding the internal details, and they are usually public. Getters can also be used to return calculated values based on the variables of the class.\n",
    "- Variables are used to store data within a class. They can be of different data types, such as int, double, String, and so on. Variables can also have different access modifiers, such as public, private, protected, and default.\n",
    "- Methods are functions that are defined within a class. They can be used to perform operations on the variables of the class, and they can also be used to return values. Methods can have parameters or no parameters, and they can be public or private."
   ]
  },
  {
   "attachments": {},
   "cell_type": "markdown",
   "metadata": {},
   "source": [
    "## Hack Challenge #1"
   ]
  },
  {
   "cell_type": "code",
   "execution_count": 58,
   "metadata": {},
   "outputs": [],
   "source": [
    "public class Queue<T> implements Iterable<T> {\n",
    "    private LinkedList<T> head = null;\n",
    "    private LinkedList<T> tail = null;\n",
    "    private int wordCount = 0;\n",
    "\n",
    "    public void add(T data) {\n",
    "        // add new object to end of Queue\n",
    "        LinkedList<T> tail = new LinkedList<>(data, null);\n",
    "\n",
    "        if (this.head == null) { // initial condition\n",
    "            this.head = this.tail = tail;\n",
    "        } else { // nodes in queue\n",
    "            this.tail.setNextNode(tail); // current tail points to new tail\n",
    "            this.tail = tail; // update tail\n",
    "        }\n",
    "\n",
    "        wordCount++;\n",
    "        System.out.printf(\"Enqueued data: %s\\n\", data);\n",
    "        System.out.printf(\"Words count: %d, data: %s\\n\", wordCount, this.toString());\n",
    "    }\n",
    "\n",
    "    public T delete() {\n",
    "        T data = this.peek();\n",
    "        if (this.tail != null) { // initial condition\n",
    "            this.head = this.head.getNext(); // current tail points to new tail\n",
    "            if (this.head != null) {\n",
    "                this.head.setPrevNode(null);\n",
    "            }\n",
    "        }\n",
    "\n",
    "        wordCount--;\n",
    "        System.out.printf(\"Dequeued data: %s\\n\", data);\n",
    "        System.out.printf(\"Words count: %d, data: %s\\n\", wordCount, this.toString());\n",
    "        return data;\n",
    "    }\n",
    "    \n",
    "    public T peek() {\n",
    "        return this.head.getData();\n",
    "    }\n",
    "\n",
    "    public LinkedList<T> getHead() {\n",
    "        return this.head;\n",
    "    }\n",
    "\n",
    "    public LinkedList<T> getTail() {\n",
    "        return this.tail;\n",
    "    }\n",
    "\n",
    "    public Iterator<T> iterator() {\n",
    "        return new QueueIterator<>(this.head);\n",
    "    }\n",
    "\n",
    "    public String toString() {\n",
    "        StringBuilder sb = new StringBuilder();\n",
    "        LinkedList<T> current = head;\n",
    "        while (current != null) {\n",
    "            sb.append(current.getData().toString());\n",
    "            sb.append(\" \");\n",
    "            current = current.getNext();\n",
    "        }\n",
    "        return sb.toString().trim();\n",
    "    }\n",
    "}\n"
   ]
  },
  {
   "cell_type": "code",
   "execution_count": 59,
   "metadata": {},
   "outputs": [
    {
     "name": "stdout",
     "output_type": "stream",
     "text": [
      "Enqueued data: seven\n",
      "Words count: 1, data: seven\n",
      "Enqueued data: slimy\n",
      "Words count: 2, data: seven slimy\n",
      "Enqueued data: snakes\n",
      "Words count: 3, data: seven slimy snakes\n",
      "Enqueued data: sallying\n",
      "Words count: 4, data: seven slimy snakes sallying\n",
      "Enqueued data: slowly\n",
      "Words count: 5, data: seven slimy snakes sallying slowly\n",
      "Enqueued data: slithered\n",
      "Words count: 6, data: seven slimy snakes sallying slowly slithered\n",
      "Enqueued data: southward\n",
      "Words count: 7, data: seven slimy snakes sallying slowly slithered southward\n",
      "Words count: 7\n",
      "Words data: seven slimy snakes sallying slowly slithered southward \n"
     ]
    }
   ],
   "source": [
    "/**\n",
    " * Driver Class\n",
    " * Tests queue with string, integers, and mixes of Classes and types\n",
    " */\n",
    "class QueueTester {\n",
    "    public static void main(String[] args)\n",
    "    {\n",
    "        // Create iterable Queue of Words\n",
    "        Object[] words = new String[] { \"seven\", \"slimy\", \"snakes\", \"sallying\", \"slowly\", \"slithered\", \"southward\"};\n",
    "        QueueManager qWords = new QueueManager(\"Words\", words );\n",
    "        // qWords.queue.add(\"Test\");\n",
    "        // qWords.queue.delete(\"seven\");\n",
    "        qWords.printQueue();\n",
    "\n",
    "    }\n",
    "}\n",
    "QueueTester.main(null);"
   ]
  }
 ],
 "metadata": {
  "kernelspec": {
   "display_name": "Java",
   "language": "java",
   "name": "java"
  },
  "language_info": {
   "codemirror_mode": "java",
   "file_extension": ".jshell",
   "mimetype": "text/x-java-source",
   "name": "java",
   "pygments_lexer": "java",
   "version": "17.0.5+8-Ubuntu-2ubuntu120.04"
  },
  "orig_nbformat": 4
 },
 "nbformat": 4,
 "nbformat_minor": 2
}
