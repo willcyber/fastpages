{
 "cells": [
  {
   "attachments": {},
   "cell_type": "markdown",
   "metadata": {},
   "source": [
    "# Data Collections Hacks\n",
    "- toc: true \n",
    "- badges: true\n",
    "- comments: true\n",
    "- categories: [tri3]\n",
    "- image: images/chart-preview.png"
   ]
  },
  {
   "attachments": {},
   "cell_type": "markdown",
   "metadata": {},
   "source": [
    "## CB Vid\n",
    "- An access modifier is a keyword that determines the accessibility of a class, method, or variable. In Java, there are four access modifiers: public, protected, private, and default. Public classes, methods, and variables can be accessed from anywhere, while private ones can only be accessed within the same class. Protected ones can be accessed within the same package or through inheritance, and default ones can be accessed within the same package.\n",
    "- A constructor is a special method that is used to initialize objects of a class. It has the same name as the class and doesn't have a return type. Constructors can have parameters or no parameters, and they are called automatically when an object is created using the \"new\" keyword.\n",
    "- Modifiers are methods that are used to modify the values of the variables of a class. They can be public or private, and they are used to encapsulate the class by hiding the internal details. Modifiers can also have validation checks to ensure that the values are within certain limits.\n",
    "- Getters are methods that are used to retrieve the values of the variables of a class. They are used to encapsulate the class by hiding the internal details, and they are usually public. Getters can also be used to return calculated values based on the variables of the class.\n",
    "- Variables are used to store data within a class. They can be of different data types, such as int, double, String, and so on. Variables can also have different access modifiers, such as public, private, protected, and default.\n",
    "- Methods are functions that are defined within a class. They can be used to perform operations on the variables of the class, and they can also be used to return values. Methods can have parameters or no parameters, and they can be public or private."
   ]
  },
  {
   "cell_type": "code",
   "execution_count": null,
   "metadata": {},
   "outputs": [],
   "source": []
  }
 ],
 "metadata": {
  "kernelspec": {
   "display_name": "Java",
   "language": "java",
   "name": "java"
  },
  "language_info": {
   "name": "java"
  },
  "orig_nbformat": 4
 },
 "nbformat": 4,
 "nbformat_minor": 2
}
