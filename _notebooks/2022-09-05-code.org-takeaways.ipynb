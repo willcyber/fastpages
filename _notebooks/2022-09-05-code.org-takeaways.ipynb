{
 "cells": [
  {
   "cell_type": "markdown",
   "metadata": {},
   "source": [
    "# Code.org takeaways\n",
    "- toc: true \n",
    "- badges: true\n",
    "- comments: true\n",
    "- categories: [jupyter]\n",
    "- image: images/chart-preview.png"
   ]
  },
  {
   "cell_type": "markdown",
   "metadata": {},
   "source": [
    "# Let's refer to Lesson 7 Part 2 on Code.org\n",
    "## MyNeighborhood.java"
   ]
  },
  {
   "cell_type": "code",
   "execution_count": null,
   "metadata": {},
   "outputs": [],
   "source": [
    "import org.code.neighborhood.Painter;\n",
    "\n",
    "public class MyNeighborhood {\n",
    "  public static void main(String[] args) {\n",
    "\n",
    "    PainterPlus myPainterPlus = new PainterPlus();\n",
    "    // Lesson 6 Level 3\n",
    "    // TO DO #1: Instantiate a PainterPlus object.\n",
    "\n",
    "    // Lesson 7 Level 2\n",
    "    // TO DO #1: Navigate the PainterPlus object\n",
    "    // to the traffic cone.\n",
    "    myPainterPlus.move();\n",
    "    myPainterPlus.move();\n",
    "    myPainterPlus.move();\n",
    "    myPainterPlus.turnRight();\n",
    "    myPainterPlus.move();\n",
    "    myPainterPlus.move();\n",
    "\n",
    "  }\n",
    "}"
   ]
  },
  {
   "cell_type": "markdown",
   "metadata": {},
   "source": [
    "## PainterPlus.java"
   ]
  },
  {
   "cell_type": "code",
   "execution_count": null,
   "metadata": {},
   "outputs": [],
   "source": [
    "import org.code.neighborhood.*;\n",
    "\n",
    "\n",
    "public class PainterPlus extends Painter {\n",
    "\n",
    "   public PainterPlus() {\n",
    "      super();\n",
    "   }\n",
    "\n",
    "  public void turnRight() {\n",
    "    turnLeft();\n",
    "    turnLeft();\n",
    "    turnLeft();\n",
    "  }\n",
    "}"
   ]
  },
  {
   "cell_type": "markdown",
   "metadata": {},
   "source": [
    "## Defining a class\n",
    "Syntax: public class classname\n"
   ]
  },
  {
   "cell_type": "code",
   "execution_count": null,
   "metadata": {},
   "outputs": [],
   "source": [
    "// Example from code.org\n",
    "public class MyNeighborhood"
   ]
  },
  {
   "cell_type": "markdown",
   "metadata": {},
   "source": [
    "## Creating an object\n",
    "Syntax: Class object = new Class();"
   ]
  },
  {
   "cell_type": "code",
   "execution_count": null,
   "metadata": {},
   "outputs": [],
   "source": [
    "// Example from code.org\n",
    "PainterPlus myPainterPlus = new PainterPlus();\n",
    "// where PainterPlus is the class and myPainterPlus is the object"
   ]
  },
  {
   "cell_type": "markdown",
   "metadata": {},
   "source": [
    "## Object calling a method\n",
    "This is what runs the code\n",
    "<br>\n",
    "Syntax: object.method();"
   ]
  },
  {
   "cell_type": "code",
   "execution_count": null,
   "metadata": {},
   "outputs": [],
   "source": [
    "// Example from code.org\n",
    "myPainterPlus.turnRight();"
   ]
  },
  {
   "cell_type": "markdown",
   "metadata": {},
   "source": [
    "## Extends\n",
    "superclass - class being extended\n",
    "<br>\n",
    "subclass - class that is extending\n",
    "<br>\n",
    "The result is that the super and subclass will have the same attributes\n"
   ]
  },
  {
   "cell_type": "code",
   "execution_count": null,
   "metadata": {},
   "outputs": [],
   "source": [
    "// syntax \n",
    "public class PainterPlus extends Painter { \n",
    "    public PainterPlus() {\n",
    "        super();\n",
    "    }\n",
    "}\n",
    "// example from code.org\n",
    "public class PainterPlus extends Painter {\n",
    "\n",
    "   public PainterPlus() {\n",
    "      super();\n",
    "   }\n",
    "\n",
    "  public void turnRight() {\n",
    "    turnLeft();\n",
    "    turnLeft();\n",
    "    turnLeft();\n",
    "  }\n",
    "}"
   ]
  }
 ],
 "metadata": {
  "kernelspec": {
   "display_name": "Java",
   "language": "java",
   "name": "java"
  },
  "language_info": {
   "name": "java",
   "version": "3.8.10"
  },
  "orig_nbformat": 4,
  "vscode": {
   "interpreter": {
    "hash": "916dbcbb3f70747c44a77c7bcd40155683ae19c65e1c03b4aa3499c5328201f1"
   }
  }
 },
 "nbformat": 4,
 "nbformat_minor": 2
}
