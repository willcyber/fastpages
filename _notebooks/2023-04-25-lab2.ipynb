{
 "cells": [
  {
   "attachments": {},
   "cell_type": "markdown",
   "metadata": {},
   "source": [
    "# Lab 2 Hacks\n",
    "- toc: true \n",
    "- badges: true\n",
    "- comments: true\n",
    "- categories: [tri3]\n",
    "- image: images/chart-preview.png"
   ]
  },
  {
   "cell_type": "code",
   "execution_count": 1,
   "metadata": {
    "vscode": {
     "languageId": "java"
    }
   },
   "outputs": [],
   "source": [
    "//BASIC ARRAY CONCEPTS\n",
    "\n",
    "//Declare an array and then allocate memory\n",
    "int myArray[];\n",
    "myArray = new int[4];\n",
    "\n",
    "//Declare while directly assign values\n",
    "int[] myArray1 = new int[]{ 1, 6, 7, 9};\n",
    "\n",
    "//Initialize element\n",
    "myArray[0] = 2;\n",
    "\n",
    "//Create an array of objects\n",
    "Object[] arr = new Object[5];"
   ]
  },
  {
   "cell_type": "code",
   "execution_count": 2,
   "metadata": {
    "vscode": {
     "languageId": "java"
    }
   },
   "outputs": [
    {
     "name": "stdout",
     "output_type": "stream",
     "text": [
      "0 0\n",
      "1 6\n",
      "2 8\n",
      "3 2\n",
      "0\n",
      "6\n",
      "8\n",
      "2\n"
     ]
    }
   ],
   "source": [
    "//Basic for loop to print elements of array\n",
    "int[] arr1 = {0, 6, 8, 2};\n",
    "\n",
    "// Looping through array by incrementing value of i\n",
    "//'i' is an index of array 'arr1'\n",
    "for (int i = 0; i < arr1.length; i++) {\n",
    "\n",
    "    // Print array element present at index i\n",
    "    System.out.println(i + \" \" + arr1[i]);\n",
    "\n",
    "}\n",
    "\n",
    "// NOTE: You may also use an enhanced for loop\n",
    "\n",
    "for(int value: arr1){\n",
    "    System.out.println(value);\n",
    "}"
   ]
  },
  {
   "attachments": {},
   "cell_type": "markdown",
   "metadata": {},
   "source": [
    "## Hack 1"
   ]
  },
  {
   "cell_type": "code",
   "execution_count": 3,
   "metadata": {
    "vscode": {
     "languageId": "java"
    }
   },
   "outputs": [
    {
     "name": "stdout",
     "output_type": "stream",
     "text": [
      "10\n",
      "10\n",
      "10\n",
      "10\n",
      "10\n",
      "10\n",
      "10\n",
      "10\n",
      "10\n",
      "10\n"
     ]
    }
   ],
   "source": [
    "void setArray(int[] arr, int n) {\n",
    "    for (int i = 0; i<array.length; i++) {\n",
    "        arr[i] = n;\n",
    "    }\n",
    "}\n",
    "\n",
    "int[] array = new int[10];\n",
    "setArray(array, 10);\n",
    "\n",
    "for (int i = 0; i<array.length; i++) {\n",
    "    System.out.println(array[i]);\n",
    "}\n",
    "\n",
    "// Should print all 10s when working properly"
   ]
  },
  {
   "attachments": {},
   "cell_type": "markdown",
   "metadata": {},
   "source": [
    "## Hack 2"
   ]
  },
  {
   "cell_type": "code",
   "execution_count": 4,
   "metadata": {
    "vscode": {
     "languageId": "java"
    }
   },
   "outputs": [
    {
     "name": "stdout",
     "output_type": "stream",
     "text": [
      "5.4\n"
     ]
    }
   ],
   "source": [
    "//Example finding the max in an array. \n",
    "\n",
    "//Finds the maximum in an array\n",
    "public static float average(int[] array) {\n",
    "    float sum = 0;\n",
    "    for (int element : array) {\n",
    "        sum += element;\n",
    "    }\n",
    "    return sum/array.length;\n",
    "}\n",
    "\n",
    "//tester array\n",
    "int[] test = {3, 5, 7, 2, 10};\n",
    "\n",
    "//returns 10\n",
    "System.out.println(average(test));"
   ]
  },
  {
   "attachments": {},
   "cell_type": "markdown",
   "metadata": {},
   "source": [
    "## Hack 3"
   ]
  },
  {
   "cell_type": "code",
   "execution_count": 5,
   "metadata": {
    "vscode": {
     "languageId": "java"
    }
   },
   "outputs": [
    {
     "name": "stdout",
     "output_type": "stream",
     "text": [
      "8.6\n"
     ]
    }
   ],
   "source": [
    "public static float averageDiagonal (int[][] array2D) {\n",
    "    int sum = 0;\n",
    "    int count = 0;\n",
    "    for (int i = 0; i < array2D.length; i++) {\n",
    "        try {\n",
    "            sum += array2D[i][i];\n",
    "            count++;\n",
    "        } catch(Exception e) {\n",
    "        }\n",
    "    }\n",
    "    return (float) sum/count;\n",
    "}\n",
    "\n",
    "int[][] arr = {\n",
    "    {1,2,3,4,5,6},\n",
    "    {7,8,9,10,11,12},\n",
    "    {0,1,2,3,4,5},\n",
    "    {10,11,12,13,14,15},\n",
    "    {15,16,17,18,19,20}\n",
    "};\n",
    "\n",
    "System.out.println(averageDiagonal(arr));"
   ]
  }
 ],
 "metadata": {
  "kernelspec": {
   "display_name": "Java",
   "language": "java",
   "name": "java"
  },
  "language_info": {
   "codemirror_mode": "java",
   "file_extension": ".jshell",
   "mimetype": "text/x-java-source",
   "name": "Java",
   "pygments_lexer": "java",
   "version": "17.0.5+8-Ubuntu-2ubuntu120.04"
  },
  "orig_nbformat": 4
 },
 "nbformat": 4,
 "nbformat_minor": 2
}
