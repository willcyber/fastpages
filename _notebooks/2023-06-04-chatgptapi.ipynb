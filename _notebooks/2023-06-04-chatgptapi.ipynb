{
 "cells": [
  {
   "attachments": {},
   "cell_type": "markdown",
   "metadata": {},
   "source": [
    "# ChatGPT API\n",
    "- toc: true \n",
    "- badges: true\n",
    "- comments: true\n",
    "- categories: [tri3]\n",
    "- image: images/chart-preview.png"
   ]
  },
  {
   "attachments": {},
   "cell_type": "markdown",
   "metadata": {},
   "source": [
    "The goal of this was to have another music recommendation system based on the response of chatgpt. The best way to do this is through the chatgpt api. "
   ]
  },
  {
   "attachments": {},
   "cell_type": "markdown",
   "metadata": {},
   "source": [
    "## What the api needs\n",
    "- endpoint: https://api.openai.com/v1/chat/completions\n",
    "- API Key: you can generate a free one by creating a new openai account\n",
    "- model: I used gpt-3.5-turbo\n",
    "- headers:\n",
    "    - 'Content-Type': 'application/json',\n",
    "    - 'Authorization': authorizationHeader\n",
    "- messages: specify the role of the ai and the question of the user"
   ]
  },
  {
   "attachments": {},
   "cell_type": "markdown",
   "metadata": {},
   "source": [
    "## Full Code (html and js)"
   ]
  },
  {
   "cell_type": "code",
   "execution_count": null,
   "metadata": {},
   "outputs": [],
   "source": [
    "<form id=\"userInputForm\">\n",
    "    <label for=\"userInput\">Enter your music preference:</label>\n",
    "    <input type=\"text\" id=\"userInput\" required>\n",
    "    <button type=\"submit\">Submit</button>\n",
    "  </form>\n",
    "\n",
    "  <div id=\"outputContainer\"></div>\n",
    "\n",
    "  <script src=\"https://unpkg.com/axios/dist/axios.min.js\"></script>\n",
    "  <script>\n",
    "    const userInputForm = document.getElementById('userInputForm');\n",
    "    const userInputInput = document.getElementById('userInput');\n",
    "    const outputContainer = document.getElementById('outputContainer');\n",
    "\n",
    "    // Encode the API key using Base64\n",
    "    const encodedApiKey = \"encoded API Key\";\n",
    "    const decodedApiKey = atob(encodedApiKey);\n",
    "    const authorizationHeader = 'Bearer ' + decodedApiKey;\n",
    "\n",
    "    userInputForm.addEventListener('submit', async (e) => {\n",
    "      e.preventDefault();\n",
    "\n",
    "      const userInput = userInputInput.value;\n",
    "      userInputInput.value = '';\n",
    "\n",
    "      try {\n",
    "        const response = await axios.post('https://api.openai.com/v1/chat/completions', {\n",
    "        messages: [\n",
    "            { role: 'system', content: 'You are a user requesting music recommendations.' },\n",
    "            { role: 'user', content: userInput }\n",
    "        ],\n",
    "        model: 'gpt-3.5-turbo' \n",
    "        }, {\n",
    "        headers: {\n",
    "            'Content-Type': 'application/json',\n",
    "            'Authorization': authorizationHeader\n",
    "        }\n",
    "        });\n",
    "\n",
    "        const assistantReply = response.data.choices[0].message.content;\n",
    "        displayAssistantReply(assistantReply);\n",
    "      } catch (error) {\n",
    "        console.error('Error calling ChatGPT API:', error);\n",
    "        console.error('Error response:', error.response);\n",
    "        console.error('Error message:', error.message);\n",
    "        displayAssistantReply('Sorry, an error occurred while processing your request.');\n",
    "        }\n",
    "    });\n",
    "\n",
    "    function displayAssistantReply(reply) {\n",
    "      const replyElement = document.createElement('p');\n",
    "      replyElement.textContent = 'Assistant: ' + reply;\n",
    "      outputContainer.appendChild(replyElement);\n",
    "    }\n",
    "  </script>\n",
    "</body>\n",
    "</html>"
   ]
  }
 ],
 "metadata": {
  "kernelspec": {
   "display_name": "Java",
   "language": "java",
   "name": "java"
  },
  "language_info": {
   "name": "java"
  },
  "orig_nbformat": 4
 },
 "nbformat": 4,
 "nbformat_minor": 2
}
