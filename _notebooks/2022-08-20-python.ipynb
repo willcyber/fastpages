{
 "cells": [
  {
   "cell_type": "markdown",
   "metadata": {},
   "source": [
    "# Python Jupyter Tests\n",
    "\n",
    "- toc: true \n",
    "- badges: true\n",
    "- comments: true\n",
    "- categories: [jupyter]\n",
    "- image: images/chart-preview.png"
   ]
  },
  {
   "cell_type": "code",
   "execution_count": 1,
   "metadata": {},
   "outputs": [
    {
     "name": "stdout",
     "output_type": "stream",
     "text": [
      "Hello\n"
     ]
    }
   ],
   "source": [
    "\n",
    "print('Hello')"
   ]
  },
  {
   "cell_type": "code",
   "execution_count": 2,
   "metadata": {},
   "outputs": [
    {
     "name": "stdout",
     "output_type": "stream",
     "text": [
      "you're old enough\n",
      "Hello Sam\n"
     ]
    }
   ],
   "source": [
    "\n",
    "age = 24\n",
    "\n",
    "if age < 21: \n",
    "  print(\"ur too young for beer kid\")\n",
    "else:\n",
    "  print(\"you're old enough\")\n",
    "\n",
    "name = \"Sam\"\n",
    "\n",
    "if name == \"William\":\n",
    "\tprint(\"Hi William\")\n",
    "elif name == \"Bob\":\n",
    "\tPrint(\"Hey Bob\")\n",
    "elif name == \"Sam\":\n",
    "\tprint(\"Hello Sam\")\n",
    "else:\n",
    "\tprint(\"You aren't allowed here\")\n"
   ]
  },
  {
   "cell_type": "code",
   "execution_count": 3,
   "metadata": {},
   "outputs": [
    {
     "name": "stdout",
     "output_type": "stream",
     "text": [
      "car\n",
      "3\n",
      "bus\n",
      "3\n",
      "truck\n",
      "5\n",
      "bike\n",
      "4\n",
      "train\n",
      "5\n"
     ]
    }
   ],
   "source": [
    "\n",
    "vehicles = [\"car\", \"bus\", \"truck\", \"bike\", \"train\"]\n",
    "\n",
    "for v in vehicles:\n",
    "  print(v)\n",
    "  print(len(v))\n"
   ]
  }
 ],
 "metadata": {
  "kernelspec": {
   "display_name": "Java",
   "language": "java",
   "name": "java"
  },
  "language_info": {
   "codemirror_mode": {
    "name": "ipython",
    "version": 3
   },
   "file_extension": ".py",
   "mimetype": "text/x-python",
   "name": "java",
   "nbconvert_exporter": "python",
   "pygments_lexer": "ipython3",
   "version": "3.9.0"
  },
  "orig_nbformat": 4,
  "vscode": {
   "interpreter": {
    "hash": "64ee19714320843ac4f7ed1915189eabe1b1a8cffefb91570e1a960d8a0dfb02"
   }
  }
 },
 "nbformat": 4,
 "nbformat_minor": 2
}
