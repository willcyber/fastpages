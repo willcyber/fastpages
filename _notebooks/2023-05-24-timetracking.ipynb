{
 "cells": [
  {
   "attachments": {},
   "cell_type": "markdown",
   "metadata": {},
   "source": [
    "# Time Tracking\n",
    "- toc: true \n",
    "- badges: true\n",
    "- comments: true\n",
    "- categories: [tri3]\n",
    "- image: images/chart-preview.png"
   ]
  },
  {
   "attachments": {},
   "cell_type": "markdown",
   "metadata": {},
   "source": [
    "## 5/21\n",
    "- Reogranize frontend - 0.5 hour\n",
    "- Style home page - 1 hour\n",
    "\n",
    "## 5/23\n",
    "- Add top tracks api onto frontend - 3 hours\n",
    "- Reorganize frontend - 0.5 hour"
   ]
  },
  {
   "attachments": {},
   "cell_type": "markdown",
   "metadata": {},
   "source": [
    "## 5/24\n",
    "- Playing around with the DB 7:19 pm - 8:47 pm\n",
    "\n",
    "## 5/25\n",
    "- Adding song DB 8:45 am - 9:40 am\n",
    "- establish a nice theme for the website 5:35 pm - 6:00 pm\n",
    "- fix theme 7:40 pm - 8:13 pm\n",
    "- figuring out API controller 8:13 pm - 8:43 pm"
   ]
  },
  {
   "attachments": {},
   "cell_type": "markdown",
   "metadata": {},
   "source": [
    "## 5/26\n",
    "- Testing api with frontend 3:20 pm - 3:45 pm\n",
    "- Most testing and battling with cors 5:00 pm - 5:20 pm"
   ]
  },
  {
   "attachments": {},
   "cell_type": "markdown",
   "metadata": {},
   "source": [
    "## 5/27 \n",
    "- 8:50 pm - 9:20 learning how to use the chatgpt api and thinking of how I can incorporate into project \n",
    "\n",
    "## 5/28 \n",
    "- 8:14 pm - 9:17 pm backend stuff \n",
    "- 9:17 pm - 9:50 pm styles and navbar\n",
    "\n",
    "## 5/29\n",
    "- finish chatgpt api and frontend 9:30 pm-10:30 pm\n",
    "\n",
    "## 5/30\n",
    "- edit styles, research machine learning, research how to hide api key 8:35 am - 9:44 am\n",
    "- styling 1:10 pm-1:24 pm\n",
    "- hid the api key 1:24 pm - 2:01 pm"
   ]
  }
 ],
 "metadata": {
  "kernelspec": {
   "display_name": "Java",
   "language": "java",
   "name": "java"
  },
  "language_info": {
   "name": "java"
  },
  "orig_nbformat": 4
 },
 "nbformat": 4,
 "nbformat_minor": 2
}
