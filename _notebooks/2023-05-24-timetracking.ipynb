{
 "cells": [
  {
   "attachments": {},
   "cell_type": "markdown",
   "metadata": {},
   "source": [
    "# Time Tracking\n",
    "- toc: true \n",
    "- badges: true\n",
    "- comments: true\n",
    "- categories: [tri3]\n",
    "- image: images/chart-preview.png"
   ]
  },
  {
   "attachments": {},
   "cell_type": "markdown",
   "metadata": {},
   "source": [
    "## 5/21\n",
    "Reogranize frontend - 0.5 hour\n",
    "Style home page - 1 hour\n",
    "\n",
    "## 5/23\n",
    "Add top tracks api onto frontend - 3 hours\n",
    "Reorganize frontend - 0.5 hour"
   ]
  },
  {
   "attachments": {},
   "cell_type": "markdown",
   "metadata": {},
   "source": [
    "## 5/24\n",
    "- Playing around with the DB 7:19 pm - 8:47 pm\n",
    "\n",
    "## 5/25\n",
    "- Adding song DB 8:45 am - 9:40 am\n",
    "- establish a nice theme for the website 5:35 pm - 6:00 pm\n",
    "- fix theme 7:40 pm - 8:13 pm\n",
    "- figuring out API controller 8:13 pm - 8:43 pm"
   ]
  }
 ],
 "metadata": {
  "kernelspec": {
   "display_name": "Java",
   "language": "java",
   "name": "java"
  },
  "language_info": {
   "name": "java"
  },
  "orig_nbformat": 4
 },
 "nbformat": 4,
 "nbformat_minor": 2
}
