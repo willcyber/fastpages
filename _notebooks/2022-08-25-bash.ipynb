{
 "cells": [
  {
   "cell_type": "markdown",
   "id": "c02410d7",
   "metadata": {},
   "source": [
    "# Bash Tool Checkup\n",
    "\n",
    "- toc: true \n",
    "- badges: true\n",
    "- comments: true\n",
    "- categories: [jupyter]\n",
    "- image: images/chart-preview.png"
   ]
  },
  {
   "cell_type": "markdown",
   "id": "a24e92f0",
   "metadata": {},
   "source": [
    "# Testing Python Installation"
   ]
  },
  {
   "cell_type": "code",
   "execution_count": null,
   "id": "02d8b35c",
   "metadata": {},
   "outputs": [],
   "source": [
    "python --version\n",
    "python2 --version\n",
    "python3 --version\n",
    "conda --version "
   ]
  },
  {
   "cell_type": "markdown",
   "id": "bee8c6e9",
   "metadata": {},
   "source": [
    "# Testing Java Installation\n"
   ]
  },
  {
   "cell_type": "code",
   "execution_count": 3,
   "id": "91e444fa",
   "metadata": {
    "vscode": {
     "languageId": "shellscript"
    }
   },
   "outputs": [
    {
     "name": "stdout",
     "output_type": "stream",
     "text": [
      "openjdk 11.0.16 2022-07-19\n",
      "OpenJDK Runtime Environment (build 11.0.16+8-post-Ubuntu-0ubuntu120.04)\n",
      "OpenJDK 64-Bit Server VM (build 11.0.16+8-post-Ubuntu-0ubuntu120.04, mixed mode, sharing)\n"
     ]
    }
   ],
   "source": [
    "java --version"
   ]
  },
  {
   "cell_type": "markdown",
   "id": "1bba6317",
   "metadata": {},
   "source": [
    "# Testing Jupyter Kernel installations"
   ]
  },
  {
   "cell_type": "code",
   "execution_count": 4,
   "id": "8a4ed294",
   "metadata": {
    "vscode": {
     "languageId": "shellscript"
    }
   },
   "outputs": [
    {
     "name": "stdout",
     "output_type": "stream",
     "text": [
      "Available kernels:\n",
      "  bash          /home/wu/.local/share/jupyter/kernels/bash\n",
      "  java          /home/wu/.local/share/jupyter/kernels/java\n",
      "  javascript    /home/wu/.local/share/jupyter/kernels/javascript\n",
      "  python3       /home/wu/anaconda3/share/jupyter/kernels/python3\n"
     ]
    }
   ],
   "source": [
    "jupyter kernelspec list"
   ]
  }
 ],
 "metadata": {
  "kernelspec": {
   "display_name": "Bash",
   "language": "bash",
   "name": "bash"
  },
  "language_info": {
   "codemirror_mode": "shell",
   "file_extension": ".sh",
   "mimetype": "text/x-sh",
   "name": "bash"
  }
 },
 "nbformat": 4,
 "nbformat_minor": 5
}
