{
 "cells": [
  {
   "attachments": {},
   "cell_type": "markdown",
   "metadata": {},
   "source": [
    "# 55 MC\n",
    "- toc: true \n",
    "- badges: true\n",
    "- comments: true\n",
    "- categories: [tri2]\n",
    "- image: images/chart-preview.png"
   ]
  },
  {
   "attachments": {},
   "cell_type": "markdown",
   "metadata": {},
   "source": [
    "## 2\n",
    "Misunderstood the problem. didn't realize it would lead to a chain reaction\n",
    "## 6\n",
    "The algorithm uses a for-each loop to traverse the rows, the row index is not being stored.\n",
    "## 9\n",
    "System.out.println would not affect the str's length\n",
    "## 10\n",
    "I forgot that you concatanate with + and +=\n",
    "## 25\n",
    "didn't see that the remove didn't occurr before the size was calculated \n",
    "## 33\n",
    "C is wrong because r is used as the row index in printing numbers[r][c]\n",
    "## 45 \n",
    "Got this wronng because I was confused about what the code what doing. I now understand that it runs line 12 every time a new smallest value is found\n",
    "## 47\n",
    "I can't do math apparently. 2+2+3+8+5+6=26\n",
    "## 50\n",
    "When j has the value 0, k takes on values from 0 through 2, inclusive and 1 2 3  is printed. When j has the value 1, k takes on the values 1 and 2 and 5 6  is printed. When j has the value 2, k takes on the value 2 and 9  is printed. When j has the value 3, the inner for loop body is not executed because the initial value of k (3) is not less than the number of elements in the first row of the array (3)."
   ]
  }
 ],
 "metadata": {
  "kernelspec": {
   "display_name": "Java",
   "language": "java",
   "name": "java"
  },
  "language_info": {
   "name": "java"
  },
  "orig_nbformat": 4
 },
 "nbformat": 4,
 "nbformat_minor": 2
}
