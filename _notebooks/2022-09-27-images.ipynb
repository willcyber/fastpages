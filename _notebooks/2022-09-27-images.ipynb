{
 "cells": [
  {
   "cell_type": "markdown",
   "metadata": {},
   "source": [
    "# Images\n",
    "- toc: true \n",
    "- badges: true\n",
    "- comments: true\n",
    "- categories: [jupyter]\n",
    "- image: images/chart-preview.png"
   ]
  },
  {
   "cell_type": "code",
   "execution_count": 9,
   "metadata": {
    "vscode": {
     "languageId": "java"
    }
   },
   "outputs": [
    {
     "name": "stdout",
     "output_type": "stream",
     "text": [
      "Success\n"
     ]
    }
   ],
   "source": [
    "import javax.imageio.ImageIO;\n",
    "import java.io.File;\n",
    "import java.io.IOException;\n",
    "import java.awt.image.BufferedImage;\n",
    "\n",
    "public class ImageIOTest {    \n",
    "\n",
    "    public static void main( String[] args ){\n",
    "       BufferedImage img = null;  // buffer type \n",
    "        try {\n",
    "            // Name of file and directories\n",
    "            String name = \"MonaLisa\";\n",
    "            String in = \"images/\";\n",
    "            String out = \"images/tmp/\";\n",
    "\n",
    "            // Either use URL or File for reading image using ImageIO\n",
    "            File imageFile = new File(in + name + \".png\");\n",
    "            img = ImageIO.read(imageFile);  // set buffer of image data\n",
    "\n",
    "            // ImageIO Image write to gif in Java\n",
    "            // Documentation https://docs.oracle.com/javase/tutorial/2d/images/index.html\n",
    "            ImageIO.write(img, \"gif\", new File(out + name + \".gif\") );  // write buffer to gif\n",
    "\n",
    "        } catch (IOException e) {\n",
    "              e.printStackTrace();\n",
    "        }\n",
    "        System.out.println(\"Success\");\n",
    "    }\n",
    "}\n",
    "ImageIOTest.main(null);"
   ]
  },
  {
   "cell_type": "markdown",
   "metadata": {},
   "source": [
    "# ASCII"
   ]
  },
  {
   "cell_type": "code",
   "execution_count": 1,
   "metadata": {
    "vscode": {
     "languageId": "java"
    }
   },
   "outputs": [
    {
     "name": "stdout",
     "output_type": "stream",
     "text": [
      "Original: 499298 389x413  images/MonaLisa.png\n",
      "Scaled: 55625 128x136  images/tmp/MonaLisa.png\n"
     ]
    }
   ],
   "source": [
    "import java.awt.Color;\n",
    "import java.awt.image.BufferedImage;\n",
    "import java.awt.Image;\n",
    "import java.awt.Graphics2D;\n",
    "\n",
    "import java.io.File;\n",
    "import java.io.FileWriter;\n",
    "import java.io.IOException;\n",
    "import java.io.PrintWriter;\n",
    "import java.nio.file.Files;\n",
    "import java.nio.file.Path;\n",
    "import java.nio.file.Paths;\n",
    "\n",
    "import javax.imageio.stream.ImageOutputStream;\n",
    "import javax.imageio.stream.ImageInputStream;\n",
    "import javax.imageio.metadata.IIOMetadata;\n",
    "import javax.imageio.IIOImage;\n",
    "import javax.imageio.ImageIO;\n",
    "import javax.imageio.ImageWriteParam;\n",
    "import javax.imageio.ImageWriter;\n",
    "import javax.imageio.ImageReader;\n",
    "import javax.imageio.ImageTypeSpecifier;\n",
    "\n",
    "public class Pics {\n",
    "    private final String inDir = \"images/\"; // location of images\n",
    "    private final String outDir = \"images/tmp/\";  // location of created files\n",
    "    private String inFile;\n",
    "    private String resizedFile;\n",
    "    private String asciiFile; \n",
    "    private String ext;   // extension of file\n",
    "    private long bytes;\n",
    "    private int width;\n",
    "    private int height;\n",
    "\n",
    "    // Constructor obtains attributes of picture\n",
    "    public Pics(String name, String ext) {\n",
    "        this.ext = ext;\n",
    "        this.inFile = this.inDir + name + \".\" + ext;\n",
    "        this.resizedFile = this.outDir + name + \".\" + ext;\n",
    "        this.asciiFile = this.outDir + name + \".txt\";\n",
    "        this.setStats();\n",
    "    }\n",
    "\n",
    "    \n",
    "    // An image contains metadata, namely size, width, and height\n",
    "    public void setStats() {\n",
    "        BufferedImage img;\n",
    "        try {\n",
    "            Path path = Paths.get(this.inFile);\n",
    "            this.bytes = Files.size(path);\n",
    "            img = ImageIO.read(new File(this.inFile));\n",
    "            this.width = img.getWidth();\n",
    "            this.height = img.getHeight();\n",
    "        } catch (IOException e) {\n",
    "        }\n",
    "    }\n",
    "\n",
    "    // Console print of data\n",
    "    public void printStats(String msg) {\n",
    "        System.out.println(msg + \": \" + this.bytes + \" \" + this.width + \"x\" + this.height + \"  \" + this.inFile);\n",
    "    }\n",
    "\n",
    "    // Convert scaled image into buffered image\n",
    "    public static BufferedImage convertToBufferedImage(Image img) {\n",
    "\n",
    "        // Create a buffered image with transparency\n",
    "        BufferedImage bi = new BufferedImage(\n",
    "                img.getWidth(null), img.getHeight(null),\n",
    "                BufferedImage.TYPE_INT_ARGB);\n",
    "\n",
    "        // magic?\n",
    "        Graphics2D graphics2D = bi.createGraphics();\n",
    "        graphics2D.drawImage(img, 0, 0, null);\n",
    "        graphics2D.dispose();\n",
    "\n",
    "        return bi;\n",
    "    }\n",
    "    \n",
    "    // Scale or reduce to \"scale\" percentage provided\n",
    "    public void resize(int scale) {\n",
    "        BufferedImage img = null;\n",
    "        Image resizedImg = null;  \n",
    "\n",
    "        int width = (int) (this.width * (scale/100.0) + 0.5);\n",
    "        int height = (int) (this.height * (scale/100.0) + 0.5);\n",
    "\n",
    "        try {\n",
    "            // read an image to BufferedImage for processing\n",
    "            img = ImageIO.read(new File(this.inFile));  // set buffer of image data\n",
    "            // create a new BufferedImage for drawing\n",
    "            resizedImg = img.getScaledInstance(width, height, Image.SCALE_SMOOTH);\n",
    "        } catch (IOException e) {\n",
    "            return;\n",
    "        }\n",
    "\n",
    "        try {\n",
    "            ImageIO.write(convertToBufferedImage(resizedImg), this.ext, new File(resizedFile));\n",
    "        } catch (IOException e) {\n",
    "            return;\n",
    "        }\n",
    "        \n",
    "        this.inFile = this.resizedFile;  // use scaled file vs original file in Class\n",
    "        this.setStats();\n",
    "    }\n",
    "    \n",
    "    // convert every pixel to an ascii character (ratio does not seem correct)\n",
    "    public void convertToAscii() {\n",
    "        BufferedImage img = null;\n",
    "        PrintWriter asciiPrt = null;\n",
    "        FileWriter asciiWrt = null;\n",
    "\n",
    "        try {\n",
    "            File file = new File(this.asciiFile);\n",
    "            Files.deleteIfExists(file.toPath()); \n",
    "        } catch (IOException e) {\n",
    "            System.out.println(\"Delete File error: \" + e);\n",
    "        }\n",
    "\n",
    "        try {\n",
    "            asciiPrt = new PrintWriter(asciiWrt = new FileWriter(this.asciiFile, true));\n",
    "        } catch (IOException e) {\n",
    "            System.out.println(\"ASCII out file create error: \" + e);\n",
    "        }\n",
    "\n",
    "        try {\n",
    "            img = ImageIO.read(new File(this.inFile));\n",
    "        } catch (IOException e) {\n",
    "        }\n",
    "\n",
    "        for (int i = 0; i < img.getHeight(); i+=2) {\n",
    "            for (int j = 0; j < img.getWidth(); j+=1) {\n",
    "                Color col = new Color(img.getRGB(j, i));\n",
    "                double pixVal = (((col.getRed() * 0.30) + (col.getBlue() * 0.59) + (col\n",
    "                        .getGreen() * 0.11)));\n",
    "                try {\n",
    "                    asciiPrt.print(asciiChar(pixVal));\n",
    "                    asciiPrt.flush();\n",
    "                    asciiWrt.flush();\n",
    "                } catch (Exception ex) {\n",
    "                }\n",
    "            }\n",
    "            try {\n",
    "                asciiPrt.println(\"\");\n",
    "                asciiPrt.flush();\n",
    "                asciiWrt.flush();\n",
    "            } catch (Exception ex) {\n",
    "            }\n",
    "        }\n",
    "    }\n",
    "\n",
    "    // conversion table, there may be better out there ie https://www.billmongan.com/Ursinus-CS173-Fall2020/Labs/ASCIIArt\n",
    "    public String asciiChar(double g) {\n",
    "        String str = \" \";\n",
    "        if (g >= 240) {\n",
    "            str = \" \";\n",
    "        } else if (g >= 210) {\n",
    "            str = \".\";\n",
    "        } else if (g >= 190) {\n",
    "            str = \"-\";\n",
    "        } else if (g >= 170) {\n",
    "            str = \"*\";\n",
    "        } else if (g >= 160) {\n",
    "            str = \"+\";\n",
    "        } else if (g >= 150) {\n",
    "            str = \"j\";\n",
    "        }else if (g >= 140) {\n",
    "            str = \"n\";\n",
    "        }else if (g >= 130) {\n",
    "            str = \"V\";\n",
    "        } else if (g >= 120) {\n",
    "            str = \"3\";\n",
    "        } else if (g >= 110) {\n",
    "            str = \"5\";\n",
    "        } else if (g >= 100) {\n",
    "            str = \"&\"; \n",
    "        } else if (g >= 90) {\n",
    "            str = \"g\"; \n",
    "        }else if (g >= 80) {\n",
    "            str = \"8\";\n",
    "        } else if (g >= 60) {\n",
    "            str = \"#\";\n",
    "        } else {\n",
    "            str = \"@\";\n",
    "        }\n",
    "        return str;\n",
    "    }\n",
    "\n",
    "    // tester/driver\n",
    "    public static void main(String[] args) throws IOException {\n",
    "        Pics monaLisa = new Pics(\"MonaLisa\", \"png\");\n",
    "        monaLisa.printStats(\"Original\");\n",
    "        monaLisa.resize(33);\n",
    "        monaLisa.printStats(\"Scaled\");\n",
    "        monaLisa.convertToAscii();\n",
    "\n",
    "        \n",
    "    }\n",
    "}\n",
    "Pics.main(null);"
   ]
  },
  {
   "cell_type": "markdown",
   "metadata": {},
   "source": [
    "# Grey scale"
   ]
  },
  {
   "cell_type": "code",
   "execution_count": 16,
   "metadata": {
    "vscode": {
     "languageId": "java"
    }
   },
   "outputs": [],
   "source": [
    "import java.awt.Color;\n",
    "import java.awt.image.BufferedImage;\n",
    "import java.awt.Image;\n",
    "import java.awt.Graphics2D;\n",
    "\n",
    "import java.io.File;\n",
    "import java.io.FileWriter;\n",
    "import java.io.IOException;\n",
    "import java.io.PrintWriter;\n",
    "import java.nio.file.Files;\n",
    "import java.nio.file.Path;\n",
    "import java.nio.file.Paths;\n",
    "\n",
    "import javax.imageio.stream.ImageOutputStream;\n",
    "import javax.imageio.stream.ImageInputStream;\n",
    "import javax.imageio.metadata.IIOMetadata;\n",
    "import javax.imageio.IIOImage;\n",
    "import javax.imageio.ImageIO;\n",
    "import javax.imageio.ImageWriteParam;\n",
    "import javax.imageio.ImageWriter;\n",
    "import javax.imageio.ImageReader;\n",
    "import javax.imageio.ImageTypeSpecifier;\n",
    "double r=0.299;\n",
    "double g=0.587;\n",
    "double b=0.114;\n",
    "\n",
    "public class Pics {\n",
    "     \n",
    "    private final String inDir = \"images/\"; // location of images\n",
    "    private final String outDir = \"images/tmp/\";  // location of created files\n",
    "    private String inFile;\n",
    "    private String resizedFile;\n",
    "    private String changedFile; \n",
    "    private String ext;   // extension of file\n",
    "    private long bytes;\n",
    "    private int width;\n",
    "    private int height;\n",
    "\n",
    "    \n",
    "\n",
    "    // Constructor obtains attributes of picture\n",
    "     \n",
    "    public Pics(String name, String ext) {\n",
    "        this.ext = ext;\n",
    "        this.inFile = this.inDir + name + \".\" + ext;\n",
    "        this.changedFile = this.outDir + name + \"Gray.\" + ext;\n",
    "    }\n",
    "   \n",
    " \n",
    "    // convert every pixel to an ascii character (ratio does not seem correct)\n",
    "    public void grayscale() {\n",
    "        BufferedImage img; \n",
    "        \n",
    "        try {\n",
    "            File file = new File(this.changedFile);\n",
    "            Files.deleteIfExists(file.toPath()); \n",
    "        } catch (IOException e) {\n",
    "            System.out.println(\"Delete File error: \" + e);\n",
    "        }\n",
    "\n",
    "        \n",
    "      \n",
    "\n",
    "        try {\n",
    "            img = ImageIO.read(new File(this.inFile));\n",
    "            for (int i = 0; i < img.getHeight(); i++) {\n",
    "                for (int j = 0; j < img.getWidth(); j++) {\n",
    "                    Color col = new Color(img.getRGB(j, i));\n",
    "                    \n",
    "                    int red = (int)(col.getRed() * r);\n",
    "                    int green = (int)(col.getGreen() * g);\n",
    "                    int blue = (int)(col.getBlue() * b); \n",
    "                    Color rgb = new Color(red, green, blue);\n",
    "       \n",
    "                    img.setRGB(j, i, rgb.getRGB());\n",
    "                 \n",
    "                }\n",
    "               \n",
    "            }\n",
    "             \n",
    "            ImageIO.write(img, \"png\", new File(this.changedFile));\n",
    "        } catch (IOException e) {\n",
    "        }\n",
    "\n",
    "    }\n",
    "\n",
    "  \n",
    "    // tester/driver\n",
    "    public static void main(String[] args) throws IOException {\n",
    "        // Pics monaLisa = new Pics(\"MonaLisa\", \"png\");\n",
    "        Pics monaLisa = new Pics(\"MonaLisa\", \"png\" );\n",
    "        monaLisa.grayscale(); \n",
    "\n",
    "        \n",
    "    }\n",
    "}\n",
    "Pics.main(null);\n"
   ]
  },
  {
   "cell_type": "markdown",
   "metadata": {},
   "source": [
    "![image](images/tmp/MonaLisaGray.png)"
   ]
  },
  {
   "cell_type": "markdown",
   "metadata": {},
   "source": [
    "# Green"
   ]
  },
  {
   "cell_type": "code",
   "execution_count": 17,
   "metadata": {
    "vscode": {
     "languageId": "java"
    }
   },
   "outputs": [],
   "source": [
    "//green scale\n",
    "double r=0;\n",
    "double g=1;\n",
    "double b=0;\n",
    "Pics.main(null);"
   ]
  },
  {
   "cell_type": "markdown",
   "metadata": {},
   "source": [
    "![image](images/tmp/MonaLisaGreen.png)"
   ]
  },
  {
   "cell_type": "markdown",
   "metadata": {},
   "source": [
    "# Red"
   ]
  },
  {
   "cell_type": "code",
   "execution_count": 18,
   "metadata": {
    "vscode": {
     "languageId": "java"
    }
   },
   "outputs": [],
   "source": [
    "//red scale\n",
    "double r=1;\n",
    "double g=0;\n",
    "double b=0;\n",
    "Pics.main(null);"
   ]
  },
  {
   "cell_type": "markdown",
   "metadata": {},
   "source": [
    "![image](images/tmp/MonaLisaRed.PNG)"
   ]
  },
  {
   "cell_type": "markdown",
   "metadata": {},
   "source": [
    "# Blue"
   ]
  },
  {
   "cell_type": "code",
   "execution_count": 19,
   "metadata": {
    "vscode": {
     "languageId": "java"
    }
   },
   "outputs": [],
   "source": [
    "//blue scale\n",
    "double r=0;\n",
    "double g=0;\n",
    "double b=1;\n",
    "Pics.main(null);"
   ]
  },
  {
   "cell_type": "markdown",
   "metadata": {},
   "source": [
    "![image](images/tmp/MonaLisaBlue.PNG)"
   ]
  }
 ],
 "metadata": {
  "kernelspec": {
   "display_name": "Java",
   "language": "java",
   "name": "java"
  },
  "language_info": {
   "codemirror_mode": "java",
   "file_extension": ".jshell",
   "mimetype": "text/x-java-source",
   "name": "Java",
   "pygments_lexer": "java",
   "version": "11.0.16+8-post-Ubuntu-0ubuntu120.04"
  },
  "orig_nbformat": 4
 },
 "nbformat": 4,
 "nbformat_minor": 2
}
