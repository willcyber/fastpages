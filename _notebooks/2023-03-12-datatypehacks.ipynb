{
 "cells": [
  {
   "attachments": {},
   "cell_type": "markdown",
   "metadata": {},
   "source": [
    "# Data Types Hacks\n",
    "- toc: true \n",
    "- badges: true\n",
    "- comments: true\n",
    "- categories: [tri2]\n",
    "- image: images/chart-preview.png"
   ]
  },
  {
   "attachments": {},
   "cell_type": "markdown",
   "metadata": {},
   "source": [
    "## Primatives"
   ]
  },
  {
   "cell_type": "code",
   "execution_count": 5,
   "metadata": {
    "vscode": {
     "languageId": "java"
    }
   },
   "outputs": [
    {
     "name": "stdout",
     "output_type": "stream",
     "text": [
      "5\n",
      "3\n",
      "1\n",
      "2\n",
      "4\n"
     ]
    }
   ],
   "source": [
    "// int\n",
    "\n",
    "int[] intArray = new int[5];\n",
    "\n",
    "for (int i=0; i<intArray.length; i++) {\n",
    "    intArray[i] = (int) (Math.random() *10);\n",
    "    System.out.println(intArray[i]);\n",
    "}"
   ]
  },
  {
   "cell_type": "code",
   "execution_count": 24,
   "metadata": {
    "vscode": {
     "languageId": "java"
    }
   },
   "outputs": [
    {
     "name": "stdout",
     "output_type": "stream",
     "text": [
      "5.034024074855728\n",
      "3.6741190301445092\n",
      "6.1950605188782495\n",
      "1.391886610940728\n",
      "5.2659275010895445\n",
      "true\n"
     ]
    }
   ],
   "source": [
    "// double\n",
    "\n",
    "double[] doubleArray = new double[5];\n",
    "\n",
    "for (int i=0; i<intArray.length; i++) {\n",
    "    doubleArray[i] = (Math.random() *10);\n",
    "    System.out.println(doubleArray[i]);\n",
    "}\n",
    "\n",
    "double d1 = 1.23;\n",
    "double d2 = 1.23;\n",
    "\n",
    "System.out.println(d1==d2);"
   ]
  },
  {
   "cell_type": "code",
   "execution_count": 10,
   "metadata": {
    "vscode": {
     "languageId": "java"
    }
   },
   "outputs": [
    {
     "name": "stdout",
     "output_type": "stream",
     "text": [
      "bool is true\n"
     ]
    }
   ],
   "source": [
    "//bool\n",
    "\n",
    "boolean tof = true;\n",
    "\n",
    "if (tof) {\n",
    "    System.out.println(\"bool is true\");\n",
    "}"
   ]
  },
  {
   "cell_type": "code",
   "execution_count": 17,
   "metadata": {
    "vscode": {
     "languageId": "java"
    }
   },
   "outputs": [
    {
     "name": "stdout",
     "output_type": "stream",
     "text": [
      "hello\n"
     ]
    }
   ],
   "source": [
    "//char\n",
    "\n",
    "char letter = 'h';\n",
    "char letter2 = 'e';\n",
    "char letter3 = 'l';\n",
    "char letter4 = 'o';\n",
    "String word = \"\" + letter + letter2 + letter3 + letter3 + letter4;\n",
    "System.out.println(word);"
   ]
  },
  {
   "attachments": {},
   "cell_type": "markdown",
   "metadata": {},
   "source": [
    "## Wrapper Class"
   ]
  },
  {
   "cell_type": "code",
   "execution_count": 26,
   "metadata": {
    "vscode": {
     "languageId": "java"
    }
   },
   "outputs": [
    {
     "name": "stdout",
     "output_type": "stream",
     "text": [
      "7\n",
      "8\n",
      "9\n",
      "9\n",
      "4\n"
     ]
    }
   ],
   "source": [
    "//Integer\n",
    "\n",
    "Integer[] intArray = new Integer[5];\n",
    "\n",
    "for (int i = 0; i < intArray.length; i++) {\n",
    "    intArray[i] = (int) (Math.random() * 10);\n",
    "    System.out.println(intArray[i]);\n",
    "}\n",
    "\n"
   ]
  },
  {
   "cell_type": "code",
   "execution_count": 25,
   "metadata": {
    "vscode": {
     "languageId": "java"
    }
   },
   "outputs": [
    {
     "name": "stdout",
     "output_type": "stream",
     "text": [
      "8.500996954871201\n",
      "3.723903884866029\n",
      "8.515467534961362\n",
      "5.8571742379986835\n",
      "5.705079810756255\n",
      "false\n"
     ]
    }
   ],
   "source": [
    "// double\n",
    "\n",
    "double[] doubleArray = new double[5];\n",
    "\n",
    "for (int i=0; i<intArray.length; i++) {\n",
    "    doubleArray[i] = (Math.random() *10);\n",
    "    System.out.println(doubleArray[i]);\n",
    "}\n",
    "\n",
    "Double  d3 = 1.23;\n",
    "Double d4 = 1.23;\n",
    "\n",
    "System.out.println(d3==d4);"
   ]
  },
  {
   "cell_type": "code",
   "execution_count": 29,
   "metadata": {
    "vscode": {
     "languageId": "java"
    }
   },
   "outputs": [
    {
     "name": "stdout",
     "output_type": "stream",
     "text": [
      "true\n",
      "false\n",
      "true\n"
     ]
    }
   ],
   "source": [
    "//Boolean\n",
    "\n",
    "Boolean b1 = Boolean.TRUE;\n",
    "Boolean b2 = Boolean.FALSE;\n",
    "Boolean b3 = true;\n",
    "\n",
    "System.out.println(b1);\n",
    "System.out.println(b2);\n",
    "System.out.println(b3);"
   ]
  },
  {
   "cell_type": "code",
   "execution_count": 31,
   "metadata": {
    "vscode": {
     "languageId": "java"
    }
   },
   "outputs": [
    {
     "name": "stdout",
     "output_type": "stream",
     "text": [
      "hello\n"
     ]
    }
   ],
   "source": [
    "//Character\n",
    "\n",
    "Character letter = 'h';\n",
    "Character letter2 = 'e';\n",
    "Character letter3 = 'l';\n",
    "Character letter4 = 'o';\n",
    "String word = new StringBuilder().append(letter).append(letter2).append(letter3).append(letter3).append(letter4).toString();\n",
    "System.out.println(word);\n"
   ]
  },
  {
   "attachments": {},
   "cell_type": "markdown",
   "metadata": {},
   "source": [
    "## Methods and Control Structures\n",
    "\n",
    "Methods take in an input and output a value. They can be called from other parts of the code.\n",
    "\n",
    "Control Structures allow users to specify what actions occur in what conditions. Some examples inclue for loops and if else statements."
   ]
  },
  {
   "attachments": {},
   "cell_type": "markdown",
   "metadata": {},
   "source": [
    "Diverse Arrays and Matrix include both methods and control strucutures. \n",
    "\n",
    "For example, matrix includes the method String toString() and multiple for loops.\n",
    "\n",
    "There are multiple data type examples in their code. Uses int and String."
   ]
  },
  {
   "attachments": {},
   "cell_type": "markdown",
   "metadata": {},
   "source": [
    "## Math.random\n",
    "\n",
    "- Math.random() * 10, random numbers between 0 and 10 (not includng 10)\n",
    "- returns double\n",
    "- if you want it in int add (int) to the front of Math.random()"
   ]
  },
  {
   "attachments": {},
   "cell_type": "markdown",
   "metadata": {},
   "source": [
    "## DoNothingByValue\n",
    "- "
   ]
  }
 ],
 "metadata": {
  "kernelspec": {
   "display_name": "Java",
   "language": "java",
   "name": "java"
  },
  "language_info": {
   "codemirror_mode": "java",
   "file_extension": ".jshell",
   "mimetype": "text/x-java-source",
   "name": "Java",
   "pygments_lexer": "java",
   "version": "17.0.5+8-Ubuntu-2ubuntu120.04"
  },
  "orig_nbformat": 4
 },
 "nbformat": 4,
 "nbformat_minor": 2
}
