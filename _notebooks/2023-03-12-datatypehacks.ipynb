{
 "cells": [
  {
   "attachments": {},
   "cell_type": "markdown",
   "metadata": {},
   "source": [
    "# Data Types Hacks\n",
    "- toc: true \n",
    "- badges: true\n",
    "- comments: true\n",
    "- categories: [tri2]\n",
    "- image: images/chart-preview.png"
   ]
  },
  {
   "attachments": {},
   "cell_type": "markdown",
   "metadata": {},
   "source": [
    "## Primatives"
   ]
  },
  {
   "cell_type": "code",
   "execution_count": 5,
   "metadata": {
    "vscode": {
     "languageId": "java"
    }
   },
   "outputs": [
    {
     "name": "stdout",
     "output_type": "stream",
     "text": [
      "5\n",
      "3\n",
      "1\n",
      "2\n",
      "4\n"
     ]
    }
   ],
   "source": [
    "// int\n",
    "\n",
    "int[] intArray = new int[5];\n",
    "\n",
    "for (int i=0; i<intArray.length; i++) {\n",
    "    intArray[i] = (int) (Math.random() *10);\n",
    "    System.out.println(intArray[i]);\n",
    "}"
   ]
  },
  {
   "cell_type": "code",
   "execution_count": 7,
   "metadata": {
    "vscode": {
     "languageId": "java"
    }
   },
   "outputs": [
    {
     "name": "stdout",
     "output_type": "stream",
     "text": [
      "2.201265646756765\n",
      "1.5046484901913482\n",
      "5.848631931362585\n",
      "0.18847040918566482\n",
      "5.444479179060762\n"
     ]
    }
   ],
   "source": [
    "// double\n",
    "\n",
    "double[] doubleArray = new double[5];\n",
    "\n",
    "for (int i=0; i<intArray.length; i++) {\n",
    "    doubleArray[i] = (Math.random() *10);\n",
    "    System.out.println(doubleArray[i]);\n",
    "}"
   ]
  },
  {
   "cell_type": "code",
   "execution_count": 10,
   "metadata": {
    "vscode": {
     "languageId": "java"
    }
   },
   "outputs": [
    {
     "name": "stdout",
     "output_type": "stream",
     "text": [
      "bool is true\n"
     ]
    }
   ],
   "source": [
    "//bool\n",
    "\n",
    "boolean tof = true;\n",
    "\n",
    "if (tof) {\n",
    "    System.out.println(\"bool is true\");\n",
    "}"
   ]
  },
  {
   "cell_type": "code",
   "execution_count": 17,
   "metadata": {
    "vscode": {
     "languageId": "java"
    }
   },
   "outputs": [
    {
     "name": "stdout",
     "output_type": "stream",
     "text": [
      "hello\n"
     ]
    }
   ],
   "source": [
    "//char\n",
    "\n",
    "char letter = 'h';\n",
    "char letter2 = 'e';\n",
    "char letter3 = 'l';\n",
    "char letter4 = 'o';\n",
    "String word = \"\" + letter + letter2 + letter3 + letter3 + letter4;\n",
    "System.out.println(word);"
   ]
  },
  {
   "attachments": {},
   "cell_type": "markdown",
   "metadata": {},
   "source": [
    "## Wrapper Class"
   ]
  }
 ],
 "metadata": {
  "kernelspec": {
   "display_name": "Java",
   "language": "java",
   "name": "java"
  },
  "language_info": {
   "codemirror_mode": "java",
   "file_extension": ".jshell",
   "mimetype": "text/x-java-source",
   "name": "Java",
   "pygments_lexer": "java",
   "version": "17.0.5+8-Ubuntu-2ubuntu120.04"
  },
  "orig_nbformat": 4
 },
 "nbformat": 4,
 "nbformat_minor": 2
}
