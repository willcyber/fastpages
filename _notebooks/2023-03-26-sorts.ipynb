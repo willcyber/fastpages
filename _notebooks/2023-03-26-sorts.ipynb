{
 "cells": [
  {
   "attachments": {},
   "cell_type": "markdown",
   "metadata": {},
   "source": [
    "# Sorts and Algo Rhythmic\n",
    "- toc: true \n",
    "- badges: true\n",
    "- comments: true\n",
    "- categories: [tri3]\n",
    "- image: images/chart-preview.png"
   ]
  },
  {
   "cell_type": "markdown",
   "metadata": {},
   "source": [
    "## Bubble Sort"
   ]
  },
  {
   "cell_type": "code",
   "execution_count": 22,
   "metadata": {},
   "outputs": [
    {
     "name": "stdout",
     "output_type": "stream",
     "text": [
      "Bubble:\n",
      "1 2 4 7 8 \n",
      "Selection:\n",
      "1 2 4 7 8 "
     ]
    }
   ],
   "source": [
    "public class Sorts {\n",
    "\n",
    "    //bubble\n",
    "    public void Bubble(int arr[]) {\n",
    "        int n = arr.length;\n",
    "        int t;\n",
    "        for (int j = 0; j < n - 1; j++) {\n",
    "            for (int i = 0; i < n - 1 - j; i++) {\n",
    "                if (arr[i] > arr[i + 1]) {\n",
    "                    t = arr[i];\n",
    "                    arr[i] = arr[i + 1];\n",
    "                    arr[i + 1] = t;\n",
    "                }\n",
    "            }\n",
    "        }\n",
    "    }\n",
    "    \n",
    "\n",
    "    //selection\n",
    "    public void Selection(int arr[]) {\n",
    "        int n = arr.length;\n",
    "        int t;\n",
    "        int min;\n",
    "        int k;\n",
    "        for (int j = 0; j < n - 1; j++) {\n",
    "            min = arr[j];\n",
    "            k = j;\n",
    "            for (int i = j + 1; i < n; i++) {\n",
    "                if (min > arr[i]) {\n",
    "                    min = arr[i];\n",
    "                    k = i;\n",
    "                }\n",
    "            }\n",
    "            if (k != j) {\n",
    "                t = arr[j];\n",
    "                arr[j] = arr[k];\n",
    "                arr[k] = t;\n",
    "            }\n",
    "        }\n",
    "    }\n",
    "\n",
    "    //insertion\n",
    "    public void Insertion(int arr[]) {\n",
    "        \n",
    "    }\n",
    "\n",
    "    public static void main(String args[]) {\n",
    "        Sorts obj = new Sorts();\n",
    "        int arr[] = {2, 1, 8, 4, 7};\n",
    "        obj.Bubble(arr);\n",
    "        // obj.Selection(arr);\n",
    "        int n = arr.length;\n",
    "        System.out.println(\"Bubble:\");\n",
    "        for (int i = 0; i < n; ++i) {\n",
    "            System.out.print(arr[i] + \" \");\n",
    "        }\n",
    "        System.out.println();\n",
    "\n",
    "        Sorts obj2 = new Sorts();\n",
    "        int arr2[] = {2, 1, 8, 4, 7};\n",
    "        obj.Selection(arr2);\n",
    "        int m = arr2.length;\n",
    "        System.out.println(\"Selection:\");\n",
    "        for (int i = 0; i < m; ++i) {\n",
    "            System.out.print(arr2[i] + \" \");\n",
    "        }\n",
    "        System.out.println();\n",
    "            \n",
    "    }\n",
    "}\n",
    "Sorts.main(null);\n"
   ]
  }
 ],
 "metadata": {
  "kernelspec": {
   "display_name": "Java",
   "language": "java",
   "name": "java"
  },
  "language_info": {
   "codemirror_mode": "java",
   "file_extension": ".jshell",
   "mimetype": "text/x-java-source",
   "name": "java",
   "pygments_lexer": "java",
   "version": "17.0.5+8-Ubuntu-2ubuntu120.04"
  },
  "orig_nbformat": 4
 },
 "nbformat": 4,
 "nbformat_minor": 2
}
