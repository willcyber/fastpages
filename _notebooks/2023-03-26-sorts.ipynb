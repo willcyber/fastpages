{
 "cells": [
  {
   "attachments": {},
   "cell_type": "markdown",
   "metadata": {},
   "source": [
    "# Sorts and Algo Rhythmic\n",
    "- toc: true \n",
    "- badges: true\n",
    "- comments: true\n",
    "- categories: [tri3]\n",
    "- image: images/chart-preview.png"
   ]
  },
  {
   "cell_type": "markdown",
   "metadata": {},
   "source": [
    "## Bubble Sort"
   ]
  },
  {
   "cell_type": "code",
   "execution_count": 5,
   "metadata": {
    "vscode": {
     "languageId": "java"
    }
   },
   "outputs": [
    {
     "name": "stdout",
     "output_type": "stream",
     "text": [
      "8 7 4 2 1 "
     ]
    }
   ],
   "source": [
    "public class Sorts {\n",
    "    public void Bubble(int arr[]) {\n",
    "        int n = arr.length;\n",
    "        int t;\n",
    "        for (int j=0;j<n-1;j++) {\n",
    "            for (int i =0; i<n-1; i++) {\n",
    "            if (arr[i] < arr[i+1]) {\n",
    "                t = arr[i];\n",
    "                arr[i+1] = t;\n",
    "            }\n",
    "        }\n",
    "        }\n",
    "        \n",
    "\n",
    "    }\n",
    "\n",
    "    public static void main(String args[]) {\n",
    "        Sorts obj = new Sorts();\n",
    "        int arr[] = {2, 1, 8, 4, 7};\n",
    "        obj.Bubble(arr);\n",
    "        int n = arr.length;\n",
    "        for (int i = 0; i < n; ++i) {\n",
    "            System.out.print(arr[i] + \" \");\n",
    "        }\n",
    "            \n",
    "    }\n",
    "}\n",
    "Sorts.main(null);\n"
   ]
  }
 ],
 "metadata": {
  "kernelspec": {
   "display_name": "Java",
   "language": "java",
   "name": "java"
  },
  "language_info": {
   "codemirror_mode": "java",
   "file_extension": ".jshell",
   "mimetype": "text/x-java-source",
   "name": "Java",
   "pygments_lexer": "java",
   "version": "17.0.5+8-Ubuntu-2ubuntu120.04"
  },
  "orig_nbformat": 4
 },
 "nbformat": 4,
 "nbformat_minor": 2
}
