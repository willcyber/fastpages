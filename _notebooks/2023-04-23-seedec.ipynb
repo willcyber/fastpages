{
 "cells": [
  {
   "attachments": {},
   "cell_type": "markdown",
   "metadata": {},
   "source": [
    "# Seed Extra Cred\n",
    "- toc: true \n",
    "- badges: true\n",
    "- comments: true\n",
    "- categories: [tri3]\n",
    "- image: images/chart-preview.png"
   ]
  },
  {
   "attachments": {},
   "cell_type": "markdown",
   "metadata": {},
   "source": [
    "## Class"
   ]
  },
  {
   "cell_type": "code",
   "execution_count": 2,
   "metadata": {
    "vscode": {
     "languageId": "java"
    }
   },
   "outputs": [],
   "source": [
    "public class Book {\n",
    "    private String title;\n",
    "\n",
    "    private double price;\n",
    "\n",
    "    public Book(String bookTitle, double bookPrice) {\n",
    "        title = bookTitle;\n",
    "        price = bookPrice;\n",
    "    }\n",
    "\n",
    "    public String getTitle() {\n",
    "        return title;\n",
    "    }\n",
    "\n",
    "    public String getBookInfo() {\n",
    "        return title + \"-\" + price;\n",
    "    }\n",
    "}"
   ]
  },
  {
   "cell_type": "code",
   "execution_count": 3,
   "metadata": {
    "vscode": {
     "languageId": "java"
    }
   },
   "outputs": [
    {
     "ename": "CompilationException",
     "evalue": "",
     "output_type": "error",
     "traceback": [
      "\u001b[1m\u001b[30m|   \u001b[1m\u001b[30m        super(String\u001b[0m\u001b[1m\u001b[30m\u001b[41m\u001b[0m\u001b[1m\u001b[30m bookTitle, double bookPrice);\u001b[0m",
      "\u001b[1m\u001b[31m')' expected\u001b[0m",
      "",
      "\u001b[1m\u001b[30m|   \u001b[1m\u001b[30m        super(String \u001b[0m\u001b[1m\u001b[30m\u001b[41mbookTitle\u001b[0m\u001b[1m\u001b[30m, double bookPrice);\u001b[0m",
      "\u001b[1m\u001b[31mnot a statement\u001b[0m",
      "",
      "\u001b[1m\u001b[30m|   \u001b[1m\u001b[30m        super(String bookTitle\u001b[0m\u001b[1m\u001b[30m\u001b[41m\u001b[0m\u001b[1m\u001b[30m, double bookPrice);\u001b[0m",
      "\u001b[1m\u001b[31m';' expected\u001b[0m",
      "",
      "\u001b[1m\u001b[30m|   \u001b[1m\u001b[30m        super(String bookTitle, double bookPrice\u001b[0m\u001b[1m\u001b[30m\u001b[41m\u001b[0m\u001b[1m\u001b[30m);\u001b[0m",
      "\u001b[1m\u001b[31m';' expected\u001b[0m",
      "",
      "\u001b[1m\u001b[30m|   \u001b[1m\u001b[30m        \u001b[0m\u001b[1m\u001b[30m\u001b[41msuper.getBookInfo() + \"-\" + edition\u001b[0m\u001b[1m\u001b[30m;\u001b[0m",
      "\u001b[1m\u001b[31mnot a statement\u001b[0m",
      ""
     ]
    }
   ],
   "source": [
    "public class Textbook extends Book {\n",
    "    public int edition;\n",
    "\n",
    "    public Textbook(String bookTitle, double bookPrice, int editionnum) {\n",
    "        super(String bookTitle, double bookPrice);\n",
    "        edition = editionnum;\n",
    "    }\n",
    "\n",
    "    public int getEdition() {\n",
    "        return edition;\n",
    "    }\n",
    "\n",
    "    public String getBookInfo() {\n",
    "        super.getBookInfo() + \"-\" + edition;\n",
    "        // return title + \"-\" + price + \"-\" + editionnum;\n",
    "    }\n",
    "\n",
    "    public boolean canSubsituteFor(Textbook two) {\n",
    "        if (two.getTitle().equals(getTitle()) && two.getEdition() <= getEditon()) {\n",
    "            return true;\n",
    "        }\n",
    "        else {\n",
    "            return false;\n",
    "        }\n",
    "    }\n",
    "\n",
    "    \n",
    "}"
   ]
  },
  {
   "attachments": {},
   "cell_type": "markdown",
   "metadata": {},
   "source": [
    "- edition needs to be private\n",
    "- the super in the constructor should not redefine bookTItle as String, etc\n",
    "- forgot the return in getBookInfo()\n",
    "- if else not needed\n",
    "- misspelled getEdition()"
   ]
  },
  {
   "attachments": {},
   "cell_type": "markdown",
   "metadata": {},
   "source": [
    "Corrected code (essential parts)"
   ]
  },
  {
   "cell_type": "code",
   "execution_count": null,
   "metadata": {
    "vscode": {
     "languageId": "java"
    }
   },
   "outputs": [
    {
     "name": "stdout",
     "output_type": "stream",
     "text": [
      "Harry Potter-5.0-3\n"
     ]
    }
   ],
   "source": [
    "public class Textbook extends Book {\n",
    "    private int edition;\n",
    "\n",
    "    public Textbook(String bookTitle, double bookPrice, int editionnum) {\n",
    "        super(bookTitle, bookPrice);\n",
    "        edition = editionnum;\n",
    "    }\n",
    "\n",
    "    public int getEdition() {\n",
    "        return edition;\n",
    "    }\n",
    "\n",
    "    public String getBookInfo() {\n",
    "        return super.getBookInfo() + \"-\" + edition;\n",
    "        // return title + \"-\" + price + \"-\" + editionnum;\n",
    "    }\n",
    "\n",
    "    public boolean canSubsituteFor(Textbook two) {\n",
    "        if (two.getTitle().equals(getTitle()) && two.getEdition() <= this.getEdition()) {\n",
    "            return true;\n",
    "        }\n",
    "        else {\n",
    "            return false;\n",
    "        }\n",
    "    }\n",
    "\n",
    "    public static void main(String[] args) {\n",
    "\n",
    "        Textbook test = new Textbook(\"Harry Potter\", 5.0, 3);\n",
    "        System.out.println(test.getBookInfo());\n",
    "        \n",
    "    \n",
    "    }\n",
    "\n",
    "    \n",
    "}\n",
    "\n",
    "Textbook.main(null);"
   ]
  },
  {
   "attachments": {},
   "cell_type": "markdown",
   "metadata": {},
   "source": [
    "## Methods and Control Structures"
   ]
  },
  {
   "cell_type": "code",
   "execution_count": 4,
   "metadata": {
    "vscode": {
     "languageId": "java"
    }
   },
   "outputs": [
    {
     "name": "stdout",
     "output_type": "stream",
     "text": [
      "the prop is 0.0\n"
     ]
    }
   ],
   "source": [
    "public class FrogSimulation {\n",
    "    private int goalDistance;\n",
    "    private int maxHops;\n",
    "    private int random;\n",
    "    private int distance = 0;\n",
    "    private int counter;\n",
    "    private double prop;\n",
    "\n",
    "    public FrogSimulation(int dist, int numHops) {\n",
    "        goalDistance = dist;\n",
    "        maxHops = numHops;\n",
    "    }\n",
    "\n",
    "    private int hopDistance() {\n",
    "        random = (int) ((Math.random()*2-1)*(Math.random()*goalDistance));\n",
    "        return random;\n",
    "    }\n",
    "\n",
    "    public boolean simulate() {\n",
    "        //a\n",
    "        for (int i=0; i<maxHops; i++) {\n",
    "            distance += this.hopDistance();\n",
    "            if (distance >= goalDistance) {\n",
    "                return true;\n",
    "            }\n",
    "\n",
    "            if (distance < 0) {\n",
    "                return false;\n",
    "            }\n",
    "        }\n",
    "        return false;\n",
    "    }\n",
    "\n",
    "    public double runSimulations(int num) {\n",
    "        //b\n",
    "        for (int i=0; i<num; i++) {\n",
    "            if (this.simulate()) {\n",
    "            counter++;\n",
    "            }\n",
    "        }\n",
    "        prop = (double) counter/num;\n",
    "        return prop;\n",
    "    }\n",
    "\n",
    "    public static void main(String[] args) {\n",
    "        FrogSimulation test = new FrogSimulation(50, 5);\n",
    "        System.out.println(\"the prop is \" + test.runSimulations(500));\n",
    "    }\n",
    "        \n",
    "}\n",
    "\n",
    "FrogSimulation.main(null);"
   ]
  },
  {
   "attachments": {},
   "cell_type": "markdown",
   "metadata": {},
   "source": [
    "## Arrays, ArrayLists"
   ]
  },
  {
   "cell_type": "code",
   "execution_count": 28,
   "metadata": {
    "vscode": {
     "languageId": "java"
    }
   },
   "outputs": [],
   "source": [
    "public class MemberInfo\n",
    "\n",
    "{\n",
    "private String n;\n",
    "private int gy;\n",
    "private boolean hgs;\n",
    "public MemberInfo(String name, int gradYear, boolean hasGoodStanding) {\n",
    "    n = name;\n",
    "    gy = gradYear;\n",
    "    hgs = hasGoodStanding;\n",
    "}\n",
    "\n",
    "public String getName() {\n",
    "    return n;\n",
    "}\n",
    "\n",
    "public int getGradYear() {\n",
    "    return gy;\n",
    "}\n",
    "\n",
    "public boolean inGoodStanding() {\n",
    "    return hgs;\n",
    "}\n",
    "\n",
    "\n",
    "}"
   ]
  },
  {
   "cell_type": "code",
   "execution_count": 8,
   "metadata": {
    "vscode": {
     "languageId": "java"
    }
   },
   "outputs": [],
   "source": [
    "public class ClubMembers\n",
    "\n",
    "{\n",
    "\n",
    "private ArrayList<MemberInfo> memberList;\n",
    "private ArrayList<MemberInfo> filler = new ArrayList<MemberInfo>();\n",
    "\n",
    "public ClubMembers() {\n",
    "    memberList = new ArrayList<MemberInfo>();\n",
    "    filler = new ArrayList<MemberInfo>();\n",
    "}\n",
    "\n",
    "public void addMembers(String[] names, int gradYear) {\n",
    "    //a\n",
    "    \n",
    "    for (int i=0; i<names.length; i++) {\n",
    "        MemberInfo add = new MemberInfo(names[i], gradYear, true);\n",
    "        memberList.add(add);\n",
    "    }\n",
    "}\n",
    "\n",
    "public ArrayList<MemberInfo> removeMembers(int year) {\n",
    "    //b\n",
    "    for (int i=0; i<memberList.size(); i++) {\n",
    "        if (memberList.get(i).getGradYear() >= year) {\n",
    "            if (memberList.get(i).inGoodStanding()) {\n",
    "                MemberInfo print = new MemberInfo(names[i], gradYear, true);\n",
    "                filler.add(print); \n",
    "            }\n",
    "            memberList.remove(i);\n",
    "        }\n",
    "    }\n",
    "    return filler;\n",
    "}\n",
    "\n",
    "}"
   ]
  },
  {
   "attachments": {},
   "cell_type": "markdown",
   "metadata": {},
   "source": [
    "Issues\n",
    "- going from 0 to memberList.size() will not work because we wouldc be remoing the indexes which would screw up the indexes for the rest. Better to start at the back"
   ]
  },
  {
   "attachments": {},
   "cell_type": "markdown",
   "metadata": {},
   "source": [
    "Fixed code"
   ]
  },
  {
   "cell_type": "code",
   "execution_count": 30,
   "metadata": {
    "vscode": {
     "languageId": "java"
    }
   },
   "outputs": [
    {
     "name": "stdout",
     "output_type": "stream",
     "text": [
      "Currently enrolled: Aidan William Lily Serafina and people who graduates in 2025 \n",
      "Graduated with good standing (Aidan didn't): Serafina Lily William \n",
      "Currently enrolled: and people who graduates in 2025 "
     ]
    }
   ],
   "source": [
    "public class ClubMembers\n",
    "\n",
    "{\n",
    "\n",
    "private ArrayList<MemberInfo> memberList;\n",
    "private ArrayList<MemberInfo> filler = new ArrayList<MemberInfo>();\n",
    "\n",
    "public ClubMembers() {\n",
    "    memberList = new ArrayList<MemberInfo>();\n",
    "    filler = new ArrayList<MemberInfo>();\n",
    "}\n",
    "\n",
    "public void addMembers(String[] names, int gradYear) {\n",
    "    //a\n",
    "    \n",
    "    for (int i=0; i<names.length; i++) {\n",
    "        // For testing purposes\n",
    "        MemberInfo add = new MemberInfo(names[i], gradYear, true);\n",
    "        if (names[i].compareTo(\"Aidan\") == 0) {\n",
    "            add = new MemberInfo(names[i], gradYear, false);\n",
    "        }\n",
    "        memberList.add(add);\n",
    "    }\n",
    "}\n",
    "\n",
    "public ArrayList<MemberInfo> removeMembers(int year) {\n",
    "    //b\n",
    "    for (int i=memberList.size()-1; i>=0; i--) {\n",
    "        if (memberList.get(i).getGradYear() <= year) {\n",
    "            if (memberList.get(i).inGoodStanding()) {\n",
    "                MemberInfo print = new MemberInfo(memberList.get(i).getName(), memberList.get(i).getGradYear(), true);\n",
    "                filler.add(print); \n",
    "            }\n",
    "            memberList.remove(i);\n",
    "        }\n",
    "    }\n",
    "    return filler;\n",
    "}\n",
    "\n",
    "// extra get method\n",
    "public ArrayList<MemberInfo> getMemberList() {\n",
    "    return this.memberList;\n",
    "}\n",
    "\n",
    "public static void main(String[] args) {\n",
    "    ClubMembers test = new ClubMembers();\n",
    "    String[] names24 = {\"Aidan\", \"William\", \"Lily\", \"Serafina\"};\n",
    "    test.addMembers(names24, 2024);\n",
    "    String[] names25 = {\"and\", \"people\", \"who\", \"graduates\", \"in\", \"2025\"};\n",
    "    test.addMembers(names25, 2025);\n",
    "    ArrayList<MemberInfo> enrolled = test.getMemberList();\n",
    "    System.out.print(\"Currently enrolled: \");\n",
    "    for (MemberInfo member: enrolled) {\n",
    "        System.out.print(member.getName() + \" \");\n",
    "    }\n",
    "    System.out.println();\n",
    "    ArrayList<MemberInfo> graduated = test.removeMembers(2024);\n",
    "    System.out.print(\"Graduated with good standing (Aidan didn't): \");\n",
    "    for (MemberInfo member: graduated) {\n",
    "        System.out.print(member.getName() + \" \");\n",
    "    }\n",
    "    System.out.println();\n",
    "    enrolled = test.getMemberList();\n",
    "    System.out.print(\"Currently enrolled: \");\n",
    "    for (MemberInfo member: enrolled) {\n",
    "        System.out.print(member.getName() + \" \");\n",
    "    }\n",
    "}\n",
    "\n",
    "}\n",
    "ClubMembers.main(null);"
   ]
  }
 ],
 "metadata": {
  "kernelspec": {
   "display_name": "Java",
   "language": "java",
   "name": "java"
  },
  "language_info": {
   "codemirror_mode": "java",
   "file_extension": ".jshell",
   "mimetype": "text/x-java-source",
   "name": "Java",
   "pygments_lexer": "java",
   "version": "11.0.17+8-post-Ubuntu-1ubuntu220.04"
  },
  "orig_nbformat": 4
 },
 "nbformat": 4,
 "nbformat_minor": 2
}
