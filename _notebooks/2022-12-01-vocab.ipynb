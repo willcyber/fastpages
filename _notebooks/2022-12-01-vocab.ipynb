{
 "cells": [
  {
   "cell_type": "markdown",
   "metadata": {},
   "source": [
    "# Vocab\n",
    "- toc: true \n",
    "- badges: true\n",
    "- comments: true\n",
    "- categories: [tri2]\n",
    "- image: images/chart-preview.png"
   ]
  },
  {
   "cell_type": "markdown",
   "metadata": {},
   "source": [
    "## Unit 1\n",
    "\n",
    "- int, boolean, char, and double are primitives\n",
    "- Strings and other classes are objects\n",
    "- Compare primitives with == and objects with .equals()\n",
    "- Objects have properties while primitives do not\n",
    "- casting is when you assign a value of one primitive data type to another type. In integer division, the decimal is truncated. You need to use a double in order to keep the decimal\n",
    "- casting rounds down while Math.round rounds to the nearest int\n"
   ]
  },
  {
   "cell_type": "code",
   "execution_count": 2,
   "metadata": {
    "vscode": {
     "languageId": "java"
    }
   },
   "outputs": [
    {
     "name": "stdout",
     "output_type": "stream",
     "text": [
      "2\n",
      "2.3333333333333335\n"
     ]
    }
   ],
   "source": [
    "int a = 7;\n",
    "int b = 3;\n",
    "\n",
    "System.out.println(a/b);\n",
    "System.out.println((double)a/(double)b);"
   ]
  },
  {
   "cell_type": "markdown",
   "metadata": {},
   "source": [
    "## Unit 2\n",
    "\n",
    "- Objects are instances\n",
    "- Methods have to specify return type which can be void, or nothing\n",
    "- Static methods tied with the class and defined once across all instances\n",
    "- Method overloading is when multiple methods with the same name have different parameters\n",
    "- Wrapper classes allow you to use primatives as objects. One use case would be in arraylists, where only objects are stored. Ex: ArrayList<Integer> myNumbers = new ArrayList<Integer>(); \n"
   ]
  },
  {
   "cell_type": "code",
   "execution_count": null,
   "metadata": {
    "vscode": {
     "languageId": "java"
    }
   },
   "outputs": [],
   "source": [
    "\n",
    "@Type(type=\"json\")\n",
    "@Column(columnDefinition = \"jsonb\")\n",
    "private Map<String,Map<String, Object>> stats = new HashMap<>(); \n",
    "\n",
    "public Integer height;\n",
    "\n",
    "public Integer weight;\n",
    "\n",
    "// Constructor used when building object from an API\n",
    "public Person(Integer weight, Date dob) {\n",
    "    this.height = height;\n",
    "    this.weight = weight;\n",
    "}\n"
   ]
  },
  {
   "cell_type": "markdown",
   "metadata": {},
   "source": [
    "- Concatanation is when you combine primatives together. For example, you would use the .append for combining two strings. You could use \"+\" to add together integers and doubles. You can concatanate a string with an integer through \"+\"."
   ]
  },
  {
   "cell_type": "code",
   "execution_count": 6,
   "metadata": {
    "vscode": {
     "languageId": "java"
    }
   },
   "outputs": [
    {
     "name": "stdout",
     "output_type": "stream",
     "text": [
      "test this\n"
     ]
    }
   ],
   "source": [
    "String a = \"test \";\n",
    "String b = \"this\";\n",
    "\n",
    "System.out.println(a+b);"
   ]
  },
  {
   "cell_type": "markdown",
   "metadata": {},
   "source": [
    "- Math.round rounds to the nearest int\n",
    "- Math.random gives a random number between two numbers"
   ]
  },
  {
   "cell_type": "code",
   "execution_count": 11,
   "metadata": {
    "vscode": {
     "languageId": "java"
    }
   },
   "outputs": [
    {
     "name": "stdout",
     "output_type": "stream",
     "text": [
      "4\n",
      "3\n"
     ]
    }
   ],
   "source": [
    "double a = 3.54;\n",
    "double b = 3.49;\n",
    "\n",
    "System.out.println(Math.round(a));\n",
    "System.out.println(Math.round(b));"
   ]
  },
  {
   "cell_type": "markdown",
   "metadata": {},
   "source": [
    "## Unit 3\n",
    "- Compound boolean values uses logical operators AND and OR to evaulate an expression as true or false"
   ]
  },
  {
   "cell_type": "code",
   "execution_count": 12,
   "metadata": {
    "vscode": {
     "languageId": "java"
    }
   },
   "outputs": [
    {
     "name": "stdout",
     "output_type": "stream",
     "text": [
      "1\n",
      "4\n",
      "5\n",
      "6\n",
      "7\n",
      "8\n",
      "9\n"
     ]
    }
   ],
   "source": [
    "boolean t = true;\n",
    "boolean f = false;\n",
    "\n",
    "\n",
    "if (t) {\n",
    "    System.out.println(\"1\");\n",
    "}\n",
    "\n",
    "if (f) {\n",
    "    System.out.println(\"2\");\n",
    "}\n",
    "\n",
    "if (f && !t) {\n",
    "    System.out.println(\"3\");\n",
    "}\n",
    "\n",
    "if (t && !f) {\n",
    "    System.out.println(\"4\");\n",
    "}\n",
    "\n",
    "if (t || f) {\n",
    "    System.out.println(\"5\");\n",
    "}\n",
    "\n",
    "if (!t || !f) {\n",
    "    System.out.println(\"6\");\n",
    "}\n",
    "\n",
    "if ((t && !f) && (t || f)) {\n",
    "    System.out.println(\"7\");\n",
    "}\n",
    "\n",
    "if ((!t || (t && f)) || t ) {\n",
    "    System.out.println(\"8\");\n",
    "}\n",
    "\n",
    "if (!((f || !t) || (f && t))) {\n",
    "    System.out.println(\"9\");\n",
    "}\n",
    "\n",
    "if (!((f && !t) || (f || t))) {\n",
    "    System.out.println(\"10\");\n",
    "}"
   ]
  },
  {
   "cell_type": "markdown",
   "metadata": {},
   "source": [
    "- Truth Tables used to see the values of boolean expressions\n",
    "![image](images/Logical-operators-table.jpg)"
   ]
  },
  {
   "cell_type": "markdown",
   "metadata": {},
   "source": [
    "- De Morgan's Law is in essence, Not (A and B) is the same as Not A or Not B\n",
    "- Remember that \"!\" denotes Not."
   ]
  },
  {
   "cell_type": "code",
   "execution_count": 13,
   "metadata": {
    "vscode": {
     "languageId": "java"
    }
   },
   "outputs": [
    {
     "name": "stdout",
     "output_type": "stream",
     "text": [
      "They are both true\n"
     ]
    }
   ],
   "source": [
    "boolean test1 = true;\n",
    "boolean test2 = true;\n",
    "\n",
    "if (!(test1 && test2)){\n",
    "    System.out.println(\"Test1 and Test2 are both false\");\n",
    "}\n",
    "else{\n",
    "    System.out.println(\"They are both true\");\n",
    "}"
   ]
  },
  {
   "cell_type": "code",
   "execution_count": 14,
   "metadata": {
    "vscode": {
     "languageId": "java"
    }
   },
   "outputs": [
    {
     "name": "stdout",
     "output_type": "stream",
     "text": [
      "They are both true once again\n"
     ]
    }
   ],
   "source": [
    "boolean test1 = true;\n",
    "boolean test2 = true;\n",
    "\n",
    "if (!test1 || !test2){\n",
    "    System.out.println(\"Test1 and Test2 are both false\");\n",
    "}\n",
    "else{\n",
    "    System.out.println(\"They are both true once again\");\n",
    "}"
   ]
  },
  {
   "cell_type": "markdown",
   "metadata": {},
   "source": [
    "## Unit 4\n",
    "\n",
    "\n",
    "- For loops defines a variable that changes every loop and runs when the conditional is true\n",
    "- Enhanced for loop interates through the whole thing \n",
    "- in the format for (int i : arr)"
   ]
  },
  {
   "cell_type": "markdown",
   "metadata": {},
   "source": [
    "- While loops run when conditional is true\n",
    "- Do While loop runs once no matter what and then checks conditionals"
   ]
  },
  {
   "cell_type": "code",
   "execution_count": 20,
   "metadata": {
    "vscode": {
     "languageId": "java"
    }
   },
   "outputs": [
    {
     "name": "stdout",
     "output_type": "stream",
     "text": [
      "1\n",
      "2\n",
      "3\n",
      "4\n",
      "5\n",
      "6\n",
      "7\n",
      "8\n",
      "9\n",
      "10\n"
     ]
    }
   ],
   "source": [
    "\n",
    "int i=1;   \n",
    " \n",
    "do{    \n",
    "    System.out.println(i);    \n",
    "i++;    \n",
    "}while(i<=10);      \n"
   ]
  },
  {
   "cell_type": "code",
   "execution_count": 21,
   "metadata": {
    "vscode": {
     "languageId": "java"
    }
   },
   "outputs": [
    {
     "name": "stdout",
     "output_type": "stream",
     "text": [
      "11\n"
     ]
    }
   ],
   "source": [
    "\n",
    "int i=11;   \n",
    " \n",
    "do{    \n",
    "    System.out.println(i);    \n",
    "i++;    \n",
    "}while(i<=10);      \n"
   ]
  },
  {
   "cell_type": "markdown",
   "metadata": {},
   "source": [
    "- nested loops are loops used inside each other\n",
    "- this can be seen in our monkey nursery rhyme thing"
   ]
  },
  {
   "cell_type": "markdown",
   "metadata": {},
   "source": [
    "## Unit 5\n",
    "\n",
    "- Classes have properties and methods\n",
    "- Properties store information about each object\n",
    "- private and public\n",
    "- Methods runs code\n",
    "- Getter and setter methods are coded to modify private attributes"
   ]
  },
  {
   "cell_type": "markdown",
   "metadata": {},
   "source": [
    "- Classes are created using the class keyword and the first letter is capitalized\n",
    "- main method class is the tester. Automatically called\n"
   ]
  },
  {
   "cell_type": "code",
   "execution_count": null,
   "metadata": {
    "vscode": {
     "languageId": "java"
    }
   },
   "outputs": [],
   "source": [
    "public class Person {\n",
    "    \n",
    "    // automatic unique identifier for Person record\n",
    "    @Id\n",
    "    @GeneratedValue(strategy = GenerationType.AUTO)\n",
    "    private Long id;\n",
    "\n",
    "    // email, password, roles are key attributes to login and authentication\n",
    "    @NotEmpty\n",
    "    @Size(min=5)\n",
    "    @Column(unique=true)\n",
    "    @Email\n",
    "    private String email;\n",
    "\n",
    "    @NotEmpty\n",
    "    private String password;\n",
    "\n",
    "    // @NonNull, etc placed in params of constructor: \"@NonNull @Size(min = 2, max = 30, message = \"Name (2 to 30 chars)\") String name\"\n",
    "    @NonNull\n",
    "    @Size(min = 2, max = 30, message = \"Name (2 to 30 chars)\")\n",
    "    private String name;\n",
    "\n",
    "    @DateTimeFormat(pattern = \"yyyy-MM-dd\")\n",
    "    private Date dob;\n",
    "    \n",
    "    // inches\n",
    "    public Integer height;\n",
    "\n",
    "    public Integer weight;\n",
    "\n",
    "    /* HashMap is used to store JSON for daily \"stats\"\n",
    "    \"stats\": {\n",
    "        \"2022-11-13\": {\n",
    "            \"calories\": 2200,\n",
    "            \"steps\": 8000\n",
    "        }\n",
    "    }\n",
    "    */\n",
    "    @Type(type=\"json\")\n",
    "    @Column(columnDefinition = \"jsonb\")\n",
    "    private Map<String,Map<String, Object>> stats = new HashMap<>(); \n",
    "    \n",
    "\n",
    "    // Constructor used when building object from an API\n",
    "    public Person(String email, String password, String name, Integer height, Integer weight, Date dob) {\n",
    "        this.email = email;\n",
    "        this.password = password;\n",
    "        this.name = name;\n",
    "        this.dob = dob;\n",
    "        this.height = height;\n",
    "        this.weight = weight;\n",
    "    }\n",
    "\n",
    "    // A custom getter to return age from dob attribute\n",
    "    public int getAge() {\n",
    "        if (this.dob != null) {\n",
    "            LocalDate birthDay = this.dob.toInstant().atZone(ZoneId.systemDefault()).toLocalDate();\n",
    "            return Period.between(birthDay, LocalDate.now()).getYears(); }\n",
    "        return -1;\n",
    "    }\n",
    "\n",
    "    // note this is just an example. just doing bmi *10\n",
    "    public int numberofsteps() {\n",
    "        int numberofsteps = (int) (weight/Math.pow(height, 2) *703 *10);\n",
    "        return numberofsteps;\n",
    "    }\n",
    "\n",
    "    public String toString() {\n",
    "        return ( \"{ \\\"email\\\": \"  +this.email+  \", \" + \"\\\"password\\\": \"  +this.password+ \"\\\"name\\\": \"  +this.name+ \"\\\"height\\\": \"  +this.height+ \"\\\"weight\\\": \"  +this.weight+ \"\\\"dob\\\": \"  +this.dob+ \" }\" );\n",
    "    }\n",
    "\n",
    "    public static void main(String[] args) throws ParseException {\n",
    "        Date dob = new SimpleDateFormat(\"MM-dd-yyyy\").parse(\"01-28-2006\");\n",
    "\n",
    "        //no arg\n",
    "        Person test = new Person();\n",
    "        System.out.println(test);\n",
    "\n",
    "        //arg\n",
    "        Person test2 = new Person(\"wutwilliam@gmail.com\", \"CyberPatriot1!\", \"William Wu\", 71, 180, dob);\n",
    "        System.out.println(test2);\n",
    "        System.out.println(test2.numberofsteps());\n",
    "        System.out.println(test2.toString());\n",
    "    }\n",
    "\n",
    "}"
   ]
  },
  {
   "cell_type": "markdown",
   "metadata": {},
   "source": [
    "- getters and setters can both be seen in use in this code\n",
    "- they get and set properties of an object\n",
    "-  this keywords gets access to properties of the class\n",
    "- public = accessible anywhere\n",
    "- private = accessible only in its own class\n",
    "- static methods dont need an object. part of the class. only initialized once at the start of the execution"
   ]
  },
  {
   "cell_type": "code",
   "execution_count": 35,
   "metadata": {
    "vscode": {
     "languageId": "java"
    }
   },
   "outputs": [
    {
     "name": "stdout",
     "output_type": "stream",
     "text": [
      "no object needed\n"
     ]
    }
   ],
   "source": [
    "public class Example {\n",
    "\n",
    "    public static void ex() {\n",
    "        System.out.println(\"no object needed\");\n",
    "    }\n",
    "\n",
    "    public static void main(String[] args){\n",
    "        ex();\n",
    "    } \n",
    "}\n",
    "\n",
    "Example.main(null);\n"
   ]
  },
  {
   "cell_type": "markdown",
   "metadata": {},
   "source": [
    "- extends in when a class is inherited from a different class\n",
    "- subclass = class that inherits\n",
    "- superclass = class inherited from"
   ]
  },
  {
   "cell_type": "code",
   "execution_count": 61,
   "metadata": {
    "vscode": {
     "languageId": "java"
    }
   },
   "outputs": [],
   "source": [
    "public class Super {\n",
    "    public void ex() {\n",
    "        System.out.println(\"test output\");\n",
    "    }\n",
    "}\n"
   ]
  },
  {
   "cell_type": "code",
   "execution_count": 62,
   "metadata": {
    "vscode": {
     "languageId": "java"
    }
   },
   "outputs": [
    {
     "name": "stdout",
     "output_type": "stream",
     "text": [
      "test output\n"
     ]
    }
   ],
   "source": [
    "\n",
    "public class Sub extends Super {\n",
    "    public static void main (String[] args) {\n",
    "           Sub ex1 = new Sub();\n",
    "    ex1.ex(); \n",
    "    }\n",
    "\n",
    "    \n",
    "}\n",
    "\n",
    "Sub.main(null);"
   ]
  },
  {
   "cell_type": "markdown",
   "metadata": {},
   "source": [
    "- toString() returns value to string. automatically ran. can be overrided\n",
    "- hashCode() returns the hash code of an object\n",
    "\n",
    "- Polymorphism is when you have multiple methjods with the same name but different parameters.\n",
    "- Overloading is when you have multiple methods with the same name but different parameters.\n",
    "- Overriding is when you have a method with the same name and parameters as a method in a superclass but you want to modify the method in the subclass.\n",
    "- Late binding is when you have allow the compiler to determine which method to use at runtime instead of compile time.\n",
    "- Big O notation tells you the number of operations an algorithm will make. Determines efficiancy"
   ]
  },
  {
   "cell_type": "markdown",
   "metadata": {},
   "source": [
    "## Unit 6\n",
    "\n",
    "Arrays are objects defined by type[] name = new type[size] or initialized with elements using type[] name = new type[]{a,b,c,...}\n",
    "Loops an enhanced can iterate through arrays\n",
    "Index goes from 0 to size-1\n",
    "Algorithms can be used to modify or get info about arrays\n",
    "\n",
    "## Unit 7\n",
    "- Wrapper class stores prim in objects\n",
    "- make sure to specify the data type\n",
    "- return arraylist using the return command\n",
    "- traverse arraylist through for loops and while loops\n",
    "- get() to get an element\n",
    "- size() to get size\n"
   ]
  }
 ],
 "metadata": {
  "kernelspec": {
   "display_name": "Java",
   "language": "java",
   "name": "java"
  },
  "language_info": {
   "codemirror_mode": "java",
   "file_extension": ".jshell",
   "mimetype": "text/x-java-source",
   "name": "Java",
   "pygments_lexer": "java",
   "version": "17.0.5+8-Ubuntu-2ubuntu120.04"
  },
  "orig_nbformat": 4
 },
 "nbformat": 4,
 "nbformat_minor": 2
}
