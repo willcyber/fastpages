{
 "cells": [
  {
   "cell_type": "markdown",
   "metadata": {},
   "source": [
    "# Vocab\n",
    "- toc: true \n",
    "- badges: true\n",
    "- comments: true\n",
    "- categories: [tri2]\n",
    "- image: images/chart-preview.png"
   ]
  },
  {
   "cell_type": "markdown",
   "metadata": {},
   "source": [
    "## List of Vocab\n",
    "\n",
    "- Casting, specifically for Division\n",
    "- Casting, specifically for Truncating or Rounding\n",
    "- Wrapper Classes, why wrap int, double. Show examples\n",
    "- Concatenation, explain or illustrate rules on mixed type Concatenation\n",
    "- Math class, specifically Random usage\n",
    "- Compound Boolean Expression\n",
    "\n",
    "- Truth Tables\n",
    "- De Morgan’s Law\n",
    "- Comparing Numbers\n",
    "- Comparing Strings\n",
    "- Comparing Objects\n",
    "- for loop, enhanced for loop\n",
    "- while loop versus do while loop\n",
    "- nested loops\n",
    "- Creating a Class, describe Naming Conventions\n",
    "- Constructor, describe why there is no return\n",
    "- Accessor methods, relationship to getter\n",
    "- Mutator methods, relationship to setter, describe void return type\n",
    "- Static variables, Class variables, show use case in code\n",
    "- Show use case of access modifiers: Public, Private, Protected\n",
    "- Static methods, Class methods\n",
    "- this Keyword\n",
    "- main method, tester methods\n",
    "- Inheritance, extends\n",
    "- Subclass constructor, super Keyword\n",
    "- Overloading a method, same name different parameters\n",
    "- Overriding a method, same signature of a method\n",
    "- Abstract Class, Abstract Method\n",
    "- Standard methods: toString(), equals(), hashCode()\n",
    "- Late binding of object, referencing superclass object, ie Animal a = new Chicken(); Animal b = new Goat();\n",
    "- Polymorphism: any of overloading, overriding, late binding\n",
    "- Big O notation for Hash map, Binary Search, Single loop, Nested Loop\n",
    "\n",
    "\n",
    "\n",
    "\n",
    "\n",
    "\n",
    "\n",
    "\n",
    "## Unit 4\n",
    "\n",
    "While loops run when conditional is true\n",
    "For loops defines a variable that changes every loop and runs when the conditional is true\n",
    "Nested iteration can be good in situations\n",
    "Enhanced for loops can loop through all elements in an array but the array cannot be modified when it is looping\n",
    "\n",
    "## Unit 5\n",
    "\n",
    "Classes have properties and methods\n",
    "Properties store information about each object\n",
    "private and public\n",
    "Methods runs code\n",
    "Getter and setter methods are coded to modify private attributes\n",
    "\n",
    "## Unit 6\n",
    "\n",
    "Arrays are objects defined by type[] name = new type[size] or initialized with elements using type[] name = new type[]{a,b,c,...}\n",
    "Loops an enhanced can iterate through arrays\n",
    "Index goes from 0 to size-1\n",
    "Algorithms can be used to modify or get info about arrays\n",
    "\n",
    "## Unit 7\n",
    "- Wrapper class stores prim in objects\n",
    "- make sure to specify the data type\n",
    "- return arraylist using the return command\n",
    "- traverse arraylist through for loops and while loops\n",
    "- get() to get an element\n",
    "- size() to get size\n"
   ]
  },
  {
   "cell_type": "markdown",
   "metadata": {},
   "source": [
    "## Unit 1\n",
    "\n",
    "- int, boolean, char, and double are primitives\n",
    "- Strings and other classes are objects\n",
    "- Compare primitives with == and objects with .equals()\n",
    "- Objects have properties while primitives do not\n",
    "- casting is when you assign a value of one primitive data type to another type. In integer division, the decimal is truncated. You need to use a double in order to keep the decimal\n",
    "- casting rounds down while Math.round rounds to the nearest int\n"
   ]
  },
  {
   "cell_type": "code",
   "execution_count": 2,
   "metadata": {
    "vscode": {
     "languageId": "java"
    }
   },
   "outputs": [
    {
     "name": "stdout",
     "output_type": "stream",
     "text": [
      "2\n",
      "2.3333333333333335\n"
     ]
    }
   ],
   "source": [
    "int a = 7;\n",
    "int b = 3;\n",
    "\n",
    "System.out.println(a/b);\n",
    "System.out.println((double)a/(double)b);"
   ]
  },
  {
   "cell_type": "markdown",
   "metadata": {},
   "source": [
    "## Unit 2\n",
    "\n",
    "- Objects are instances\n",
    "- Methods have to specify return type which can be void, or nothing\n",
    "- Static methods tied with the class and defined once across all instances\n",
    "- Method overloading is when multiple methods with the same name have different parameters\n",
    "- Wrapper classes allow you to use primatives as objects. One use case would be in arraylists, where only objects are stored. Ex: ArrayList<Integer> myNumbers = new ArrayList<Integer>(); \n"
   ]
  },
  {
   "cell_type": "code",
   "execution_count": null,
   "metadata": {
    "vscode": {
     "languageId": "java"
    }
   },
   "outputs": [],
   "source": [
    "\n",
    "@Type(type=\"json\")\n",
    "@Column(columnDefinition = \"jsonb\")\n",
    "private Map<String,Map<String, Object>> stats = new HashMap<>(); \n",
    "\n",
    "public Integer height;\n",
    "\n",
    "public Integer weight;\n",
    "\n",
    "// Constructor used when building object from an API\n",
    "public Person(Integer weight, Date dob) {\n",
    "    this.height = height;\n",
    "    this.weight = weight;\n",
    "}\n"
   ]
  },
  {
   "cell_type": "markdown",
   "metadata": {},
   "source": [
    "- Concatanation is when you combine primatives together. For example, you would use the .append for combining two strings. You could use \"+\" to add together integers and doubles. You can concatanate a string with an integer through \"+\"."
   ]
  },
  {
   "cell_type": "code",
   "execution_count": 6,
   "metadata": {
    "vscode": {
     "languageId": "java"
    }
   },
   "outputs": [
    {
     "name": "stdout",
     "output_type": "stream",
     "text": [
      "test this\n"
     ]
    }
   ],
   "source": [
    "String a = \"test \";\n",
    "String b = \"this\";\n",
    "\n",
    "System.out.println(a+b);"
   ]
  },
  {
   "cell_type": "markdown",
   "metadata": {},
   "source": [
    "- Math.round rounds to the nearest int\n",
    "- Math.random gives a random number between two numbers"
   ]
  },
  {
   "cell_type": "code",
   "execution_count": 11,
   "metadata": {
    "vscode": {
     "languageId": "java"
    }
   },
   "outputs": [
    {
     "name": "stdout",
     "output_type": "stream",
     "text": [
      "4\n",
      "3\n"
     ]
    }
   ],
   "source": [
    "double a = 3.54;\n",
    "double b = 3.49;\n",
    "\n",
    "System.out.println(Math.round(a));\n",
    "System.out.println(Math.round(b));"
   ]
  },
  {
   "cell_type": "markdown",
   "metadata": {},
   "source": [
    "## Unit 3\n",
    "- Compound boolean values uses logical operators AND and OR to evaulate an expression as true or false"
   ]
  },
  {
   "cell_type": "code",
   "execution_count": 12,
   "metadata": {
    "vscode": {
     "languageId": "java"
    }
   },
   "outputs": [
    {
     "name": "stdout",
     "output_type": "stream",
     "text": [
      "1\n",
      "4\n",
      "5\n",
      "6\n",
      "7\n",
      "8\n",
      "9\n"
     ]
    }
   ],
   "source": [
    "boolean t = true;\n",
    "boolean f = false;\n",
    "\n",
    "\n",
    "if (t) {\n",
    "    System.out.println(\"1\");\n",
    "}\n",
    "\n",
    "if (f) {\n",
    "    System.out.println(\"2\");\n",
    "}\n",
    "\n",
    "if (f && !t) {\n",
    "    System.out.println(\"3\");\n",
    "}\n",
    "\n",
    "if (t && !f) {\n",
    "    System.out.println(\"4\");\n",
    "}\n",
    "\n",
    "if (t || f) {\n",
    "    System.out.println(\"5\");\n",
    "}\n",
    "\n",
    "if (!t || !f) {\n",
    "    System.out.println(\"6\");\n",
    "}\n",
    "\n",
    "if ((t && !f) && (t || f)) {\n",
    "    System.out.println(\"7\");\n",
    "}\n",
    "\n",
    "if ((!t || (t && f)) || t ) {\n",
    "    System.out.println(\"8\");\n",
    "}\n",
    "\n",
    "if (!((f || !t) || (f && t))) {\n",
    "    System.out.println(\"9\");\n",
    "}\n",
    "\n",
    "if (!((f && !t) || (f || t))) {\n",
    "    System.out.println(\"10\");\n",
    "}"
   ]
  },
  {
   "cell_type": "markdown",
   "metadata": {},
   "source": [
    "- Truth Tables used to see the values of boolean expressions"
   ]
  }
 ],
 "metadata": {
  "kernelspec": {
   "display_name": "Java",
   "language": "java",
   "name": "java"
  },
  "language_info": {
   "codemirror_mode": "java",
   "file_extension": ".jshell",
   "mimetype": "text/x-java-source",
   "name": "Java",
   "pygments_lexer": "java",
   "version": "17.0.5+8-Ubuntu-2ubuntu120.04"
  },
  "orig_nbformat": 4
 },
 "nbformat": 4,
 "nbformat_minor": 2
}
