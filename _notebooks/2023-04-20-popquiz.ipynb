{
 "cells": [
  {
   "attachments": {},
   "cell_type": "markdown",
   "metadata": {},
   "source": [
    "# Pop Quiz\n",
    "- toc: true \n",
    "- badges: true\n",
    "- comments: true\n",
    "- categories: [tri3]\n",
    "- image: images/chart-preview.png"
   ]
  },
  {
   "cell_type": "code",
   "execution_count": 57,
   "metadata": {},
   "outputs": [
    {
     "name": "stdout",
     "output_type": "stream",
     "text": [
      "483.22098341171204\n",
      "0\n",
      "test\n",
      "700.8401315754126\n",
      "0\n",
      "Harry Potter\n"
     ]
    }
   ],
   "source": [
    "public class Book {\n",
    "    String title;\n",
    "    double uniqueid;\n",
    "    int bookcount;\n",
    "\n",
    "    public Book(String title) {\n",
    "        this.title = title;\n",
    "    }\n",
    " \n",
    "    public String toString() {\n",
    "        return (\"the title is\" + title);\n",
    "        \n",
    "    }\n",
    "\n",
    "    public String gettitle() {\n",
    "        return title;\n",
    "    }\n",
    "\n",
    "    public void generateuniqueid() {\n",
    "        uniqueid = Math.random() * 1000;\n",
    "    }\n",
    "\n",
    "    public double getuniqueid() {\n",
    "        return uniqueid;\n",
    "    }\n",
    "\n",
    "    public int getbookcount() {\n",
    "        return bookcount;\n",
    "    }\n",
    "\n",
    "    public static void main(String[] args) {\n",
    "\n",
    "        Book test = new Book(\"test\");\n",
    "        test.generateuniqueid();\n",
    "        System.out.println(test.getuniqueid());\n",
    "        System.out.println(test.getbookcount());\n",
    "        System.out.println(test.gettitle());\n",
    "\n",
    "        Book test2 = new Book(\"Harry Potter\");\n",
    "        test2.generateuniqueid();\n",
    "        System.out.println(test2.getuniqueid());\n",
    "        System.out.println(test2.getbookcount());\n",
    "        System.out.println(test2.gettitle());\n",
    "        \n",
    "    \n",
    "    }\n",
    "    \n",
    "    \n",
    "\n",
    "}\n",
    "Book.main(null);"
   ]
  }
 ],
 "metadata": {
  "kernelspec": {
   "display_name": "Java",
   "language": "java",
   "name": "java"
  },
  "language_info": {
   "codemirror_mode": "java",
   "file_extension": ".jshell",
   "mimetype": "text/x-java-source",
   "name": "java",
   "pygments_lexer": "java",
   "version": "17.0.5+8-Ubuntu-2ubuntu120.04"
  },
  "orig_nbformat": 4
 },
 "nbformat": 4,
 "nbformat_minor": 2
}
