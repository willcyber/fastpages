{
 "cells": [
  {
   "cell_type": "markdown",
   "metadata": {},
   "source": [
    "# Database video notes\n",
    "- toc: true \n",
    "- badges: true\n",
    "- comments: true\n",
    "- categories: [jupyter]\n",
    "- image: images/chart-preview.png"
   ]
  },
  {
   "cell_type": "markdown",
   "metadata": {},
   "source": [
    "# [Video Notes](https://www.youtube.com/watch?v=8SGI_XS5OPw)"
   ]
  },
  {
   "cell_type": "markdown",
   "metadata": {},
   "source": [
    "## Overview\n",
    "- Spring Data JPA: abstracts all complexity needed to interact with databases. Works well with spring boot applications\n",
    "- JPA (Java Persistance API): accessing, persisting, and managing data between java objects\n",
    "- Hibernate: a popular implementation of JPA. Basically takes any java object and extracts it with ORM (object relational mapping). Makes it so that we have a java class which we can map to a database"
   ]
  },
  {
   "cell_type": "markdown",
   "metadata": {},
   "source": [
    "## Application.properties\n",
    "- spring.datasource.url: connection to database (specify name)\n",
    "- spring.datasource.username: username, don't needa specify since local rn\n",
    "- spring.datasource.password: password, don't needa specify since local rn\n",
    "- spring.jpa.hibernate.ddl-auto=create-drop: create the schema and before the application shuts down, drop everything. We need this since we are testing various stuff with spring data JPA\n",
    "- spring.jpa.show-sql=true: so we can see the sql statements that hibernate generates\n",
    "- spring.jpa.propertoes.hibernate.dialect=org.hibermate.dialect.PostgreSQLDialect: Specifying the dialect to be Postgresql\n",
    "- spring.jpa.propertoes.hibernate.format_sql=true: sql is formatted"
   ]
  }
 ],
 "metadata": {
  "kernelspec": {
   "display_name": "Java",
   "language": "java",
   "name": "java"
  },
  "language_info": {
   "name": "java"
  },
  "orig_nbformat": 4
 },
 "nbformat": 4,
 "nbformat_minor": 2
}
