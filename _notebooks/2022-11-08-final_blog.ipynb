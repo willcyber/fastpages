{
 "cells": [
  {
   "cell_type": "markdown",
   "metadata": {},
   "source": [
    "# Final Blog\n",
    "- toc: true \n",
    "- badges: true\n",
    "- comments: true\n",
    "- categories: [jupyter]\n",
    "- image: images/chart-preview.png"
   ]
  },
  {
   "cell_type": "markdown",
   "metadata": {},
   "source": [
    "# N@TM\n",
    "- Presented on our database quiz and api\n",
    "- Great experience talking with students and parents\n",
    "- Looked at studio arts and AP CSP projects\n",
    "    - Tested the Team Berries Dictionary\n",
    "\n",
    "    \n",
    "![image](images/IMG_1838.jpg)"
   ]
  },
  {
   "cell_type": "markdown",
   "metadata": {},
   "source": [
    "# Recap of units"
   ]
  },
  {
   "cell_type": "markdown",
   "metadata": {},
   "source": [
    "# HW"
   ]
  },
  {
   "cell_type": "markdown",
   "metadata": {},
   "source": [
    "## Unit 1 HW"
   ]
  },
  {
   "cell_type": "code",
   "execution_count": 2,
   "metadata": {
    "vscode": {
     "languageId": "java"
    }
   },
   "outputs": [
    {
     "name": "stdout",
     "output_type": "stream",
     "text": [
      "Is the final in a seperate category? True to False\n",
      "Final in a seperate category is true\n",
      "What is your current grade rn?\n",
      "90.0\n",
      "What is % of grade that is final?\n",
      "25.0%\n",
      "What is your desired grade?\n",
      "93.0\n",
      "You need a 102.0 on your final\n"
     ]
    }
   ],
   "source": [
    "// java style to import library\n",
    "import java.util.Scanner;\n",
    "\n",
    "// class must alway have 1st letter as uppercase, CamelCase is Java Class convention\n",
    "public class ScanPrimitives {\n",
    "    public static void main(String[] args) {    \n",
    "        Scanner myObj = new Scanner(System.in);  // Create a Scanner object\n",
    "        System.out.println(\"Is the final in a seperate category? True to False\");\n",
    "\n",
    "        boolean tof = myObj.nextBoolean();  // Read user input\n",
    "        System.out.println(\"Final in a seperate category is \" + tof);  // Output user input\n",
    "\n",
    "        if (tof) {\n",
    "            System.out.println(\"What is your current grade rn?\");\n",
    "            double grade = myObj.nextDouble();\n",
    "            System.out.println(grade);\n",
    "\n",
    "            System.out.println(\"What is % of grade that is final?\");\n",
    "            double percent = myObj.nextDouble();\n",
    "            System.out.println(percent + \"%\");\n",
    "\n",
    "            System.out.println(\"What is your desired grade?\");\n",
    "            double desired = myObj.nextDouble();\n",
    "            System.out.println(desired);\n",
    "\n",
    "            double output = (desired - (grade * ((100-percent)/100)))/(percent/100);\n",
    "            System.out.println(\"You need a \" + output + \" on your final\");\n",
    "        }\n",
    "        else {\n",
    "            System.out.println(\"What is your current grade rn?\");\n",
    "            double grade = myObj.nextDouble();\n",
    "            System.out.println(grade);\n",
    "\n",
    "            System.out.println(\"What is the % of grade that is test category?\");\n",
    "            double percent = myObj.nextDouble();\n",
    "            System.out.println(percent + \"%\");\n",
    "\n",
    "            System.out.println(\"What is current % in tests category?\");\n",
    "            double currentpercent = myObj.nextDouble();\n",
    "            System.out.println(currentpercent + \"%\");\n",
    "\n",
    "            System.out.println(\"What is the current amount of points in the test category?\");\n",
    "            int currentpts = myObj.nextInt();\n",
    "            System.out.println(currentpts);\n",
    "\n",
    "            System.out.println(\"How many pts is the final?\");\n",
    "            int pts = myObj.nextInt();\n",
    "            System.out.println(pts);\n",
    "\n",
    "            System.out.println(\"What is your desired grade?\");\n",
    "            double desired = myObj.nextDouble();\n",
    "            System.out.println(desired);\n",
    "\n",
    "            // double output = (desired - ((grade * currentpercent)*((100 - percent)  / 100)))/((currentpts + pts)/(percent / 100))- currentpts;\n",
    "            double output = ((desired - grade+currentpercent)*(currentpts+pts)-currentpts*currentpercent)/100;\n",
    "            // double output = \n",
    "            // desired = percent * \n",
    "            // current grade = \n",
    "            System.out.println(\"You need \" + output + \" pts on your final\");\n",
    "        }\n",
    "    \n",
    "    \n",
    "}\n",
    "\n",
    "}\n",
    "ScanPrimitives.main(null);\n",
    "\n"
   ]
  },
  {
   "cell_type": "markdown",
   "metadata": {},
   "source": [
    "## Unit 2"
   ]
  },
  {
   "cell_type": "code",
   "execution_count": 11,
   "metadata": {
    "vscode": {
     "languageId": "java"
    }
   },
   "outputs": [],
   "source": [
    "public int scoreGuess(String guess)\n",
    "{\n",
    "    int count = 0;\n",
    "    for (int i = 0; i <= secret.length() - guess.length(); i++)\n",
    "    {\n",
    "        if (secret.substring(i, i + guess.length()).equals(guess))\n",
    "        {\n",
    "            count++;\n",
    "        }\n",
    "    }\n",
    "    return count * guess.length();\n",
    "}"
   ]
  },
  {
   "cell_type": "code",
   "execution_count": 10,
   "metadata": {
    "vscode": {
     "languageId": "java"
    }
   },
   "outputs": [],
   "source": [
    "public String findBetterGuess(String guess1, String guess2) {\n",
    "    if (scoreGuess(guess1) > scoreGuess(guess2)) {\n",
    "        return guess1;\n",
    "    }\n",
    "    if (scoreGuess(guess2) > scoreGuess(guess1)) {\n",
    "        return guess2;\n",
    "    }\n",
    "    if (guess1.compareTo(guess2) > 0) {\n",
    "        return guess1;\n",
    "    } else {\n",
    "        return guess2; \n",
    "    }\n",
    "\n",
    "}"
   ]
  },
  {
   "cell_type": "markdown",
   "metadata": {},
   "source": [
    "## Unit 4"
   ]
  },
  {
   "cell_type": "code",
   "execution_count": 3,
   "metadata": {
    "vscode": {
     "languageId": "java"
    }
   },
   "outputs": [
    {
     "name": "stdout",
     "output_type": "stream",
     "text": [
      "Nice job!\n",
      "code code code\n",
      "supercalifragilisticexpialidocious\n"
     ]
    }
   ],
   "source": [
    "public class CaesarCipher {\n",
    "\n",
    "    String[] letters = {\"a\", \"b\", \"c\", \"d\", \"e\", \"f\", \"g\", \"h\", \"i\", \"j\", \"k\", \"l\", \"m\", \"n\", \"o\", \"p\", \"q\", \"r\", \"s\", \"t\", \"u\", \"v\", \"w\", \"x\", \"y\", \"z\"};\n",
    "    String[] capitalLetters = {\"A\", \"B\", \"C\", \"D\", \"E\", \"F\", \"G\", \"H\", \"I\", \"J\", \"K\", \"L\", \"M\", \"N\", \"O\", \"P\", \"Q\", \"R\", \"S\", \"T\", \"U\", \"V\", \"W\", \"X\", \"Y\", \"Z\"};\n",
    "    \n",
    "    static String message1 = \"Kfzb gly!\"; \n",
    "    static String message2 = \"zlab zlab zlab\";\n",
    "    static String message3 = \"prmbozxifcoxdfifpqfzbumfxifalzflrp\";\n",
    "\n",
    "    String letterIndividual = \"\";\n",
    "\n",
    "\n",
    "    public CaesarCipher(String msg) {\n",
    "        for (int i = 0; i < msg.length(); i++) {\n",
    "            letterIndividual = msg.substring(i, i+1);\n",
    "\n",
    "\n",
    "            if (letterIndividual.equals(\" \")) {\n",
    "                System.out.print(\" \"); \n",
    "            }\n",
    "\n",
    "            if (letterIndividual.equals(\"!\")) {\n",
    "                System.out.print(\"!\"); \n",
    "            }\n",
    "\n",
    "            for (int j = 0; j < letters.length; j++) {\n",
    "                if (letterIndividual.equals(letters[j])) {\n",
    "                    System.out.print(letters[(j+3)%26]); \n",
    "                }\n",
    "\n",
    "                if (letterIndividual.equals(capitalLetters[j])) {\n",
    "                    System.out.print(capitalLetters[(j+3)%26]); \n",
    "                }\n",
    "                \n",
    "                \n",
    "            }\n",
    "        }\n",
    "        System.out.println(\"\"); \n",
    "    }\n",
    "\n",
    "    public static void main(String[] args) {\n",
    "        CaesarCipher decode = new CaesarCipher(message1); \n",
    "        CaesarCipher decode2 = new CaesarCipher(message2); \n",
    "        CaesarCipher decode3 = new CaesarCipher(message3); \n",
    "\n",
    "    }\n",
    "}\n",
    "CaesarCipher.main(null)"
   ]
  },
  {
   "cell_type": "markdown",
   "metadata": {},
   "source": [
    "## Unit 5\n",
    "- did the form mc with Lily"
   ]
  },
  {
   "cell_type": "code",
   "execution_count": 12,
   "metadata": {
    "vscode": {
     "languageId": "java"
    }
   },
   "outputs": [
    {
     "name": "stdout",
     "output_type": "stream",
     "text": [
      "0\n",
      "0.0\n",
      "9000.0\n",
      "1\n"
     ]
    }
   ],
   "source": [
    "public class StepTracker {\n",
    "    private int lowerBound;\n",
    "    private int steps;\n",
    "    private int totalDays;\n",
    "    private int activeDays;\n",
    "\n",
    "    public StepTracker(int minSteps) {\n",
    "        lowerBound = minSteps;\n",
    "        steps = 0;\n",
    "        totalDays = 0;\n",
    "        activeDays = 0;\n",
    "    }\n",
    "\n",
    "    public void addDailySteps(int newSteps) {\n",
    "        steps += newSteps;\n",
    "        totalDays += 1;\n",
    "        if (newSteps >= lowerBound) {\n",
    "            activeDays += 1;\n",
    "        }\n",
    "    }\n",
    "\n",
    "    public int activeDays(){\n",
    "        return activeDays;\n",
    "    }\n",
    "\n",
    "    public double averageSteps() {\n",
    "        if (totalDays == 0) {\n",
    "            return (double) totalDays;\n",
    "        }\n",
    "        else {\n",
    "            return (double) steps / totalDays;\n",
    "        }\n",
    "    }\n",
    "\n",
    "    public static void main(String[] args){\n",
    "\n",
    "        StepTracker tr = new StepTracker(10000);\n",
    "        System.out.println(tr.activeDays());\n",
    "        System.out.println(tr.averageSteps());\n",
    "        tr.addDailySteps(9000);\n",
    "        System.out.println(tr.averageSteps());\n",
    "        tr.addDailySteps(23000);\n",
    "        System.out.println(tr.activeDays());\n",
    "    }\n",
    "}\n",
    "StepTracker.main(null);"
   ]
  },
  {
   "cell_type": "markdown",
   "metadata": {},
   "source": [
    "## Unit 6\n",
    "\n",
    "Not too sure what I was thinking. names[n] would be incorrect in a foreach loop"
   ]
  },
  {
   "cell_type": "code",
   "execution_count": 13,
   "metadata": {
    "vscode": {
     "languageId": "java"
    }
   },
   "outputs": [],
   "source": [
    "public void addMembers(String[] names, int gradYear) {\n",
    "    for (String n : names) {\n",
    "        memberInfo member = new MemberInfo(names[n], gradYear, true);\n",
    "        memberList.add(member);\n",
    "    }\n",
    "    \n",
    "}"
   ]
  },
  {
   "cell_type": "markdown",
   "metadata": {},
   "source": [
    "Revised"
   ]
  },
  {
   "cell_type": "code",
   "execution_count": 14,
   "metadata": {
    "vscode": {
     "languageId": "java"
    }
   },
   "outputs": [],
   "source": [
    "public void addMembers(String[] names, int gradYear) {\n",
    "    for (String n : names) {\n",
    "        memberInfo member = new MemberInfo(n, gradYear, true);\n",
    "        memberList.add(member);\n",
    "    }\n",
    "    \n",
    "}"
   ]
  },
  {
   "cell_type": "markdown",
   "metadata": {},
   "source": [
    "# CB corrections"
   ]
  },
  {
   "cell_type": "markdown",
   "metadata": {},
   "source": [
    "## Score\n",
    "![image](images/score.PNG)\n",
    "\n",
    "## #15\n",
    "- misread the question. thought it wanted the array to be sorted in decreasing order\n",
    "\n",
    "## #21\n",
    "- We are trying to find the closest number so subtracting the row number will not make any sense. Not too sure why I chose E\n",
    "\n",
    "## #22\n",
    "- Need to use typecasting to let the compiler know that the object stored in the books array at this index is actually an AudioBook object. Didn't realize that there would be no compile error because igt will run the lengt() method in Audiobook because books[0] is in it\n",
    "\n",
    "## #33\n",
    "- ahhhh brain fart. somehow I thought that because sum would be eventually false, the loop will break. It will only break if they are both false, which will never happen because k will be constant.\n",
    "\n",
    "## #40\n",
    "- didn't see that it kept on calling whatsitdo"
   ]
  }
 ],
 "metadata": {
  "kernelspec": {
   "display_name": "Java",
   "language": "java",
   "name": "java"
  },
  "language_info": {
   "codemirror_mode": "java",
   "file_extension": ".jshell",
   "mimetype": "text/x-java-source",
   "name": "Java",
   "pygments_lexer": "java",
   "version": "11.0.16+8-post-Ubuntu-0ubuntu120.04"
  },
  "orig_nbformat": 4
 },
 "nbformat": 4,
 "nbformat_minor": 2
}
