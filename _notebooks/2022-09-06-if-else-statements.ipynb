{
 "cells": [
  {
   "cell_type": "markdown",
   "metadata": {},
   "source": [
    "# If else statements\n",
    "- toc: true \n",
    "- badges: true\n",
    "- comments: true\n",
    "- categories: [jupyter]\n",
    "- image: images/chart-preview.png"
   ]
  },
  {
   "cell_type": "markdown",
   "metadata": {},
   "source": [
    "# if statements\n",
    "If the condition is true, run the code inside"
   ]
  },
  {
   "cell_type": "code",
   "execution_count": 5,
   "metadata": {
    "vscode": {
     "languageId": "java"
    }
   },
   "outputs": [
    {
     "name": "stdout",
     "output_type": "stream",
     "text": [
      "test pass\n"
     ]
    }
   ],
   "source": [
    "int test = 1;\n",
    "if (test == 1) {\n",
    "    System.out.println(\"test pass\");\n",
    "}"
   ]
  },
  {
   "cell_type": "markdown",
   "metadata": {},
   "source": [
    "# if-else statements\n",
    "If the condition is true, run the code inside\n",
    "<br>\n",
    "If none of the if statements are true, run the else statement."
   ]
  },
  {
   "cell_type": "code",
   "execution_count": 7,
   "metadata": {
    "vscode": {
     "languageId": "java"
    }
   },
   "outputs": [
    {
     "name": "stdout",
     "output_type": "stream",
     "text": [
      "test failed\n"
     ]
    }
   ],
   "source": [
    "int test = 0;\n",
    "if (test == 1) {\n",
    "    System.out.println(\"test pass\");\n",
    "}\n",
    "\n",
    "else {\n",
    "    System.out.println(\"test failed\"); \n",
    "}"
   ]
  },
  {
   "cell_type": "markdown",
   "metadata": {},
   "source": [
    "# Rock paper Scissors using if-elseif-else\n",
    "See comments for futher details :D"
   ]
  },
  {
   "cell_type": "code",
   "execution_count": 14,
   "metadata": {
    "vscode": {
     "languageId": "java"
    }
   },
   "outputs": [
    {
     "name": "stdout",
     "output_type": "stream",
     "text": [
      "Enter any one of the following inputs:  \n",
      "ROCK\n",
      "PAPER\n",
      "SCISSORS\n",
      "\n",
      "Player move is: ROCK\n",
      "Computer move is: SCISSORS\n",
      "\n",
      "Player Wins\n"
     ]
    }
   ],
   "source": [
    "public class RPS \n",
    "{\n",
    "    \n",
    "    public static final String ROCK = \"ROCK\";\n",
    "    public static final String PAPER = \"PAPER\";\n",
    "    public static final String SCISSORS = \"SCISSORS\";\n",
    "\n",
    "    public static void main(String args[]) \n",
    "    {\n",
    "      System.out.println(\"Enter any one of the following inputs:  \");\n",
    "      System.out.println(\"ROCK\");\n",
    "      System.out.println(\"PAPER\");\n",
    "      System.out.println(\"SCISSORS\");\n",
    "      System.out.println();\n",
    "          \n",
    "      String playerMove = getPlayerMove();\n",
    "      String computerMove = getComputerMove(); \n",
    " \n",
    "      //Tie\n",
    "      if (playerMove.equals(computerMove))\n",
    "            System.out.println(\"Game is Tie !!\");\n",
    "        // Player = Rock, Computer = Paper     \n",
    "      else if (playerMove.equals(Game.ROCK) &&  computerMove.equals(Game.PAPER))\n",
    "            System.out.println(\"Computer Wins\");  \n",
    "        // Player = Rock, Computer = Scissors  \n",
    "      else if (playerMove.equals(Game.ROCK) &&  computerMove.equals(Game.SCISSORS))\n",
    "            System.out.println(\"Player Wins\");  \n",
    "        // Player = Paper, Computer = Scissors  \n",
    "      else if (playerMove.equals(Game.PAPER) &&  computerMove.equals(Game.SCISSORS))\n",
    "            System.out.println(\"Computer Wins\"); \n",
    "        // Player = Paper, Computer = Rock  \n",
    "      else if (playerMove.equals(Game.PAPER) &&  computerMove.equals(Game.ROCK))\n",
    "            System.out.println(\"Player Wins\"); \n",
    "        // Player = Scissors, Computer = Paper  \n",
    "      else if (playerMove.equals(Game.SCISSORS) &&  computerMove.equals(Game.PAPER))\n",
    "            System.out.println(\"Player Wins\"); \n",
    "        // Player = Scissors, Computer = Rock  \n",
    "      else if (playerMove.equals(Game.SCISSORS) &&  computerMove.equals(Game.ROCK))\n",
    "            System.out.println(\"Computer Wins\"); \n",
    "        // Player = Paper, Computer = Scissors  \n",
    "      else if (playerMove.equals(Game.PAPER))\n",
    "            System.out.println(computerMove.equals(Game.SCISSORS) ? \"Computer Wins\": \"Player wins\");     \n",
    "        // if input isn't rock, paper, or scissors\n",
    "      else\n",
    "        System.out.println(\"There was an error, please try again\");   \n",
    "    }\n",
    "    \n",
    "    //Computer mobve is randomly generated through random function \n",
    "    public static String getComputerMove()\n",
    "    {\n",
    "        String computermove;\n",
    "        Random random = new Random();\n",
    "        int input = random.nextInt(3)+1;\n",
    "        if (input == 1)\n",
    "            computermove = Game.ROCK;\n",
    "        else if(input == 2)\n",
    "            computermove = Game.PAPER;\n",
    "        else\n",
    "            computermove = Game.SCISSORS;\n",
    "            \n",
    "        System.out.println(\"Computer move is: \" + computermove);\n",
    "        System.out.println();\n",
    "        return computermove;    \n",
    "    }\n",
    "    \n",
    "    //Scanner class to detect what move user plays\n",
    "    public static String getPlayerMove()\n",
    "    {\n",
    "        Scanner in = new Scanner(System.in);\n",
    "        String input = in.next();\n",
    "        String playermove = input.toUpperCase();\n",
    "        System.out.println(\"Player move is: \"+ playermove);\n",
    "        return playermove;\n",
    "    }    \n",
    "}\n",
    "\n",
    "RPS.main(null);"
   ]
  },
  {
   "cell_type": "markdown",
   "metadata": {},
   "source": [
    "# Switch Case"
   ]
  },
  {
   "cell_type": "code",
   "execution_count": 34,
   "metadata": {
    "vscode": {
     "languageId": "java"
    }
   },
   "outputs": [
    {
     "name": "stdout",
     "output_type": "stream",
     "text": [
      "Enter any one of the following inputs:  \n",
      "ROCK\n",
      "PAPER\n",
      "SCISSORS\n",
      "\n",
      "Player move is: ROCK\n",
      "Computer move is: SCISSORS\n",
      "\n",
      "Player Wins\n"
     ]
    }
   ],
   "source": [
    "public class RPS \n",
    "{\n",
    "    \n",
    "    public static final String ROCK = \"ROCK\";\n",
    "    public static final String PAPER = \"PAPER\";\n",
    "    public static final String SCISSORS = \"SCISSORS\";\n",
    "\n",
    "\n",
    "    //Scanner class to detect what move user plays\n",
    "    public static String getPlayerMove()\n",
    "    {\n",
    "        Scanner in = new Scanner(System.in);\n",
    "        String input = in.next();\n",
    "        String playermove = input.toUpperCase();\n",
    "        System.out.println(\"Player move is: \"+ playermove);\n",
    "        return playermove;\n",
    "    }    \n",
    "        \n",
    "    public static void main(String args[]) \n",
    "    {\n",
    "      System.out.println(\"Enter any one of the following inputs:  \");\n",
    "      System.out.println(\"ROCK\");\n",
    "      System.out.println(\"PAPER\");\n",
    "      System.out.println(\"SCISSORS\");\n",
    "      System.out.println();\n",
    "          \n",
    "      String playerMove = getPlayerMove();\n",
    "      String computerMove = getComputerMove(); \n",
    " \n",
    "\n",
    "        switch (playerMove) {\n",
    "           \n",
    "            case ROCK:\n",
    "             // if user input ROCK\n",
    "                if (playerMove.equals(computerMove))\n",
    "                    System.out.println(\"Game is Tie !!\");\n",
    "                else if (playerMove.equals(Game.ROCK) &&  computerMove.equals(Game.PAPER))\n",
    "                     System.out.println(\"Computer Wins\");  \n",
    "                else if (playerMove.equals(Game.ROCK) &&  computerMove.equals(Game.SCISSORS))\n",
    "                      System.out.println(\"Player Wins\"); \n",
    "                else\n",
    "                      System.out.println(\"There was an error, please try again\");   \n",
    "                break;\n",
    "            \n",
    "            case PAPER:\n",
    "            // if user input is Paper\n",
    "                if (playerMove.equals(computerMove))\n",
    "                     System.out.println(\"Game is Tie !!\");   \n",
    "                else if (playerMove.equals(Game.PAPER) &&  computerMove.equals(Game.SCISSORS))\n",
    "                     System.out.println(\"Computer Wins\"); \n",
    "                else if (playerMove.equals(Game.PAPER) &&  computerMove.equals(Game.ROCK))\n",
    "                     System.out.println(\"Player Wins\"); \n",
    "                else\n",
    "                     System.out.println(\"There was an error, please try again\");\n",
    "                break;\n",
    "    \n",
    "            case SCISSORS:\n",
    "            // if user input is scissors\n",
    "                if (playerMove.equals(computerMove))\n",
    "                    System.out.println(\"Game is Tie !!\"); \n",
    "                else if (playerMove.equals(Game.SCISSORS) &&  computerMove.equals(Game.ROCK))\n",
    "                    System.out.println(\"Computer Wins\");  \n",
    "                else if (playerMove.equals(Game.SCISSORS) &&  computerMove.equals(Game.PAPER))\n",
    "                    System.out.println(\"Player Wins\"); \n",
    "                else\n",
    "                    System.out.println(\"There was an error, please try again\");\n",
    "                break;\n",
    "        }\n",
    "\n",
    "    }\n",
    "    \n",
    "    //Computer mobve is randomly generated through random function \n",
    "    public static String getComputerMove()\n",
    "    {\n",
    "        String computermove;\n",
    "        Random random = new Random();\n",
    "        int input = random.nextInt(3)+1;\n",
    "        if (input == 1)\n",
    "            computermove = Game.ROCK;\n",
    "        else if(input == 2)\n",
    "            computermove = Game.PAPER;\n",
    "        else\n",
    "            computermove = Game.SCISSORS;\n",
    "            \n",
    "        System.out.println(\"Computer move is: \" + computermove);\n",
    "        System.out.println();\n",
    "        return computermove;    \n",
    "    }\n",
    "    \n",
    "\n",
    "}\n",
    "\n",
    "RPS.main(null);"
   ]
  },
  {
   "cell_type": "markdown",
   "metadata": {},
   "source": [
    "# De Morgan's Law\n",
    "In essence, Not (A and B) is the same as Not A or Not B\n",
    "<br>\n",
    "Remember that \"!\" denotes Not."
   ]
  },
  {
   "cell_type": "markdown",
   "metadata": {},
   "source": [
    "## This"
   ]
  },
  {
   "cell_type": "code",
   "execution_count": 35,
   "metadata": {
    "vscode": {
     "languageId": "java"
    }
   },
   "outputs": [
    {
     "name": "stdout",
     "output_type": "stream",
     "text": [
      "They are both true\n"
     ]
    }
   ],
   "source": [
    "boolean test1 = true;\n",
    "boolean test2 = true;\n",
    "\n",
    "if (!(test1 && test2)){\n",
    "    System.out.println(\"Test1 and Test2 are both false\");\n",
    "}\n",
    "else{\n",
    "    System.out.println(\"They are both true\");\n",
    "}"
   ]
  },
  {
   "cell_type": "markdown",
   "metadata": {},
   "source": [
    "## is the same as this"
   ]
  },
  {
   "cell_type": "code",
   "execution_count": 37,
   "metadata": {
    "vscode": {
     "languageId": "java"
    }
   },
   "outputs": [
    {
     "name": "stdout",
     "output_type": "stream",
     "text": [
      "They are both true once again\n"
     ]
    }
   ],
   "source": [
    "boolean test1 = true;\n",
    "boolean test2 = true;\n",
    "\n",
    "if (!test1 || !test2){\n",
    "    System.out.println(\"Test1 and Test2 are both false\");\n",
    "}\n",
    "else{\n",
    "    System.out.println(\"They are both true once again\");\n",
    "}"
   ]
  }
 ],
 "metadata": {
  "kernelspec": {
   "display_name": "Java",
   "language": "java",
   "name": "java"
  },
  "language_info": {
   "codemirror_mode": "java",
   "file_extension": ".jshell",
   "mimetype": "text/x-java-source",
   "name": "Java",
   "pygments_lexer": "java",
   "version": "11.0.16+8-post-Ubuntu-0ubuntu120.04"
  },
  "orig_nbformat": 4,
  "vscode": {
   "interpreter": {
    "hash": "916dbcbb3f70747c44a77c7bcd40155683ae19c65e1c03b4aa3499c5328201f1"
   }
  }
 },
 "nbformat": 4,
 "nbformat_minor": 2
}
