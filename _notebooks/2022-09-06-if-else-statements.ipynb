{
 "cells": [
  {
   "cell_type": "markdown",
   "metadata": {},
   "source": [
    "# If else statements\n",
    "- toc: true \n",
    "- badges: true\n",
    "- comments: true\n",
    "- categories: [jupyter]\n",
    "- image: images/chart-preview.png"
   ]
  },
  {
   "cell_type": "markdown",
   "metadata": {},
   "source": [
    "# if statements\n",
    "If the condition is true, run the code inside"
   ]
  },
  {
   "cell_type": "code",
   "execution_count": 5,
   "metadata": {},
   "outputs": [
    {
     "name": "stdout",
     "output_type": "stream",
     "text": [
      "test pass\n"
     ]
    }
   ],
   "source": [
    "int test = 1;\n",
    "if (test == 1) {\n",
    "    System.out.println(\"test pass\");\n",
    "}"
   ]
  },
  {
   "cell_type": "markdown",
   "metadata": {},
   "source": [
    "# if-else statements\n",
    "If the condition is true, run the code inside\n",
    "<br>\n",
    "If nt of the if statements are true, run the else statement."
   ]
  },
  {
   "cell_type": "code",
   "execution_count": 7,
   "metadata": {},
   "outputs": [
    {
     "name": "stdout",
     "output_type": "stream",
     "text": [
      "test failed\n"
     ]
    }
   ],
   "source": [
    "int test = 0;\n",
    "if (test == 1) {\n",
    "    System.out.println(\"test pass\");\n",
    "}\n",
    "\n",
    "else {\n",
    "    System.out.println(\"test failed\"); \n",
    "}"
   ]
  },
  {
   "cell_type": "markdown",
   "metadata": {},
   "source": [
    "# Bool"
   ]
  },
  {
   "cell_type": "code",
   "execution_count": 8,
   "metadata": {},
   "outputs": [
    {
     "name": "stdout",
     "output_type": "stream",
     "text": [
      "1\n",
      "4\n",
      "5\n",
      "6\n",
      "7\n",
      "8\n",
      "9\n"
     ]
    }
   ],
   "source": [
    "boolean t = true;\n",
    "boolean f = false;\n",
    "\n",
    "\n",
    "if (t) {\n",
    "    System.out.println(\"1\");\n",
    "}\n",
    "\n",
    "if (f) {\n",
    "    System.out.println(\"2\");\n",
    "}\n",
    "\n",
    "if (f && !t) {\n",
    "    System.out.println(\"3\");\n",
    "}\n",
    "\n",
    "if (t && !f) {\n",
    "    System.out.println(\"4\");\n",
    "}\n",
    "\n",
    "if (t || f) {\n",
    "    System.out.println(\"5\");\n",
    "}\n",
    "\n",
    "if (!t || !f) {\n",
    "    System.out.println(\"6\");\n",
    "}\n",
    "\n",
    "if ((t && !f) && (t || f)) {\n",
    "    System.out.println(\"7\");\n",
    "}\n",
    "\n",
    "if ((!t || (t && f)) || t ) {\n",
    "    System.out.println(\"8\");\n",
    "}\n",
    "\n",
    "if (!((f || !t) || (f && t))) {\n",
    "    System.out.println(\"9\");\n",
    "}\n",
    "\n",
    "if (!((f && !t) || (f || t))) {\n",
    "    System.out.println(\"10\");\n",
    "}"
   ]
  },
  {
   "cell_type": "code",
   "execution_count": 21,
   "metadata": {},
   "outputs": [
    {
     "name": "stdout",
     "output_type": "stream",
     "text": [
      "Nice\n",
      "Work\n"
     ]
    }
   ],
   "source": [
    "int test1 = 3;\n",
    "int test2 = 1;\n",
    "\n",
    "if (test1 == 0) {\n",
    "    int test2 = 10;\n",
    "} \n",
    "else if (test1 == 3) {\n",
    "    int test2 = 5;\n",
    "    int test1 = 0;\n",
    "    System.out.println(\"Nice\");\n",
    "} \n",
    "else {\n",
    "    int test2 = 3;\n",
    "}\n",
    "\n",
    "if (test1 > test2) {\n",
    "    System.out.println(\"Work\");\n",
    "  } \n",
    "else if (test1 < test2) {\n",
    "    System.out.println(\"Job\");\n",
    "  } \n",
    "else {\n",
    "    System.out.println(\"Code\");\n",
    "  }\n"
   ]
  },
  {
   "cell_type": "code",
   "execution_count": 23,
   "metadata": {},
   "outputs": [
    {
     "name": "stdout",
     "output_type": "stream",
     "text": [
      "true\n",
      "false\n",
      "true\n",
      "true\n"
     ]
    }
   ],
   "source": [
    "public class Test { \n",
    "    public static void main(String[] args) \n",
    "    { \n",
    "        String s1 = \"HELLO\"; \n",
    "        String s2 = \"HELLO\"; \n",
    "        String s3 =  new String(\"HELLO\"); \n",
    "  \n",
    "        System.out.println(s1 == s2); \n",
    "        System.out.println(s1 == s3); \n",
    "        System.out.println(s1.equals(s2)); \n",
    "        System.out.println(s1.equals(s3)); \n",
    "    } \n",
    "} \n",
    "Test.main(null);"
   ]
  },
  {
   "cell_type": "markdown",
   "metadata": {},
   "source": [
    "# Rock paper Scissors using if-elseif-else\n",
    "See comments for futher details :D"
   ]
  },
  {
   "cell_type": "code",
   "execution_count": 26,
   "metadata": {},
   "outputs": [
    {
     "ename": "CompilationException",
     "evalue": "",
     "output_type": "error",
     "traceback": [
      "\u001b[1m\u001b[30m|   \u001b[1m\u001b[30m        System.out.println(\"Player move is: \"+ playermove);\u001b[0m\u001b[1m\u001b[30m\u001b[41m\u001b[0m\u001b[1m\u001b[30m*\u001b[0m",
      "\u001b[1m\u001b[31millegal start of expression\u001b[0m",
      "",
      "\u001b[1m\u001b[30m|   \u001b[1m\u001b[30m        \u001b[0m\u001b[1m\u001b[30m\u001b[41m\u001b[0m\u001b[1m\u001b[30mreturn playermove;\u001b[0m",
      "\u001b[1m\u001b[31millegal start of expression\u001b[0m",
      ""
     ]
    }
   ],
   "source": [
    "public class RPS \n",
    "{\n",
    "    \n",
    "    public static final String ROCK = \"ROCK\";\n",
    "    public static final String PAPER = \"PAPER\";\n",
    "    public static final String SCISSORS = \"SCISSORS\";\n",
    "\n",
    "    //Scanner class to detect what move user plays\n",
    "    public static String getPlayerMove()\n",
    "    {\n",
    "        Scanner in = new Scanner(System.in);\n",
    "        String input = in.next();\n",
    "        String playermove = input.toUpperCase();\n",
    "        System.out.println(\"Player move is: \"+ playermove);*\n",
    "        return playermove;\n",
    "    }    \n",
    "\n",
    "\n",
    "    //Computer mobve is randomly generated through random function \n",
    "    public static String getComputerMove()\n",
    "    {\n",
    "        String computermove;\n",
    "        Random random = new Random();\n",
    "        int input = random.nextInt(3)+1;\n",
    "        if (input == 1)\n",
    "            computermove = RPS.ROCK;\n",
    "        else if(input == 2)\n",
    "            computermove = RPS.PAPER;\n",
    "        else\n",
    "            computermove = RPS.SCISSORS;\n",
    "            \n",
    "        System.out.println(\"Computer move is: \" + computermove);\n",
    "        System.out.println();\n",
    "        return computermove;    \n",
    "    }\n",
    "    \n",
    "\n",
    "\n",
    "    public static void main(String args[]) \n",
    "    {\n",
    "      System.out.println(\"Enter any t of the following inputs:  \");\n",
    "      System.out.println(\"ROCK\");\n",
    "      System.out.println(\"PAPER\");\n",
    "      System.out.println(\"SCISSORS\");\n",
    "      System.out.println();\n",
    "          \n",
    "      String playerMove = getPlayerMove();\n",
    "      String computerMove = getComputerMove(); \n",
    " \n",
    "      //Tie\n",
    "      if (playerMove.equals(computerMove))\n",
    "            System.out.println(\"Game is Tie !!\");\n",
    "        // Player = Rock, Computer = Paper     \n",
    "      else if (playerMove.equals(RPS.ROCK) &&  computerMove.equals(RPS.PAPER))\n",
    "            System.out.println(\"Computer Wins\");  \n",
    "        // Player = Rock, Computer = Scissors  \n",
    "      else if (playerMove.equals(RPS.ROCK) &&  computerMove.equals(RPS.SCISSORS))\n",
    "            System.out.println(\"Player Wins\");  \n",
    "        // Player = Paper, Computer = Scissors  \n",
    "      else if (playerMove.equals(RPS.PAPER) &&  computerMove.equals(RPS.SCISSORS))\n",
    "            System.out.println(\"Computer Wins\"); \n",
    "        // Player = Paper, Computer = Rock  \n",
    "      else if (playerMove.equals(RPS.PAPER) &&  computerMove.equals(RPS.ROCK))\n",
    "            System.out.println(\"Player Wins\"); \n",
    "        // Player = Scissors, Computer = Paper  \n",
    "      else if (playerMove.equals(RPS.SCISSORS) &&  computerMove.equals(RPS.PAPER))\n",
    "            System.out.println(\"Player Wins\"); \n",
    "        // Player = Scissors, Computer = Rock  \n",
    "      else if (playerMove.equals(RPS.SCISSORS) &&  computerMove.equals(RPS.ROCK))\n",
    "            System.out.println(\"Computer Wins\"); \n",
    "        // Player = Paper, Computer = Scissors  \n",
    "      else if (playerMove.equals(RPS.PAPER))\n",
    "            System.out.println(computerMove.equals(RPS.SCISSORS) ? \"Computer Wins\": \"Player wins\");     \n",
    "        // if input isn't rock, paper, or scissors\n",
    "      else\n",
    "        System.out.println(\"There was an error, please try again\");   \n",
    "    }\n",
    "    \n",
    "}\n",
    "\n",
    "RPS.main(null);"
   ]
  },
  {
   "cell_type": "markdown",
   "metadata": {},
   "source": [
    "# Switch Case"
   ]
  },
  {
   "cell_type": "code",
   "execution_count": 4,
   "metadata": {},
   "outputs": [
    {
     "name": "stdout",
     "output_type": "stream",
     "text": [
      "Enter any one of the following inputs:  \n",
      "ROCK\n",
      "PAPER\n",
      "SCISSORS\n",
      "\n",
      "Player move is: PAPER\n",
      "Computer move is: ROCK\n",
      "\n",
      "Player Wins\n"
     ]
    }
   ],
   "source": [
    "public class RPS \n",
    "{\n",
    "    \n",
    "    public static final String ROCK = \"ROCK\";\n",
    "    public static final String PAPER = \"PAPER\";\n",
    "    public static final String SCISSORS = \"SCISSORS\";\n",
    "\n",
    "\n",
    "    //Scanner class to detect what move user plays\n",
    "    public static String getPlayerMove()\n",
    "    {\n",
    "        Scanner in = new Scanner(System.in);\n",
    "        String input = in.next();\n",
    "        String playermove = input.toUpperCase();\n",
    "        System.out.println(\"Player move is: \"+ playermove);\n",
    "        return playermove;\n",
    "    }    \n",
    "        \n",
    "    public static void main(String args[]) \n",
    "    {\n",
    "      System.out.println(\"Enter any t of the following inputs:  \");\n",
    "      System.out.println(\"ROCK\");\n",
    "      System.out.println(\"PAPER\");\n",
    "      System.out.println(\"SCISSORS\");\n",
    "      System.out.println();\n",
    "          \n",
    "      String playerMove = getPlayerMove();\n",
    "      String computerMove = getComputerMove(); \n",
    " \n",
    "\n",
    "        switch (playerMove) {\n",
    "           \n",
    "            case ROCK:\n",
    "             // if user input ROCK\n",
    "                if (playerMove.equals(computerMove))\n",
    "                    System.out.println(\"Game is Tie !!\");\n",
    "                else if (playerMove.equals(RPS.ROCK) &&  computerMove.equals(RPS.PAPER))\n",
    "                     System.out.println(\"Computer Wins\");  \n",
    "                else if (playerMove.equals(RPS.ROCK) &&  computerMove.equals(RPS.SCISSORS))\n",
    "                      System.out.println(\"Player Wins\"); \n",
    "                else\n",
    "                      System.out.println(\"There was an error, please try again\");   \n",
    "                break;\n",
    "            \n",
    "            case PAPER:\n",
    "            // if user input is Paper\n",
    "                if (playerMove.equals(computerMove))\n",
    "                     System.out.println(\"Game is Tie !!\");   \n",
    "                else if (playerMove.equals(RPS.PAPER) &&  computerMove.equals(RPS.SCISSORS))\n",
    "                     System.out.println(\"Computer Wins\"); \n",
    "                else if (playerMove.equals(RPS.PAPER) &&  computerMove.equals(RPS.ROCK))\n",
    "                     System.out.println(\"Player Wins\"); \n",
    "                else\n",
    "                     System.out.println(\"There was an error, please try again\");\n",
    "                break;\n",
    "    \n",
    "            case SCISSORS:\n",
    "            // if user input is scissors\n",
    "                if (playerMove.equals(computerMove))\n",
    "                    System.out.println(\"Game is Tie !!\"); \n",
    "                else if (playerMove.equals(RPS.SCISSORS) &&  computerMove.equals(RPS.ROCK))\n",
    "                    System.out.println(\"Computer Wins\");  \n",
    "                else if (playerMove.equals(RPS.SCISSORS) &&  computerMove.equals(RPS.PAPER))\n",
    "                    System.out.println(\"Player Wins\"); \n",
    "                else\n",
    "                    System.out.println(\"There was an error, please try again\");\n",
    "                break;\n",
    "        }\n",
    "\n",
    "    }\n",
    "    \n",
    "    //Computer mobve is randomly generated through random function \n",
    "    public static String getComputerMove()\n",
    "    {\n",
    "        String computermove;\n",
    "        Random random = new Random();\n",
    "        int input = random.nextInt(3)+1;\n",
    "        if (input == 1)\n",
    "            computermove = RPS.ROCK;\n",
    "        else if(input == 2)\n",
    "            computermove = RPS.PAPER;\n",
    "        else\n",
    "            computermove = RPS.SCISSORS;\n",
    "            \n",
    "        System.out.println(\"Computer move is: \" + computermove);\n",
    "        System.out.println();\n",
    "        return computermove;    \n",
    "    }\n",
    "    \n",
    "\n",
    "}\n",
    "\n",
    "RPS.main(null);"
   ]
  },
  {
   "cell_type": "markdown",
   "metadata": {},
   "source": [
    "# De Morgan's Law\n",
    "In essence, Not (A and B) is the same as Not A or Not B\n",
    "<br>\n",
    "Remember that \"!\" denotes Not."
   ]
  },
  {
   "cell_type": "markdown",
   "metadata": {},
   "source": [
    "## This"
   ]
  },
  {
   "cell_type": "code",
   "execution_count": 35,
   "metadata": {},
   "outputs": [
    {
     "name": "stdout",
     "output_type": "stream",
     "text": [
      "They are both true\n"
     ]
    }
   ],
   "source": [
    "boolean test1 = true;\n",
    "boolean test2 = true;\n",
    "\n",
    "if (!(test1 && test2)){\n",
    "    System.out.println(\"Test1 and Test2 are both false\");\n",
    "}\n",
    "else{\n",
    "    System.out.println(\"They are both true\");\n",
    "}"
   ]
  },
  {
   "cell_type": "markdown",
   "metadata": {},
   "source": [
    "## is the same as this"
   ]
  },
  {
   "cell_type": "code",
   "execution_count": 37,
   "metadata": {},
   "outputs": [
    {
     "name": "stdout",
     "output_type": "stream",
     "text": [
      "They are both true once again\n"
     ]
    }
   ],
   "source": [
    "boolean test1 = true;\n",
    "boolean test2 = true;\n",
    "\n",
    "if (!test1 || !test2){\n",
    "    System.out.println(\"Test1 and Test2 are both false\");\n",
    "}\n",
    "else{\n",
    "    System.out.println(\"They are both true once again\");\n",
    "}"
   ]
  }
 ],
 "metadata": {
  "kernelspec": {
   "display_name": "Java",
   "language": "java",
   "name": "java"
  },
  "language_info": {
   "codemirror_mode": "java",
   "file_extension": ".jshell",
   "mimetype": "text/x-java-source",
   "name": "java",
   "pygments_lexer": "java",
   "version": "11.0.16+8-post-Ubuntu-0ubuntu120.04"
  },
  "orig_nbformat": 4,
  "vscode": {
   "interpreter": {
    "hash": "916dbcbb3f70747c44a77c7bcd40155683ae19c65e1c03b4aa3499c5328201f1"
   }
  }
 },
 "nbformat": 4,
 "nbformat_minor": 2
}
