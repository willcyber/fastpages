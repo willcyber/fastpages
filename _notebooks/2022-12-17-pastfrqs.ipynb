{
 "cells": [
  {
   "attachments": {},
   "cell_type": "markdown",
   "metadata": {},
   "source": [
    "# [2013](https://secure-media.collegeboard.org/digitalServices/pdf/ap/apcentral/ap13_frq_comp_sci.pdf)\n",
    "## 1a"
   ]
  },
  {
   "cell_type": "code",
   "execution_count": null,
   "metadata": {
    "vscode": {
     "languageId": "java"
    }
   },
   "outputs": [],
   "source": [
    "public DownloadInfo getDownloadInfo(Stirng title) {\n",
    "    for (int i=0; i<downloadList.length(); i++) {\n",
    "        if (i.getTitle() == title) {\n",
    "            System.out.println(title + \"exists\");\n",
    "        }\n",
    "        else {\n",
    "            System.out.println(\"null\");\n",
    "        }\n",
    "}\n",
    "\n",
    "}\n",
    "\n"
   ]
  },
  {
   "cell_type": "code",
   "execution_count": null,
   "metadata": {
    "vscode": {
     "languageId": "java"
    }
   },
   "outputs": [],
   "source": [
    "public void updateDownloads(List<String> titles) {\n",
    "    \n",
    "}"
   ]
  }
 ],
 "metadata": {
  "kernelspec": {
   "display_name": "Java",
   "language": "java",
   "name": "java"
  },
  "language_info": {
   "codemirror_mode": "java",
   "file_extension": ".jshell",
   "mimetype": "text/x-java-source",
   "name": "Java",
   "pygments_lexer": "java",
   "version": "17.0.5+8-Ubuntu-2ubuntu120.04"
  },
  "orig_nbformat": 4
 },
 "nbformat": 4,
 "nbformat_minor": 2
}
