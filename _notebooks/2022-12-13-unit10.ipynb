{
 "cells": [
  {
   "cell_type": "code",
   "execution_count": 14,
   "metadata": {},
   "outputs": [],
   "source": [
    "public class School {\n",
    "    protected double numberpencil;\n",
    "    protected double numberpapaer;\n",
    "    protected double numberscis;\n",
    "\n",
    "    public School(double numberpencil, double numberpapaer, double numberscis) {\n",
    "        this.numberpencil = numberpencil;\n",
    "        this.numberpapaer = numberpapaer;\n",
    "        this.numberscis = numberscis;\n",
    "    }\n",
    "\n",
    "    public void test() {\n",
    "        System.out.println(\"test\");\n",
    "    }\n",
    "\n",
    "    \n",
    "}"
   ]
  },
  {
   "cell_type": "code",
   "execution_count": 16,
   "metadata": {},
   "outputs": [
    {
     "name": "stdout",
     "output_type": "stream",
     "text": [
      "tets test\n"
     ]
    }
   ],
   "source": [
    "public class Math extends School {\n",
    "    protected double numbercalc;\n",
    "\n",
    "    public Math(double numberpencil, double numberpapaer, double numberscis, double numbercalc) {\n",
    "        // We use the Superclass constructor for the shared attributes through the keyword \"super\"\n",
    "        super(numberpencil, numberpapaer, numberscis);\n",
    "    }\n",
    "        // hornSound is not in the Superclass, so we add it separately in the constructor\n",
    "        \n",
    "        @Override\n",
    "        public void test () {\n",
    "            System.out.println(\"tets test\");\n",
    "        }\n",
    "\n",
    "        public static void main(String[] args) {\n",
    "            // 5 argument constructor\n",
    "            Math william = new Math(2, 3, 1, 5);\n",
    "            william.test();\n",
    "        }\n",
    "\n",
    "    }\n",
    "    Math.main(null);"
   ]
  }
 ],
 "metadata": {
  "kernelspec": {
   "display_name": "Java",
   "language": "java",
   "name": "java"
  },
  "language_info": {
   "codemirror_mode": "java",
   "file_extension": ".jshell",
   "mimetype": "text/x-java-source",
   "name": "java",
   "pygments_lexer": "java",
   "version": "17.0.5+8-Ubuntu-2ubuntu120.04"
  },
  "orig_nbformat": 4
 },
 "nbformat": 4,
 "nbformat_minor": 2
}
