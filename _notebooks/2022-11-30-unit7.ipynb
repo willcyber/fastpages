{
 "cells": [
  {
   "cell_type": "code",
   "execution_count": 3,
   "metadata": {},
   "outputs": [
    {
     "name": "stdout",
     "output_type": "stream",
     "text": [
      "9\n"
     ]
    }
   ],
   "source": [
    "//Hack 3\n",
    "// find the sum of the elements in the arraylist\n",
    "\n",
    "ArrayList<Integer> num = new ArrayList<Integer>(); \n",
    "\n",
    "num.add(5);\n",
    "num.add(1);\n",
    "num.add(3);\n",
    "\n",
    "int value;\n",
    "\n",
    "for (int i : num) {\n",
    "    value +=i;\n",
    "}\n",
    "\n",
    "System.out.println(value);"
   ]
  }
 ],
 "metadata": {
  "kernelspec": {
   "display_name": "Java",
   "language": "java",
   "name": "java"
  },
  "language_info": {
   "codemirror_mode": "java",
   "file_extension": ".jshell",
   "mimetype": "text/x-java-source",
   "name": "java",
   "pygments_lexer": "java",
   "version": "17.0.5+8-Ubuntu-2ubuntu120.04"
  },
  "orig_nbformat": 4
 },
 "nbformat": 4,
 "nbformat_minor": 2
}
