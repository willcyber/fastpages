{
 "cells": [
  {
   "cell_type": "markdown",
   "metadata": {},
   "source": [
    "# FRQ #1\n",
    "- toc: true \n",
    "- badges: true\n",
    "- comments: true\n",
    "- categories: [jupyter]\n",
    "- image: images/chart-preview.png"
   ]
  },
  {
   "cell_type": "markdown",
   "metadata": {},
   "source": [
    "# 2022 FRQ Problem #1 part a"
   ]
  },
  {
   "cell_type": "markdown",
   "metadata": {},
   "source": [
    "## First Attempt"
   ]
  },
  {
   "cell_type": "code",
   "execution_count": null,
   "metadata": {
    "vscode": {
     "languageId": "java"
    }
   },
   "outputs": [],
   "source": [
    "public int getScore {\n",
    "    if (goalReached(levelOne) = true) {\n",
    "        int score = 200;\n",
    "        if (goalReached(levelTwo) = true) {\n",
    "            int score = score+100;\n",
    "            if (goalReached(levelThree) = true) {\n",
    "                int score = score+500;\n",
    "                if (isBonus() = true) {\n",
    "                    int score = score*3;\n",
    "                }\n",
    "            }\n",
    "        }\n",
    "    }\n",
    "}"
   ]
  },
  {
   "cell_type": "markdown",
   "metadata": {},
   "source": [
    "### Comments\n",
    "- I should define score at the very beginning\n",
    "- Bonus game has nothing to do with what level you completed (misread question)\n",
    "- getscore needs to have two parenthesis -> getscore()\n",
    "- levelOne and the other levels are objects\n",
    "- goalReached is a function\n",
    "- I don't need to add the actual pt value, just use the getPoints parameter\n",
    "    - my syntax wasn't right either. need to practice this and get out of the python mindset\n",
    "- forgot to return score\n"
   ]
  },
  {
   "cell_type": "markdown",
   "metadata": {},
   "source": [
    "## Solution"
   ]
  },
  {
   "cell_type": "code",
   "execution_count": null,
   "metadata": {
    "vscode": {
     "languageId": "java"
    }
   },
   "outputs": [],
   "source": [
    "public int getScore() \n",
    "{\n",
    "  int score = 0;\n",
    "  if (levelOne.goalReached())\n",
    "  {\n",
    "    score = levelOne.getPoints();\n",
    "    if (levelTwo.goalReached())\n",
    "    {\n",
    "      score += levelTwo.getPoints();\n",
    "    if (levelThree.goalReached())\n",
    "    {\n",
    "      score += levelThree.getPoints();\n",
    "    }\n",
    "  }\n",
    "}\n",
    "if (isBonus())\n",
    "{\n",
    "score *= 3;\n",
    "}\n"
   ]
  },
  {
   "cell_type": "markdown",
   "metadata": {},
   "source": [
    "# 2022 FRQ Problem #1 part b"
   ]
  },
  {
   "cell_type": "code",
   "execution_count": null,
   "metadata": {
    "vscode": {
     "languageId": "java"
    }
   },
   "outputs": [],
   "source": [
    "public int playManyTimes(num) {\n",
    "    int max = 0;\n",
    "    for (int i = 0; i<num;i++) {\n",
    "        play();\n",
    "        int score = getScore();\n",
    "        if (score > max) {\n",
    "            max = scorel\n",
    "        }\n",
    "    }\n",
    "}\n",
    "return max;"
   ]
  },
  {
   "cell_type": "markdown",
   "metadata": {},
   "source": [
    "### Comments\n",
    "- Definitely did better than part a\n",
    "- return max needs to be inside playManyTimes\n",
    "- num needs to be defined as an integer"
   ]
  },
  {
   "cell_type": "markdown",
   "metadata": {},
   "source": [
    "## Solution"
   ]
  },
  {
   "cell_type": "code",
   "execution_count": null,
   "metadata": {
    "vscode": {
     "languageId": "java"
    }
   },
   "outputs": [],
   "source": [
    "public int playManyTimes(int num) {\n",
    "    int max = 0;\n",
    "    for (int i = 0; i<num;i++) {\n",
    "        play();\n",
    "        int score = getScore();\n",
    "        if (score > max) {\n",
    "            max = scorel\n",
    "        }\n",
    "    }\n",
    "    return max;\n",
    "}\n"
   ]
  }
 ],
 "metadata": {
  "kernelspec": {
   "display_name": "Java",
   "language": "java",
   "name": "java"
  },
  "language_info": {
   "codemirror_mode": "java",
   "file_extension": ".jshell",
   "mimetype": "text/x-java-source",
   "name": "Java",
   "pygments_lexer": "java",
   "version": "11.0.16+8-post-Ubuntu-0ubuntu120.04"
  },
  "orig_nbformat": 4
 },
 "nbformat": 4,
 "nbformat_minor": 2
}
