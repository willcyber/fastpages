{
 "cells": [
  {
   "cell_type": "markdown",
   "metadata": {},
   "source": [
    "# Javascript\n",
    "- toc: true \n",
    "- badges: true\n",
    "- comments: true\n",
    "- categories: [jupyter]\n",
    "- image: images/chart-preview.png"
   ]
  },
  {
   "cell_type": "code",
   "execution_count": 2,
   "metadata": {},
   "outputs": [
    {
     "name": "stdout",
     "output_type": "stream",
     "text": [
      "Test console\n"
     ]
    }
   ],
   "source": [
    "console.log(\"Test console\");"
   ]
  },
  {
   "cell_type": "code",
   "execution_count": 9,
   "metadata": {},
   "outputs": [
    {
     "name": "stdout",
     "output_type": "stream",
     "text": [
      "Hello, World!\n",
      "Hello, World!\n"
     ]
    }
   ],
   "source": [
    "var msg = \"Hello, World!\";\n",
    "console.log(msg);\n",
    "\n",
    "function logIt(output) {\n",
    "    console.log(output);\n",
    "}\n",
    "logIt(msg);"
   ]
  },
  {
   "cell_type": "code",
   "execution_count": 10,
   "metadata": {},
   "outputs": [
    {
     "name": "stdout",
     "output_type": "stream",
     "text": [
      "Hello, World!\n"
     ]
    }
   ],
   "source": [
    "function logIt(output) {\n",
    "    console.log(output);\n",
    "}\n",
    "logIt(msg);"
   ]
  },
  {
   "cell_type": "code",
   "execution_count": 11,
   "metadata": {},
   "outputs": [
    {
     "name": "stdout",
     "output_type": "stream",
     "text": [
      "Reuse of logIT\n",
      "Hello, Students!\n",
      "2022\n"
     ]
    }
   ],
   "source": [
    "console.log(\"Reuse of logIT\")\n",
    "logIt(\"Hello, Students!\");\n",
    "logIt(2022)"
   ]
  },
  {
   "cell_type": "code",
   "execution_count": 12,
   "metadata": {},
   "outputs": [
    {
     "name": "stdout",
     "output_type": "stream",
     "text": [
      "Looking at dynamic nature of types in JavaScript\n",
      "string ; hello\n",
      "number ; 2020\n",
      "object ; [ 1, 2, 3 ]\n"
     ]
    }
   ],
   "source": [
    "function logItType(output) {\n",
    "    console.log(typeof output, \";\", output);\n",
    "}\n",
    "console.log(\"Looking at dynamic nature of types in JavaScript\")\n",
    "logItType(\"hello\"); // String\n",
    "logItType(2020);    // Number\n",
    "logItType([1, 2, 3]);  // Object is generic for this Array, which similar to Python List"
   ]
  },
  {
   "cell_type": "code",
   "execution_count": 25,
   "metadata": {},
   "outputs": [
    {
     "name": "stdout",
     "output_type": "stream",
     "text": [
      "object ; Person {\n",
      "  name: 'Mr M',\n",
      "  class1: 'CSA',\n",
      "  class2: 'CSA',\n",
      "  class3: 'CSA',\n",
      "  class4: 'CSA',\n",
      "  class5: 'CSA' }\n",
      "string ; {\"name\":\"Mr M\"}\n",
      "object ; Person {\n",
      "  name: 'Mr M',\n",
      "  class1: 'CSA',\n",
      "  class2: 'CSA',\n",
      "  class3: 'CSA',\n",
      "  class4: 'CSA',\n",
      "  class5: 'CSA',\n",
      "  role: 'Teacher' }\n",
      "string ; {\"name\":\"Mr M\",\"role\":\"Teacher\"}\n"
     ]
    }
   ],
   "source": [
    "function Person(name, class1, class2, class3, class4, class5) {\n",
    "    this.name = name;\n",
    "    this.class1 = class1;\n",
    "    this.class2 = class2;\n",
    "    this.class3 = class3;\n",
    "    this.class4 = class4;\n",
    "    this.class5 = class5;\n",
    "}\n",
    "\n",
    "// define a setter for role in Person data\n",
    "Person.prototype.setRole = function(role) {\n",
    "    this.role = role;\n",
    "}\n",
    "\n",
    "// define a JSON conversion \"method\" associated with Person\n",
    "Person.prototype.toJSON = function() {\n",
    "    const obj = {name: this.name, ghID: this.ghID, classOf: this.classOf, role: this.role};\n",
    "    const json = JSON.stringify(obj);  // json/string is useful when passing data on internet\n",
    "    return json;\n",
    "}\n",
    "\n",
    "// make a new Person and assign to variable teacher\n",
    "var teacher = new Person(\"Mr M\", \"CSA\", \"CSA\", \"CSA\", \"CSA\", \"CSA\");  // object type is easy to work with in JavaScript\n",
    "logItType(teacher);  // before role\n",
    "logItType(teacher.toJSON());  // ok to do this even though role is not yet defined\n",
    "\n",
    "// output of Object and JSON/string associated with Teacher\n",
    "teacher.setRole(\"Teacher\");   // set the role\n",
    "logItType(teacher); \n",
    "logItType(teacher.toJSON());"
   ]
  },
  {
   "cell_type": "code",
   "execution_count": 26,
   "metadata": {},
   "outputs": [
    {
     "name": "stdout",
     "output_type": "stream",
     "text": [
      "object ; [ Person {\n",
      "    name: 'Mr M',\n",
      "    class1: 'CSA',\n",
      "    class2: 'CSA',\n",
      "    class3: 'CSA',\n",
      "    class4: 'CSA',\n",
      "    class5: 'CSA',\n",
      "    role: 'Teacher' },\n",
      "  Person {\n",
      "    name: 'William',\n",
      "    class1: 'Bio',\n",
      "    class2: 'CSA',\n",
      "    class3: 'Stats',\n",
      "    class4: 'APUSH',\n",
      "    class5: 'APEL',\n",
      "    role: 'Student' },\n",
      "  Person {\n",
      "    name: 'Lily',\n",
      "    class1: 'APEL',\n",
      "    class2: 'CSA',\n",
      "    class3: 'Stats',\n",
      "    class4: 'APUSH',\n",
      "    class5: 'CSP',\n",
      "    role: 'Student' },\n",
      "  Person {\n",
      "    name: 'Vidhi',\n",
      "    class1: 'APEL',\n",
      "    class2: 'CSA',\n",
      "    class3: 'Physics',\n",
      "    class4: 'Hon Princ Eng',\n",
      "    class5: '',\n",
      "    role: 'Student' },\n",
      "  Person {\n",
      "    name: 'Riya',\n",
      "    class1: 'Calc BC',\n",
      "    class2: 'CSA',\n",
      "    class3: 'Physics',\n",
      "    class4: 'APEL',\n",
      "    class5: '',\n",
      "    role: 'Student' } ]\n",
      "string ; Mr M\n",
      "string ; {\"name\":\"Mr M\",\"role\":\"Teacher\"}\n",
      "object ; { name: 'Mr M', role: 'Teacher' }\n"
     ]
    }
   ],
   "source": [
    "// define a student Array of Person(s)\n",
    "var students = [ \n",
    "    new Person(\"William\", \"Bio\", \"CSA\", \"Stats\", \"APUSH\", \"APEL\"),\n",
    "    new Person(\"Lily\", \"APEL\", \"CSA\", \"Stats\", \"APUSH\", \"CSP\"),\n",
    "    new Person(\"Vidhi\", \"APEL\", \"CSA\", \"Physics\", \"Hon Princ Eng\", \"\"),\n",
    "    new Person(\"Riya\", \"Calc BC\", \"CSA\", \"Physics\", \"APEL\", \"\"),\n",
    "];\n",
    "\n",
    "// define a classroom and build Classroom objects and json\n",
    "function Classroom(teacher, students){ // 1 teacher, many student\n",
    "    // start Classroom with Teacher\n",
    "    teacher.setRole(\"Teacher\");\n",
    "    this.teacher = teacher;\n",
    "    this.classroom = [teacher];\n",
    "    // add each Student to Classroom\n",
    "    this.students = students;\n",
    "    this.students.forEach(student => { student.setRole(\"Student\"); this.classroom.push(student); });\n",
    "    // build json/string format of Classroom\n",
    "    this.json = [];\n",
    "    this.classroom.forEach(person => this.json.push(person.toJSON()));\n",
    "}\n",
    "\n",
    "// make a CompSci classroom from formerly defined teacher and students\n",
    "compsci = new Classroom(teacher, students);\n",
    "\n",
    "// output of Objects and JSON in CompSci classroom\n",
    "logItType(compsci.classroom);  // constructed classroom object\n",
    "logItType(compsci.classroom[0].name);  // abstract 1st objects name\n",
    "logItType(compsci.json[0]);  // show json conversion of 1st object to string\n",
    "logItType(JSON.parse(compsci.json[0]));  // show JSON.parse inverse of JSON.stringify"
   ]
  },
  {
   "cell_type": "code",
   "execution_count": 27,
   "metadata": {},
   "outputs": [
    {
     "data": {
      "text/html": [
       "<div style='display:inline-block;border: 2px solid grey;box-shadow: 0.8em 0.4em 0.4em grey;'><table><tr><th><mark>Name</mark></th><th><mark>Class 1</mark></th><th><mark>Class 2</mark></th><th><mark>Class 3</mark></th><th><mark>Class 4</mark></th><th><mark>Class 5</mark></th></tr><tr><td>Mr M</td><td>CSA</td><td>CSA</td><td>CSA</td><td>CSA</td><td>CSA</td><tr><tr><td>William</td><td>Bio</td><td>CSA</td><td>Stats</td><td>APUSH</td><td>APEL</td><tr><tr><td>Lily</td><td>APEL</td><td>CSA</td><td>Stats</td><td>APUSH</td><td>CSP</td><tr><tr><td>Vidhi</td><td>APEL</td><td>CSA</td><td>Physics</td><td>Hon Princ Eng</td><td></td><tr><tr><td>Riya</td><td>Calc BC</td><td>CSA</td><td>Physics</td><td>APEL</td><td></td><tr></table></div>"
      ]
     },
     "execution_count": 27,
     "metadata": {},
     "output_type": "execute_result"
    }
   ],
   "source": [
    "// define an HTML conversion \"method\" associated with Classroom\n",
    "Classroom.prototype._toHtml = function() {\n",
    "    // HTML Style is build using inline structure\n",
    "    var style = (\n",
    "      \"display:inline-block;\" +\n",
    "      \"border: 2px solid grey;\" +\n",
    "      \"box-shadow: 0.8em 0.4em 0.4em grey;\"\n",
    "    );\n",
    "  \n",
    "    // HTML Body of Table is build as a series of concatenations (+=)\n",
    "    var body = \"\";\n",
    "    // Heading for Array Columns\n",
    "    body += \"<tr>\";\n",
    "    body += \"<th><mark>\" + \"Name\" + \"</mark></th>\";\n",
    "    body += \"<th><mark>\" + \"Class 1\" + \"</mark></th>\";\n",
    "    body += \"<th><mark>\" + \"Class 2\" + \"</mark></th>\";\n",
    "    body += \"<th><mark>\" + \"Class 3\" + \"</mark></th>\";\n",
    "    body += \"<th><mark>\" + \"Class 4\" + \"</mark></th>\";\n",
    "    body += \"<th><mark>\" + \"Class 5\" + \"</mark></th>\";\n",
    "    body += \"</tr>\";\n",
    "    // Data of Array, iterate through each row of compsci.classroom \n",
    "    for (var row in compsci.classroom) {\n",
    "      // tr for each row, a new line\n",
    "      body += \"<tr>\";\n",
    "      // td for each column of data\n",
    "      body += \"<td>\" + compsci.classroom[row].name + \"</td>\";\n",
    "      body += \"<td>\" + compsci.classroom[row].class1 + \"</td>\";\n",
    "      body += \"<td>\" + compsci.classroom[row].class2 + \"</td>\";\n",
    "      body += \"<td>\" + compsci.classroom[row].class3 + \"</td>\";\n",
    "      body += \"<td>\" + compsci.classroom[row].class4 + \"</td>\";\n",
    "      body += \"<td>\" + compsci.classroom[row].class5 + \"</td>\";\n",
    "      // tr to end line\n",
    "      body += \"<tr>\";\n",
    "    }\n",
    "  \n",
    "     // Build and HTML fragment of div, table, table body\n",
    "    return (\n",
    "      \"<div style='\" + style + \"'>\" +\n",
    "        \"<table>\" +\n",
    "          body +\n",
    "        \"</table>\" +\n",
    "      \"</div>\"\n",
    "    );\n",
    "  \n",
    "  };\n",
    "  \n",
    "  // IJavaScript HTML processor receive parameter of defined HTML fragment\n",
    "  $$.html(compsci._toHtml());"
   ]
  }
 ],
 "metadata": {
  "kernelspec": {
   "display_name": "JavaScript (Node.js)",
   "language": "javascript",
   "name": "javascript"
  },
  "language_info": {
   "file_extension": ".js",
   "mimetype": "application/javascript",
   "name": "javascript",
   "version": "6.11.2"
  },
  "orig_nbformat": 4,
  "vscode": {
   "interpreter": {
    "hash": "916dbcbb3f70747c44a77c7bcd40155683ae19c65e1c03b4aa3499c5328201f1"
   }
  }
 },
 "nbformat": 4,
 "nbformat_minor": 2
}
