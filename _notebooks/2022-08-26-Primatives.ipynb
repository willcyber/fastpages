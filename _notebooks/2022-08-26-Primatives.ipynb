{
 "cells": [
  {
   "cell_type": "code",
   "execution_count": 1,
   "id": "70b95c92",
   "metadata": {
    "vscode": {
     "languageId": "java"
    }
   },
   "outputs": [
    {
     "name": "stdout",
     "output_type": "stream",
     "text": [
      "F=ma calculator\tEnter the mass: 2\n",
      "Enter the accel: 3\n",
      "Force calculator\n",
      "6\n",
      "2\n",
      "3\n"
     ]
    }
   ],
   "source": [
    "// java style to import library\n",
    "import java.util.Scanner;\n",
    "int mass;\n",
    "int accel;\n",
    "int Force;\n",
    "int ac;\n",
    "int m;\n",
    "\n",
    "// class must alway have 1st letter as uppercase, CamelCase is Java Class convention\n",
    "public class ScanPrimitives {\n",
    "    public static void main(String[] args) {    \n",
    "        Scanner input;\n",
    "\n",
    "        // primitive int\n",
    "        input = new Scanner(System.in);\n",
    "        System.out.print(\"F=ma calculator\");\n",
    "        System.out.print(\"\\tEnter the mass: \");\n",
    "        try {\n",
    "            int mass = input.nextInt();\n",
    "            System.out.println(mass);\n",
    "            m = mass;\n",
    "        } catch (Exception e) {  // if not an integer\n",
    "            System.out.println(\"Not an integer (form like 159), \" + e);\n",
    "        }\n",
    "        input.close();\n",
    "        \n",
    "        // primitive int\n",
    "        input = new Scanner(System.in);\n",
    "        System.out.print(\"Enter the accel: \");\n",
    "        try {\n",
    "            int accel = input.nextInt();\n",
    "            System.out.println(accel);\n",
    "            ac = accel;\n",
    "        } catch (Exception e) {  // if not an integer\n",
    "            System.out.println(\"Not an integer (form like 159), \" + e);\n",
    "        }\n",
    "        input.close();\n",
    "\n",
    "        System.out.println(\"Force calculator\");\n",
    "        int Force = m * ac;\n",
    "        System.out.println(Force);\n",
    "        System.out.println(m);\n",
    "        System.out.println(ac);\n",
    "    \n",
    "\n",
    "    }\n",
    "    \n",
    "    \n",
    "}\n",
    "\n",
    "\n",
    "ScanPrimitives.main(null);\n",
    "\n"
   ]
  }
 ],
 "metadata": {
  "kernelspec": {
   "display_name": "Java",
   "language": "java",
   "name": "java"
  },
  "language_info": {
   "codemirror_mode": "java",
   "file_extension": ".jshell",
   "mimetype": "text/x-java-source",
   "name": "Java",
   "pygments_lexer": "java",
   "version": "11.0.16+8-post-Ubuntu-0ubuntu120.04"
  }
 },
 "nbformat": 4,
 "nbformat_minor": 5
}
