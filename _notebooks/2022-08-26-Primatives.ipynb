{
 "cells": [
  {
   "cell_type": "markdown",
   "id": "fbf762ff",
   "metadata": {},
   "source": [
    "# Primatives\n",
    "- toc: true \n",
    "- badges: true\n",
    "- comments: true\n",
    "- categories: [jupyter]\n",
    "- image: images/chart-preview.png"
   ]
  },
  {
   "cell_type": "code",
   "execution_count": 10,
   "id": "70b95c92",
   "metadata": {
    "vscode": {
     "languageId": "java"
    }
   },
   "outputs": [
    {
     "name": "stdout",
     "output_type": "stream",
     "text": [
      "F=ma calculator\n",
      "Enter the mass: \n",
      "2.3\n",
      "Enter the accel: 2.5\n",
      "Force calculator\n",
      "2.3*2.5=5.75"
     ]
    }
   ],
   "source": [
    "// java style to import library\n",
    "import java.util.Scanner;\n",
    "double mass;\n",
    "double accel;\n",
    "double Force;\n",
    "double ac;\n",
    "double m;\n",
    "\n",
    "// class must alway have 1st letter as uppercase, CamelCase is Java Class convention\n",
    "public class ScanPrimitives {\n",
    "    public static void main(String[] args) {    \n",
    "        Scanner input;\n",
    "\n",
    "        // primitive int\n",
    "        input = new Scanner(System.in);\n",
    "        System.out.println(\"F=ma calculator\");\n",
    "        System.out.println(\"Enter the mass: \");\n",
    "        try {\n",
    "            double mass = input.nextDouble();\n",
    "            System.out.println(mass);\n",
    "            m = mass;\n",
    "        } catch (Exception e) {  // if not an integer\n",
    "            System.out.println(\"Not an integer (form like 159), \" + e);\n",
    "        }\n",
    "        input.close();\n",
    "        \n",
    "        // primitive int\n",
    "        input = new Scanner(System.in);\n",
    "        System.out.print(\"Enter the accel: \");\n",
    "        try {\n",
    "            double accel = input.nextDouble();\n",
    "            System.out.println(accel);\n",
    "            ac = accel;\n",
    "        } catch (Exception e) {  // if not an integer\n",
    "            System.out.println(\"Not an integer (form like 159), \" + e);\n",
    "        }\n",
    "        input.close();\n",
    "\n",
    "        System.out.println(\"Force calculator\");\n",
    "        double Force = m * ac;\n",
    "        System.out.print(m + \"*\" + ac + '=' + Force);\n",
    "\n",
    "    \n",
    "\n",
    "    }\n",
    "    \n",
    "    \n",
    "}\n",
    "\n",
    "\n",
    "ScanPrimitives.main(null);\n",
    "\n"
   ]
  }
 ],
 "metadata": {
  "kernelspec": {
   "display_name": "Java",
   "language": "java",
   "name": "java"
  },
  "language_info": {
   "codemirror_mode": "java",
   "file_extension": ".jshell",
   "mimetype": "text/x-java-source",
   "name": "Java",
   "pygments_lexer": "java",
   "version": "11.0.16+8-post-Ubuntu-0ubuntu120.04"
  }
 },
 "nbformat": 4,
 "nbformat_minor": 5
}
