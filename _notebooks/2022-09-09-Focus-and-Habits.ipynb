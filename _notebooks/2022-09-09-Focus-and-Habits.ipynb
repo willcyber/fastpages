{
 "cells": [
  {
   "cell_type": "markdown",
   "metadata": {},
   "source": [
    "# Focus and Habits\n",
    "- toc: true \n",
    "- badges: true\n",
    "- comments: true\n",
    "- categories: [jupyter]\n",
    "- image: images/chart-preview.png"
   ]
  },
  {
   "cell_type": "markdown",
   "metadata": {},
   "source": [
    "# Video Notes\n",
    "- Students often feel burned out and sacrifice their mental health for grades\n",
    "- Do something you love\n",
    "- Change your behavior\n",
    "- Socialize with others\n",
    "- Exercise, sleep, be mindful, set goals"
   ]
  },
  {
   "cell_type": "markdown",
   "metadata": {},
   "source": [
    "# Gratitude list\n",
    "- my supportive friends that always are there for me and bring me a smile\n",
    "- my parents who are supportive and help me when times get rough\n",
    "- my sister who always finds a way to make me laugh\n",
    "- my grandparents who give good advice and wants the best for me"
   ]
  },
  {
   "cell_type": "markdown",
   "metadata": {},
   "source": [
    "# Goals\n",
    "- maintain a good balance between academics and life\n",
    "- find activities or hobbies to relieve stress\n",
    "- SLEEP MORE"
   ]
  }
 ],
 "metadata": {
  "kernelspec": {
   "display_name": "Python 3.8.10 64-bit",
   "language": "python",
   "name": "python3"
  },
  "language_info": {
   "name": "python",
   "version": "3.8.10"
  },
  "orig_nbformat": 4,
  "vscode": {
   "interpreter": {
    "hash": "916dbcbb3f70747c44a77c7bcd40155683ae19c65e1c03b4aa3499c5328201f1"
   }
  }
 },
 "nbformat": 4,
 "nbformat_minor": 2
}
