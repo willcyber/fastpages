{
 "cells": [
  {
   "attachments": {},
   "cell_type": "markdown",
   "metadata": {},
   "source": [
    "# 66 MC\n",
    "- toc: true \n",
    "- badges: true\n",
    "- comments: true\n",
    "- categories: [tri2]\n",
    "- image: images/chart-preview.png"
   ]
  },
  {
   "attachments": {},
   "cell_type": "markdown",
   "metadata": {},
   "source": [
    "4, 9, 10, 16, 22, 24, 34, 38, 44, 45, 46, 50, 56, 59, 60, 63, 65, \n",
    "\n",
    "## 4\n",
    "- This was just a dumb mistake. I was too focused on flipping the && to || and forgot to add the ! to \"a\" and \"b\"\n",
    "\n",
    "## 9\n",
    "- Once again a dumb mistake. I had the right idea but picked the wrong answer. The top result will be affectected not the middle duh\n",
    "\n",
    "## 10\n",
    "- Once again a dumb mistake. I seem to always have the right idea but execute it wrong. I thought the if statements were < instead of greater than"
   ]
  }
 ],
 "metadata": {
  "language_info": {
   "name": "python"
  },
  "orig_nbformat": 4
 },
 "nbformat": 4,
 "nbformat_minor": 2
}
