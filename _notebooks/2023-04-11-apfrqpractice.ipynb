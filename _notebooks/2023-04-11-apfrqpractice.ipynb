{
 "cells": [
  {
   "attachments": {},
   "cell_type": "markdown",
   "metadata": {},
   "source": [
    "# AP FRQ Practice\n",
    "- toc: true \n",
    "- badges: true\n",
    "- comments: true\n",
    "- categories: [tri3]\n",
    "- image: images/chart-preview.png"
   ]
  },
  {
   "attachments": {},
   "cell_type": "markdown",
   "metadata": {},
   "source": [
    "# 2022"
   ]
  },
  {
   "attachments": {},
   "cell_type": "markdown",
   "metadata": {},
   "source": [
    "## 1 a"
   ]
  },
  {
   "cell_type": "code",
   "execution_count": null,
   "metadata": {
    "vscode": {
     "languageId": "java"
    }
   },
   "outputs": [],
   "source": [
    "int pts;\n",
    "if (levelOne.goalReached()) {\n",
    "    if (this.isBonus()) {\n",
    "        pts = pts + (levelOne.getPoints() * 3);\n",
    "    }\n",
    "    else {\n",
    "       pts += levelOne.getPoints(); \n",
    "    }\n",
    "    \n",
    "}\n",
    "if (levelTwo.goalReached() && levelOne.goalReached()) {\n",
    "    if (this.isBonus()) {\n",
    "        pts = pts + (levelTwo.getPoints() * 3);\n",
    "    }\n",
    "    else {\n",
    "       pts += levelTwo.getPoints(); \n",
    "    }\n",
    "}\n",
    "if (levelThree.goalReached() && levelTwo.goalReached() && levelOne.goalReached()) {\n",
    "    if (this.isBonus()) {\n",
    "        pts = pts + (levelThree.getPoints() * 3);\n",
    "    }\n",
    "    else {\n",
    "       pts += levelThree.getPoints(); \n",
    "    }\n",
    "}\n",
    "\n",
    "return pts;\n",
    "\n"
   ]
  },
  {
   "attachments": {},
   "cell_type": "markdown",
   "metadata": {},
   "source": [
    "Comments:\n",
    "- misread the problem. read bonus levels instead of bonus game."
   ]
  },
  {
   "attachments": {},
   "cell_type": "markdown",
   "metadata": {},
   "source": [
    "## 1 b"
   ]
  },
  {
   "cell_type": "code",
   "execution_count": null,
   "metadata": {
    "vscode": {
     "languageId": "java"
    }
   },
   "outputs": [],
   "source": [
    "int highest = Integer.MIN_VALUE;\n",
    "int temp;\n",
    "int pts;\n",
    "if (num > 0) {\n",
    "    for (i=0; i < num; i++) {\n",
    "        this.play();\n",
    "        temp = this.getScore();\n",
    "        if (temp > highest) {\n",
    "            highest = temp;\n",
    "        }\n",
    "    }\n",
    "}\n",
    "return highest;"
   ]
  },
  {
   "attachments": {},
   "cell_type": "markdown",
   "metadata": {},
   "source": [
    "- play() not this.play()\n",
    "- if (num>0) not needed"
   ]
  },
  {
   "attachments": {},
   "cell_type": "markdown",
   "metadata": {},
   "source": [
    "## 2"
   ]
  },
  {
   "cell_type": "code",
   "execution_count": null,
   "metadata": {
    "vscode": {
     "languageId": "java"
    }
   },
   "outputs": [],
   "source": [
    "public class Textbook extends Book {\n",
    "    public int edition;\n",
    "\n",
    "    public Textbook(String bookTitle, double bookPrice, int editionnum) {\n",
    "        super(String bookTitle, double bookPrice);\n",
    "        edition = editionnum;\n",
    "    }\n",
    "\n",
    "    public int getEdition() {\n",
    "        return edition;\n",
    "    }\n",
    "\n",
    "    public String getBookInfo() {\n",
    "        super.getBookInfo() + \"-\" + edition;\n",
    "        // return title + \"-\" + price + \"-\" + editionnum;\n",
    "    }\n",
    "\n",
    "    public bool canSubsituteFor(Textbook two) {\n",
    "        if (two.getTitle().equals(getTitle()) && two.getEdition() <= getEditon()) {\n",
    "            return true;\n",
    "        }\n",
    "        else {\n",
    "            return false;\n",
    "        }\n",
    "    }\n",
    "\n",
    "    \n",
    "}"
   ]
  },
  {
   "attachments": {},
   "cell_type": "markdown",
   "metadata": {},
   "source": [
    "- edition needs to be private\n",
    "- the super in the constructor does not need to redefine bookTItle as String, etc\n",
    "- forgot the return in getBookInfo()\n",
    "- if else not needed"
   ]
  },
  {
   "attachments": {},
   "cell_type": "markdown",
   "metadata": {},
   "source": [
    "## 3 a"
   ]
  },
  {
   "cell_type": "code",
   "execution_count": null,
   "metadata": {
    "vscode": {
     "languageId": "java"
    }
   },
   "outputs": [],
   "source": [
    "double store = 0;\n",
    "for (i=0; i < allReviews.length; i++) {\n",
    "    double store += allReviews[i];\n",
    "}\n",
    "return store/allReviews.length;"
   ]
  },
  {
   "attachments": {},
   "cell_type": "markdown",
   "metadata": {},
   "source": [
    "- forgot the .getRating()"
   ]
  },
  {
   "attachments": {},
   "cell_type": "markdown",
   "metadata": {},
   "source": [
    "## 3 b"
   ]
  },
  {
   "cell_type": "code",
   "execution_count": null,
   "metadata": {
    "vscode": {
     "languageId": "java"
    }
   },
   "outputs": [],
   "source": [
    "ArrayList<String> collect = new ArrayList<String>();\n",
    "for (i=0; i < allReviews.length; i++) {\n",
    "    if () {\n",
    "        collect.add(i + \"-\" + allReviews[i].getComment());\n",
    "    }\n",
    "}\n",
    "return collect;"
   ]
  },
  {
   "attachments": {},
   "cell_type": "markdown",
   "metadata": {},
   "source": [
    "- honestly didnt really know the syntax for .indexOf\n",
    "- forgot .substring existed lol\n",
    "- I had right idea just lacked practice"
   ]
  },
  {
   "cell_type": "markdown",
   "metadata": {},
   "source": [
    "Solution for reference"
   ]
  },
  {
   "cell_type": "code",
   "execution_count": null,
   "metadata": {
    "vscode": {
     "languageId": "java"
    }
   },
   "outputs": [],
   "source": [
    "public ArrayList<String> collectComments()\n",
    "{\n",
    " ArrayList<String> commentList = new ArrayList<String>();\n",
    " for (int i = 0; i < allReviews.length; i++)\n",
    " {\n",
    " String comment = allReviews[i].getComment();\n",
    " if (comment.indexOf(\"!\") >= 0)\n",
    " {\n",
    " String last =\n",
    " comment.substring(comment.length() – 1);\n",
    " if (!last.equals(\"!\") && !last.equals(\".\"))\n",
    " {\n",
    " comment += \".\";\n",
    " }\n",
    " commentList.add(i + \"-\" + comment);\n",
    " }\n",
    " }\n",
    " return commentList;\n",
    "} "
   ]
  }
 ],
 "metadata": {
  "kernelspec": {
   "display_name": "Java",
   "language": "java",
   "name": "java"
  },
  "language_info": {
   "codemirror_mode": "java",
   "file_extension": ".jshell",
   "mimetype": "text/x-java-source",
   "name": "Java",
   "pygments_lexer": "java",
   "version": "17.0.5+8-Ubuntu-2ubuntu120.04"
  },
  "orig_nbformat": 4
 },
 "nbformat": 4,
 "nbformat_minor": 2
}
