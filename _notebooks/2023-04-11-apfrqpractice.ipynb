{
 "cells": [
  {
   "attachments": {},
   "cell_type": "markdown",
   "metadata": {},
   "source": [
    "# AP FRQ Practice\n",
    "- toc: true \n",
    "- badges: true\n",
    "- comments: true\n",
    "- categories: [tri3]\n",
    "- image: images/chart-preview.png"
   ]
  },
  {
   "attachments": {},
   "cell_type": "markdown",
   "metadata": {},
   "source": [
    "# 2022"
   ]
  },
  {
   "attachments": {},
   "cell_type": "markdown",
   "metadata": {},
   "source": [
    "## 1 a"
   ]
  },
  {
   "cell_type": "code",
   "execution_count": null,
   "metadata": {
    "vscode": {
     "languageId": "java"
    }
   },
   "outputs": [],
   "source": [
    "int pts;\n",
    "if (levelOne.goalReached()) {\n",
    "    if (this.isBonus()) {\n",
    "        pts = pts + (levelOne.getPoints() * 3);\n",
    "    }\n",
    "    else {\n",
    "       pts += levelOne.getPoints(); \n",
    "    }\n",
    "    \n",
    "}\n",
    "if (levelTwo.goalReached() && levelOne.goalReached()) {\n",
    "    if (this.isBonus()) {\n",
    "        pts = pts + (levelTwo.getPoints() * 3);\n",
    "    }\n",
    "    else {\n",
    "       pts += levelTwo.getPoints(); \n",
    "    }\n",
    "}\n",
    "if (levelThree.goalReached() && levelTwo.goalReached() && levelOne.goalReached()) {\n",
    "    if (this.isBonus()) {\n",
    "        pts = pts + (levelThree.getPoints() * 3);\n",
    "    }\n",
    "    else {\n",
    "       pts += levelThree.getPoints(); \n",
    "    }\n",
    "}\n",
    "\n",
    "return pts;\n",
    "\n"
   ]
  },
  {
   "attachments": {},
   "cell_type": "markdown",
   "metadata": {},
   "source": [
    "Comments:\n",
    "- misread the problem. read bonus levels instead of bonus game."
   ]
  },
  {
   "attachments": {},
   "cell_type": "markdown",
   "metadata": {},
   "source": [
    "## 1 b"
   ]
  },
  {
   "cell_type": "code",
   "execution_count": null,
   "metadata": {
    "vscode": {
     "languageId": "java"
    }
   },
   "outputs": [],
   "source": [
    "int highest = Integer.MIN_VALUE;\n",
    "int temp;\n",
    "int pts;\n",
    "if (num > 0) {\n",
    "    for (i=0; i < num; i++) {\n",
    "        this.play();\n",
    "        temp = this.getScore();\n",
    "        if (temp > highest) {\n",
    "            highest = temp;\n",
    "        }\n",
    "    }\n",
    "}\n",
    "return highest;"
   ]
  },
  {
   "attachments": {},
   "cell_type": "markdown",
   "metadata": {},
   "source": [
    "- play() not this.play()\n",
    "- if (num>0) not needed"
   ]
  },
  {
   "attachments": {},
   "cell_type": "markdown",
   "metadata": {},
   "source": [
    "## 2"
   ]
  },
  {
   "cell_type": "code",
   "execution_count": 2,
   "metadata": {
    "vscode": {
     "languageId": "java"
    }
   },
   "outputs": [],
   "source": [
    "public class Book {\n",
    "    private String title;\n",
    "\n",
    "    private double price;\n",
    "\n",
    "    public Book(String bookTitle, double bookPrice) {\n",
    "        title = bookTitle;\n",
    "        price = bookPrice;\n",
    "    }\n",
    "\n",
    "    public String getTitle() {\n",
    "        return title;\n",
    "    }\n",
    "\n",
    "    public String getBookInfo() {\n",
    "        return title + \"-\" + price;\n",
    "    }\n",
    "}"
   ]
  },
  {
   "cell_type": "code",
   "execution_count": 5,
   "metadata": {
    "vscode": {
     "languageId": "java"
    }
   },
   "outputs": [
    {
     "ename": "CompilationException",
     "evalue": "",
     "output_type": "error",
     "traceback": [
      "\u001b[1m\u001b[30m|   \u001b[1m\u001b[30m        \u001b[0m\u001b[1m\u001b[30m\u001b[41msuper.getBookInfo() + \"-\" + edition\u001b[0m\u001b[1m\u001b[30m;\u001b[0m",
      "\u001b[1m\u001b[31mnot a statement\u001b[0m",
      "",
      "\u001b[1m\u001b[30m|   \u001b[1m\u001b[30m    public \u001b[0m\u001b[1m\u001b[30m\u001b[41mbool\u001b[0m\u001b[1m\u001b[30m canSubsituteFor(Textbook two) {\u001b[0m",
      "\u001b[1m\u001b[31mcannot find symbol\u001b[0m",
      "\u001b[1m\u001b[31m  symbol:   class bool\u001b[0m",
      "",
      "\u001b[1m\u001b[30m|   \u001b[1m\u001b[30m        if (two.getTitle().equals(getTitle()) && two.getEdition() <= \u001b[0m\u001b[1m\u001b[30m\u001b[41mgetEditon\u001b[0m\u001b[1m\u001b[30m()) {\u001b[0m",
      "\u001b[1m\u001b[31mcannot find symbol\u001b[0m",
      "\u001b[1m\u001b[31m  symbol:   method getEditon()\u001b[0m",
      "",
      "\u001b[1m\u001b[30m|   \u001b[1m\u001b[30m    public String getBookInfo() \u001b[0m\u001b[1m\u001b[30m\u001b[41m{\u001b[0m",
      "\u001b[1m\u001b[30m|   \u001b[1m\u001b[30m\u001b[41m        super.getBookInfo() + \"-\" + edition;\u001b[0m",
      "\u001b[1m\u001b[30m|   \u001b[1m\u001b[30m\u001b[41m        // return title + \"-\" + price + \"-\" + editionnum;\u001b[0m",
      "\u001b[1m\u001b[30m|   \u001b[1m\u001b[30m\u001b[41m    }\u001b[0m",
      "\u001b[1m\u001b[31mmissing return statement\u001b[0m",
      ""
     ]
    }
   ],
   "source": [
    "public class Textbook extends Book {\n",
    "    public int edition;\n",
    "\n",
    "    public Textbook(String bookTitle, double bookPrice, int editionnum) {\n",
    "        super(String bookTitle, double bookPrice);\n",
    "        edition = editionnum;\n",
    "    }\n",
    "\n",
    "    public int getEdition() {\n",
    "        return edition;\n",
    "    }\n",
    "\n",
    "    public String getBookInfo() {\n",
    "        super.getBookInfo() + \"-\" + edition;\n",
    "        // return title + \"-\" + price + \"-\" + editionnum;\n",
    "    }\n",
    "\n",
    "    public boolean canSubsituteFor(Textbook two) {\n",
    "        if (two.getTitle().equals(getTitle()) && two.getEdition() <= getEditon()) {\n",
    "            return true;\n",
    "        }\n",
    "        else {\n",
    "            return false;\n",
    "        }\n",
    "    }\n",
    "\n",
    "    \n",
    "}"
   ]
  },
  {
   "attachments": {},
   "cell_type": "markdown",
   "metadata": {},
   "source": [
    "- edition needs to be private\n",
    "- the super in the constructor should not redefine bookTItle as String, etc\n",
    "- forgot the return in getBookInfo()\n",
    "- if else not needed\n",
    "- misspelled getEdition()"
   ]
  },
  {
   "attachments": {},
   "cell_type": "markdown",
   "metadata": {},
   "source": [
    "Corrected code (essential parts)"
   ]
  },
  {
   "cell_type": "code",
   "execution_count": 13,
   "metadata": {
    "vscode": {
     "languageId": "java"
    }
   },
   "outputs": [
    {
     "name": "stdout",
     "output_type": "stream",
     "text": [
      "Harry Potter-5.0-3\n"
     ]
    }
   ],
   "source": [
    "public class Textbook extends Book {\n",
    "    public int edition;\n",
    "\n",
    "    public Textbook(String bookTitle, double bookPrice, int editionnum) {\n",
    "        super(bookTitle, bookPrice);\n",
    "        edition = editionnum;\n",
    "    }\n",
    "\n",
    "    public int getEdition() {\n",
    "        return edition;\n",
    "    }\n",
    "\n",
    "    public String getBookInfo() {\n",
    "        return super.getBookInfo() + \"-\" + edition;\n",
    "        // return title + \"-\" + price + \"-\" + editionnum;\n",
    "    }\n",
    "\n",
    "    public boolean canSubsituteFor(Textbook two) {\n",
    "        if (two.getTitle().equals(getTitle()) && two.getEdition() <= this.getEdition()) {\n",
    "            return true;\n",
    "        }\n",
    "        else {\n",
    "            return false;\n",
    "        }\n",
    "    }\n",
    "\n",
    "    public static void main(String[] args) {\n",
    "\n",
    "        Textbook test = new Textbook(\"Harry Potter\", 5.0, 3);\n",
    "        System.out.println(test.getBookInfo());\n",
    "        \n",
    "    \n",
    "    }\n",
    "\n",
    "    \n",
    "}\n",
    "\n",
    "Textbook.main(null);"
   ]
  },
  {
   "attachments": {},
   "cell_type": "markdown",
   "metadata": {},
   "source": [
    "## 3 a"
   ]
  },
  {
   "cell_type": "code",
   "execution_count": null,
   "metadata": {
    "vscode": {
     "languageId": "java"
    }
   },
   "outputs": [],
   "source": [
    "double store = 0;\n",
    "for (i=0; i < allReviews.length; i++) {\n",
    "    double store += allReviews[i];\n",
    "}\n",
    "return store/allReviews.length;"
   ]
  },
  {
   "attachments": {},
   "cell_type": "markdown",
   "metadata": {},
   "source": [
    "- forgot the .getRating()"
   ]
  },
  {
   "attachments": {},
   "cell_type": "markdown",
   "metadata": {},
   "source": [
    "## 3 b"
   ]
  },
  {
   "cell_type": "code",
   "execution_count": null,
   "metadata": {
    "vscode": {
     "languageId": "java"
    }
   },
   "outputs": [],
   "source": [
    "ArrayList<String> collect = new ArrayList<String>();\n",
    "for (i=0; i < allReviews.length; i++) {\n",
    "    if () {\n",
    "        collect.add(i + \"-\" + allReviews[i].getComment());\n",
    "    }\n",
    "}\n",
    "return collect;"
   ]
  },
  {
   "attachments": {},
   "cell_type": "markdown",
   "metadata": {},
   "source": [
    "- honestly didnt really know the syntax for .indexOf\n",
    "- forgot .substring existed lol\n",
    "- I had right idea just lacked practice"
   ]
  },
  {
   "cell_type": "markdown",
   "metadata": {},
   "source": [
    "Solution for reference"
   ]
  },
  {
   "cell_type": "code",
   "execution_count": null,
   "metadata": {
    "vscode": {
     "languageId": "java"
    }
   },
   "outputs": [],
   "source": [
    "public ArrayList<String> collectComments()\n",
    "{\n",
    " ArrayList<String> commentList = new ArrayList<String>();\n",
    " for (int i = 0; i < allReviews.length; i++)\n",
    " {\n",
    " String comment = allReviews[i].getComment();\n",
    " if (comment.indexOf(\"!\") >= 0)\n",
    " {\n",
    " String last =\n",
    " comment.substring(comment.length() – 1);\n",
    " if (!last.equals(\"!\") && !last.equals(\".\"))\n",
    " {\n",
    " comment += \".\";\n",
    " }\n",
    " commentList.add(i + \"-\" + comment);\n",
    " }\n",
    " }\n",
    " return commentList;\n",
    "} "
   ]
  },
  {
   "attachments": {},
   "cell_type": "markdown",
   "metadata": {},
   "source": [
    "indexOf review\n",
    "- finds and returns the index of the character(s) it's looking for\n",
    "- return -1 if it can't find it\n",
    "- thus checkign to see if it's greater or equal to 0 basically checks if it exists\n",
    "- only used for strings"
   ]
  },
  {
   "attachments": {},
   "cell_type": "markdown",
   "metadata": {},
   "source": [
    "substring review\n",
    "- remember strings start at index 0\n",
    "- only goes from starting pt to end-1\n",
    "    - for ex: substring(2,4) only gives index 2 and 3\n",
    "- substring(2) would give everythign from index 2 and beyond"
   ]
  },
  {
   "attachments": {},
   "cell_type": "markdown",
   "metadata": {},
   "source": [
    "## 4 a"
   ]
  },
  {
   "cell_type": "code",
   "execution_count": null,
   "metadata": {
    "vscode": {
     "languageId": "java"
    }
   },
   "outputs": [],
   "source": [
    "for (int i = 0; i < grid.length; i++) {\n",
    "    for (int j = 0; j < grid[j].length; j++) {\n",
    "        int random = (int) (Math.random() * (MAX-1)) + 1;\n",
    "        while (random%10 != 0 && random%100 == 0) {\n",
    "            random = (int) (Math.random() * (MAX-1)) + 1;\n",
    "        }\n",
    "        grid[i][j] = random;\n",
    "    }\n",
    "}"
   ]
  },
  {
   "attachments": {},
   "cell_type": "markdown",
   "metadata": {},
   "source": [
    "- oops use MAX not MAX -1 cause I'm adding 1 to the end"
   ]
  },
  {
   "attachments": {},
   "cell_type": "markdown",
   "metadata": {},
   "source": [
    "## 4 b"
   ]
  },
  {
   "cell_type": "code",
   "execution_count": null,
   "metadata": {
    "vscode": {
     "languageId": "java"
    }
   },
   "outputs": [],
   "source": [
    "int count = 0;\n",
    "for (int i = 0; i < grid[0].length; i++) {\n",
    "    boolean tof = true;\n",
    "    for (int j = 1; j < grid.length; j++) {\n",
    "        if (grid[i][j] < grid[i-1][j]) {\n",
    "            tof = false;\n",
    "        }\n",
    "    }\n",
    "    if (tof)  {\n",
    "        count++;\n",
    "    }\n",
    "    return count;\n",
    "}"
   ]
  },
  {
   "attachments": {},
   "cell_type": "markdown",
   "metadata": {},
   "source": [
    "noice"
   ]
  },
  {
   "attachments": {},
   "cell_type": "markdown",
   "metadata": {},
   "source": [
    "# 2021\n",
    "## 1 a"
   ]
  },
  {
   "cell_type": "code",
   "execution_count": null,
   "metadata": {
    "vscode": {
     "languageId": "java"
    }
   },
   "outputs": [],
   "source": [
    "int freq;\n",
    "int length = guess.length();\n",
    "int j;\n",
    "for (int i=0; i<secret.length; i=i+length) {\n",
    "    j = i+length+1;\n",
    "    if (secret.substring(i, j) == guess) {\n",
    "        freq++;\n",
    "    }\n",
    "}\n",
    "return freq * length * length;"
   ]
  },
  {
   "attachments": {},
   "cell_type": "markdown",
   "metadata": {},
   "source": [
    "- I once again forgot to use .equals :')\n",
    "- forgot parenthesis for .legnth in for loop\n",
    "- <= in for loop"
   ]
  },
  {
   "cell_type": "code",
   "execution_count": null,
   "metadata": {
    "vscode": {
     "languageId": "java"
    }
   },
   "outputs": [],
   "source": [
    "int a = game.scoreGuess(guess1);\n",
    "int b = game.scoreGuess(guess2);\n",
    "int num1;\n",
    "int num2;\n",
    "if (a>b) {\n",
    "    return a;\n",
    "}\n",
    "if (b>a) {\n",
    "    return b;\n",
    "}\n",
    "else {\n",
    "    num1 = \n",
    "    //idk what to do lmao unless I create a huge array which I aint doing\n",
    "}"
   ]
  },
  {
   "attachments": {},
   "cell_type": "markdown",
   "metadata": {},
   "source": [
    "- didn't know you could use compareTo like that"
   ]
  },
  {
   "attachments": {},
   "cell_type": "markdown",
   "metadata": {},
   "source": [
    "compareTo review \n",
    "- It compares strings in dictionary (lexicographical) order:\n",
    "- If string1.compareTo(string2) < 0, then string1 precedes string2 in\n",
    "the dictionary.\n",
    "- If string1.compareTo(string2) > 0, then string1 follows string2 in the\n",
    "dictionary.\n",
    "- If string1.compareTo(string2) == 0, then string1 and string2 are\n",
    "identical. (This test is an alternative to string1.equals(string2).)\n"
   ]
  }
 ],
 "metadata": {
  "kernelspec": {
   "display_name": "Java",
   "language": "java",
   "name": "java"
  },
  "language_info": {
   "codemirror_mode": "java",
   "file_extension": ".jshell",
   "mimetype": "text/x-java-source",
   "name": "Java",
   "pygments_lexer": "java",
   "version": "17.0.5+8-Ubuntu-2ubuntu120.04"
  },
  "orig_nbformat": 4
 },
 "nbformat": 4,
 "nbformat_minor": 2
}
