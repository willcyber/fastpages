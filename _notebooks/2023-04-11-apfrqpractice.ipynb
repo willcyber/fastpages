{
 "cells": [
  {
   "attachments": {},
   "cell_type": "markdown",
   "metadata": {},
   "source": [
    "# AP FRQ Practice\n",
    "- toc: true \n",
    "- badges: true\n",
    "- comments: true\n",
    "- categories: [tri3]\n",
    "- image: images/chart-preview.png"
   ]
  },
  {
   "attachments": {},
   "cell_type": "markdown",
   "metadata": {},
   "source": [
    "## 2022 a"
   ]
  },
  {
   "cell_type": "code",
   "execution_count": null,
   "metadata": {
    "vscode": {
     "languageId": "java"
    }
   },
   "outputs": [],
   "source": [
    "int pts;\n",
    "if (levelOne.goalReached()) {\n",
    "    if (this.isBonus()) {\n",
    "        pts = pts + (levelOne.getPoints() * 3);\n",
    "    }\n",
    "    else {\n",
    "       pts += levelOne.getPoints(); \n",
    "    }\n",
    "    \n",
    "}\n",
    "if (levelTwo.goalReached() && levelOne.goalReached()) {\n",
    "    if (this.isBonus()) {\n",
    "        pts = pts + (levelTwo.getPoints() * 3);\n",
    "    }\n",
    "    else {\n",
    "       pts += levelTwo.getPoints(); \n",
    "    }\n",
    "}\n",
    "if (levelThree.goalReached() && levelTwo.goalReached() && levelOne.goalReached()) {\n",
    "    if (this.isBonus()) {\n",
    "        pts = pts + (levelThree.getPoints() * 3);\n",
    "    }\n",
    "    else {\n",
    "       pts += levelThree.getPoints(); \n",
    "    }\n",
    "}\n",
    "\n",
    "return pts;\n",
    "\n"
   ]
  },
  {
   "attachments": {},
   "cell_type": "markdown",
   "metadata": {},
   "source": [
    "Comments:\n",
    "- misread the problem. read bonus levels instead of bonus game."
   ]
  },
  {
   "attachments": {},
   "cell_type": "markdown",
   "metadata": {},
   "source": [
    "## 2022 b"
   ]
  },
  {
   "cell_type": "code",
   "execution_count": null,
   "metadata": {
    "vscode": {
     "languageId": "java"
    }
   },
   "outputs": [],
   "source": [
    "int highest = Integer.MIN_VALUE;\n",
    "int temp;\n",
    "int pts;\n",
    "if (num > 0) {\n",
    "    for (i=0; i < num; i++) {\n",
    "        this.play();\n",
    "        temp = this.getScore();\n",
    "        if (temp > highest) {\n",
    "            highest = temp;\n",
    "        }\n",
    "    }\n",
    "}\n",
    "return highest;"
   ]
  },
  {
   "attachments": {},
   "cell_type": "markdown",
   "metadata": {},
   "source": [
    "- play() not this.play()\n",
    "- if (num>0) not needed"
   ]
  }
 ],
 "metadata": {
  "kernelspec": {
   "display_name": "Java",
   "language": "java",
   "name": "java"
  },
  "language_info": {
   "codemirror_mode": "java",
   "file_extension": ".jshell",
   "mimetype": "text/x-java-source",
   "name": "Java",
   "pygments_lexer": "java",
   "version": "17.0.5+8-Ubuntu-2ubuntu120.04"
  },
  "orig_nbformat": 4
 },
 "nbformat": 4,
 "nbformat_minor": 2
}
