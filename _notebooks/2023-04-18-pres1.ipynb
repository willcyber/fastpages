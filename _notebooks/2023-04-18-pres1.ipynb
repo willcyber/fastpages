{
 "cells": [
  {
   "attachments": {},
   "cell_type": "markdown",
   "metadata": {},
   "source": [
    "# Pres 1\n",
    "- toc: true \n",
    "- badges: true\n",
    "- comments: true\n",
    "- categories: [tri3]\n",
    "- image: images/chart-preview.png"
   ]
  },
  {
   "attachments": {},
   "cell_type": "markdown",
   "metadata": {},
   "source": [
    "## Classwork"
   ]
  },
  {
   "cell_type": "code",
   "execution_count": 2,
   "metadata": {
    "vscode": {
     "languageId": "java"
    }
   },
   "outputs": [],
   "source": [
    "void merge(int arr[], int l, int m, int r)\n",
    "    {\n",
    "        // Find the sizes of two subarrays to be merged\n",
    "        int n1 = m - l + 1;\n",
    "        int n2 = r - m;\n",
    "\n",
    "        /* Create temp arrays */\n",
    "        int[] L = new int[n1];\n",
    "        int[] R = new int[n2];\n",
    "\n",
    "        /* Copy data to temp arrays */\n",
    "        for (int i = 0; i < n1; ++i)\n",
    "            L[i] = arr[l + i];\n",
    "        for (int j = 0; j < n2; ++j)\n",
    "            R[j] = arr[m + 1 + j];\n",
    "\n",
    "        /* Merge the temp arrays */\n",
    "\n",
    "        // Initial indexes of first and second subarrays\n",
    "        int i = 0, j = 0;\n",
    "\n",
    "        // Initial index of merged subarray array\n",
    "        int k = l;\n",
    "        while (i < n1 && j < n2) {\n",
    "            if (L[i] <= R[j]) {\n",
    "                // MISSING CODE #1\n",
    "                arr[k] = L[i];\n",
    "                i++;\n",
    "            }\n",
    "            else {\n",
    "                // MISSING CODE #2\n",
    "                arr[k] = R[j];\n",
    "                j++;\n",
    "            }\n",
    "            k++;\n",
    "        }\n",
    "\n",
    "        /* Copy remaining elements of L[] if any */\n",
    "        while (i < n1) {\n",
    "            arr[k] = L[i];\n",
    "            i++;\n",
    "            k++;\n",
    "        }\n",
    "\n",
    "        /* Copy remaining elements of R[] if any */\n",
    "        while (j < n2) {\n",
    "            arr[k] = R[j];\n",
    "            j++;\n",
    "            k++;\n",
    "        }\n",
    "    }\n"
   ]
  },
  {
   "attachments": {},
   "cell_type": "markdown",
   "metadata": {},
   "source": [
    "## Hack #1"
   ]
  },
  {
   "cell_type": "code",
   "execution_count": 36,
   "metadata": {
    "vscode": {
     "languageId": "java"
    }
   },
   "outputs": [
    {
     "name": "stdout",
     "output_type": "stream",
     "text": [
      "[a, b, test2, wow]\n"
     ]
    }
   ],
   "source": [
    "public class Hack {\n",
    "    void merge(String arr[], int l, int m, int r)\n",
    "    {\n",
    "        // Find the sizes of two subarrays to be merged\n",
    "        int n1 = m - l + 1;\n",
    "        int n2 = r - m;\n",
    "\n",
    "        /* Create temp arrays */\n",
    "        String[] L = new String[n1];\n",
    "        String[] R = new String[n2];\n",
    "\n",
    "        /* Copy data to temp arrays */\n",
    "        for (int i = 0; i < n1; ++i)\n",
    "            L[i] = arr[l + i];\n",
    "        for (int j = 0; j < n2; ++j)\n",
    "            R[j] = arr[m + 1 + j];\n",
    "\n",
    "        /* Merge the temp arrays */\n",
    "\n",
    "        // Initial indexes of first and second subarrays\n",
    "        int i = 0, j = 0;\n",
    "\n",
    "        // Initial index of merged subarray array\n",
    "        int k = l;\n",
    "        while (i < n1 && j < n2) {\n",
    "            if (L[i].compareTo(R[j]) <= 0) {\n",
    "                arr[k] = L[i];\n",
    "                i++;\n",
    "            }\n",
    "            else {\n",
    "                arr[k] = R[j];\n",
    "                j++;\n",
    "            }\n",
    "            k++;\n",
    "        }\n",
    "\n",
    "        /* Copy remaining elements of L[] if any */\n",
    "        while (i < n1) {\n",
    "            arr[k] = L[i];\n",
    "            i++;\n",
    "            k++;\n",
    "        }\n",
    "\n",
    "        /* Copy remaining elements of R[] if any */\n",
    "        while (j < n2) {\n",
    "            arr[k] = R[j];\n",
    "            j++;\n",
    "            k++;\n",
    "        }\n",
    "    }\n",
    "\n",
    "    public void sort(String arr[], int l, int r) {\n",
    "        if (l < r) {\n",
    "            int mid = l + (r - l) / 2;\n",
    "\n",
    "            sort(arr, l, mid);\n",
    "            sort(arr, mid + 1, r);\n",
    "\n",
    "            //run merge\n",
    "            merge(arr, l, mid, r);\n",
    "        }\n",
    "\n",
    "    }\n",
    "\n",
    "    public static void main(String[] args) {\n",
    "        Hack hack = new Hack();\n",
    "        String[] test = {\"b\", \"a\", \"test2\", \"wow\"};\n",
    "        hack.sort(test, 0, test.length - 1);\n",
    "        System.out.println(Arrays.toString(test));\n",
    "    }\n",
    "}\n",
    "Hack.main(null);"
   ]
  }
 ],
 "metadata": {
  "kernelspec": {
   "display_name": "Java",
   "language": "java",
   "name": "java"
  },
  "language_info": {
   "codemirror_mode": "java",
   "file_extension": ".jshell",
   "mimetype": "text/x-java-source",
   "name": "Java",
   "pygments_lexer": "java",
   "version": "17.0.5+8-Ubuntu-2ubuntu120.04"
  },
  "orig_nbformat": 4
 },
 "nbformat": 4,
 "nbformat_minor": 2
}
