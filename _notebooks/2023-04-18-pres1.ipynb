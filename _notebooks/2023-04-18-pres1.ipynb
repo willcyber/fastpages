{
 "cells": [
  {
   "attachments": {},
   "cell_type": "markdown",
   "metadata": {},
   "source": [
    "# Pres 1\n",
    "- toc: true \n",
    "- badges: true\n",
    "- comments: true\n",
    "- categories: [tri3]\n",
    "- image: images/chart-preview.png"
   ]
  },
  {
   "attachments": {},
   "cell_type": "markdown",
   "metadata": {},
   "source": [
    "## Merge Sort\n",
    "- implement with recursive function"
   ]
  },
  {
   "cell_type": "markdown",
   "metadata": {},
   "source": []
  },
  {
   "cell_type": "code",
   "execution_count": 7,
   "metadata": {
    "vscode": {
     "languageId": "java"
    }
   },
   "outputs": [
    {
     "name": "stdout",
     "output_type": "stream",
     "text": [
      "10\n",
      "21\n",
      "33\n",
      "46\n",
      "60\n",
      "75\n",
      "91\n",
      "stop\n"
     ]
    }
   ],
   "source": [
    "int sum = 0;\n",
    "public void recursionex(int n) {\n",
    "    sum += n;\n",
    "    System.out.println(sum);\n",
    "    if (n>15) {\n",
    "        System.out.println(\"stop\");\n",
    "    }\n",
    "    else {\n",
    "        recursionex(n+1);\n",
    "    }\n",
    "  \n",
    "}\n",
    "recursionex(10);"
   ]
  },
  {
   "cell_type": "code",
   "execution_count": null,
   "metadata": {
    "vscode": {
     "languageId": "java"
    }
   },
   "outputs": [],
   "source": [
    "//don't run lol\n",
    "int sum = 0;\n",
    "public void infiniteex(int n) {\n",
    "    sum += n;\n",
    "    System.out.println(sum);\n",
    "    if (n>15) {\n",
    "        System.out.println(\"stop\");\n",
    "    }\n",
    "    infiniteex(n+1);\n",
    "  \n",
    "}\n",
    "// infiniteex(10);"
   ]
  }
 ],
 "metadata": {
  "kernelspec": {
   "display_name": "Java",
   "language": "java",
   "name": "java"
  },
  "language_info": {
   "codemirror_mode": "java",
   "file_extension": ".jshell",
   "mimetype": "text/x-java-source",
   "name": "Java",
   "pygments_lexer": "java",
   "version": "17.0.5+8-Ubuntu-2ubuntu120.04"
  },
  "orig_nbformat": 4
 },
 "nbformat": 4,
 "nbformat_minor": 2
}
